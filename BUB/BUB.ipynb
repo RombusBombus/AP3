{
 "cells": [
  {
   "cell_type": "code",
   "execution_count": 26,
   "metadata": {},
   "outputs": [],
   "source": [
    "import numpy as np\n",
    "import pandas as pd\n",
    "import matplotlib.pyplot as plt\n",
    "from sympy import *\n",
    "import sys\n",
    "sys.path.append(\"../\")\n",
    "from utils.fehler_gauss import fehler_gauss\n",
    "from scipy.optimize import curve_fit\n",
    "import matplotlib.ticker as ticker"
   ]
  },
  {
   "cell_type": "markdown",
   "metadata": {},
   "source": [
    "## Beugung Spalt"
   ]
  },
  {
   "cell_type": "code",
   "execution_count": 27,
   "metadata": {},
   "outputs": [
    {
     "data": {
      "text/html": [
       "<div>\n",
       "<style scoped>\n",
       "    .dataframe tbody tr th:only-of-type {\n",
       "        vertical-align: middle;\n",
       "    }\n",
       "\n",
       "    .dataframe tbody tr th {\n",
       "        vertical-align: top;\n",
       "    }\n",
       "\n",
       "    .dataframe thead th {\n",
       "        text-align: right;\n",
       "    }\n",
       "</style>\n",
       "<table border=\"1\" class=\"dataframe\">\n",
       "  <thead>\n",
       "    <tr style=\"text-align: right;\">\n",
       "      <th></th>\n",
       "      <th>Position Schirm</th>\n",
       "      <th>1</th>\n",
       "      <th>2</th>\n",
       "      <th>3</th>\n",
       "      <th>4</th>\n",
       "      <th>5</th>\n",
       "    </tr>\n",
       "  </thead>\n",
       "  <tbody>\n",
       "    <tr>\n",
       "      <th>0</th>\n",
       "      <td>1.97</td>\n",
       "      <td>0.0159</td>\n",
       "      <td>0.0314</td>\n",
       "      <td>0.0469</td>\n",
       "      <td>0.06075</td>\n",
       "      <td>0.0752</td>\n",
       "    </tr>\n",
       "    <tr>\n",
       "      <th>1</th>\n",
       "      <td>1.30</td>\n",
       "      <td>0.0100</td>\n",
       "      <td>0.0185</td>\n",
       "      <td>0.0255</td>\n",
       "      <td>0.03500</td>\n",
       "      <td>0.0450</td>\n",
       "    </tr>\n",
       "    <tr>\n",
       "      <th>2</th>\n",
       "      <td>0.77</td>\n",
       "      <td>0.0055</td>\n",
       "      <td>0.0105</td>\n",
       "      <td>0.0145</td>\n",
       "      <td>0.01900</td>\n",
       "      <td>0.0235</td>\n",
       "    </tr>\n",
       "  </tbody>\n",
       "</table>\n",
       "</div>"
      ],
      "text/plain": [
       "   Position Schirm       1       2       3        4       5\n",
       "0             1.97  0.0159  0.0314  0.0469  0.06075  0.0752\n",
       "1             1.30  0.0100  0.0185  0.0255  0.03500  0.0450\n",
       "2             0.77  0.0055  0.0105  0.0145  0.01900  0.0235"
      ]
     },
     "execution_count": 27,
     "metadata": {},
     "output_type": "execute_result"
    }
   ],
   "source": [
    "pos_spalt = 27e-3\n",
    "\n",
    "u_pos_objekte = 3e-3 # 3mm Unsicherheit für alle Objekte auf der optischen Bank\n",
    "\n",
    "pos_laser = 1.5e-2\n",
    "u_pos_laser = 5e-3\n",
    "\n",
    "d_schirm_papier = 0.6e-2\n",
    "\n",
    "u_ablese = 0.5e-3 # halber Millimeter Unsicherheit beim Ablesen\n",
    "u_messschieber = 0.05e-3 # 0.05mm Unsicherheit beim Messschieber nach Herstellerangabe\n",
    "\n",
    "lambda_laser = 532e-9\n",
    "u_lambda_laser = 1e-9\n",
    "\n",
    "beugung_spalt = pd.read_excel(\"BUB.xlsx\", sheet_name=\"LaserBeugungSpalt\")\n",
    "beugung_spalt[[i for i in range(1, 6)]] *= 1e-2 # Abstaende Minima in cm\n",
    "beugung_spalt[\"Position Schirm\"] *= 1e-2 # Position Schirm in cm\n",
    "beugung_spalt"
   ]
  },
  {
   "cell_type": "markdown",
   "metadata": {},
   "source": [
    "$$\\tan \\alpha = \\frac{s}{l}$$\n",
    "\n",
    "Die Werte im DataFrame sind die Abstände zwischen zwei Minima gleicher Ordnung, also $2 s$.\n",
    "\n",
    "$l$ ist der Abstand zwischen Spalt und Schirm"
   ]
  },
  {
   "cell_type": "code",
   "execution_count": 28,
   "metadata": {},
   "outputs": [
    {
     "data": {
      "text/html": [
       "<div>\n",
       "<style scoped>\n",
       "    .dataframe tbody tr th:only-of-type {\n",
       "        vertical-align: middle;\n",
       "    }\n",
       "\n",
       "    .dataframe tbody tr th {\n",
       "        vertical-align: top;\n",
       "    }\n",
       "\n",
       "    .dataframe thead th {\n",
       "        text-align: right;\n",
       "    }\n",
       "</style>\n",
       "<table border=\"1\" class=\"dataframe\">\n",
       "  <thead>\n",
       "    <tr style=\"text-align: right;\">\n",
       "      <th></th>\n",
       "      <th>1</th>\n",
       "      <th>2</th>\n",
       "      <th>3</th>\n",
       "      <th>4</th>\n",
       "      <th>5</th>\n",
       "    </tr>\n",
       "  </thead>\n",
       "  <tbody>\n",
       "    <tr>\n",
       "      <th>0</th>\n",
       "      <td>0.00795</td>\n",
       "      <td>0.01570</td>\n",
       "      <td>0.02345</td>\n",
       "      <td>0.030375</td>\n",
       "      <td>0.03760</td>\n",
       "    </tr>\n",
       "    <tr>\n",
       "      <th>1</th>\n",
       "      <td>0.00500</td>\n",
       "      <td>0.00925</td>\n",
       "      <td>0.01275</td>\n",
       "      <td>0.017500</td>\n",
       "      <td>0.02250</td>\n",
       "    </tr>\n",
       "    <tr>\n",
       "      <th>2</th>\n",
       "      <td>0.00275</td>\n",
       "      <td>0.00525</td>\n",
       "      <td>0.00725</td>\n",
       "      <td>0.009500</td>\n",
       "      <td>0.01175</td>\n",
       "    </tr>\n",
       "  </tbody>\n",
       "</table>\n",
       "</div>"
      ],
      "text/plain": [
       "         1        2        3         4        5\n",
       "0  0.00795  0.01570  0.02345  0.030375  0.03760\n",
       "1  0.00500  0.00925  0.01275  0.017500  0.02250\n",
       "2  0.00275  0.00525  0.00725  0.009500  0.01175"
      ]
     },
     "execution_count": 28,
     "metadata": {},
     "output_type": "execute_result"
    }
   ],
   "source": [
    "s = beugung_spalt[[i for i in range(1, 6)]] / 2\n",
    "u_s = np.sqrt(u_messschieber**2 + u_ablese**2 + 1e-3**2)\n",
    "\n",
    "l = beugung_spalt[\"Position Schirm\"] + d_schirm_papier - pos_spalt\n",
    "u_l = np.sqrt(u_pos_objekte**2 + u_ablese**2 + u_messschieber**2)\n",
    "\n",
    "s"
   ]
  },
  {
   "cell_type": "code",
   "execution_count": 29,
   "metadata": {},
   "outputs": [
    {
     "data": {
      "text/plain": [
       "np.float64(1.1191514642799696)"
      ]
     },
     "execution_count": 29,
     "metadata": {},
     "output_type": "execute_result"
    }
   ],
   "source": [
    "u_s * 1e3"
   ]
  },
  {
   "cell_type": "code",
   "execution_count": 30,
   "metadata": {},
   "outputs": [
    {
     "data": {
      "text/plain": [
       "array([[0.00407901, 0.00805541, 0.01203181, 0.01558492, 0.01929194],\n",
       "       [0.0039093 , 0.00723221, 0.00996873, 0.01368256, 0.01759187],\n",
       "       [0.00367156, 0.00700935, 0.00967957, 0.01268358, 0.01568758]])"
      ]
     },
     "execution_count": 30,
     "metadata": {},
     "output_type": "execute_result"
    }
   ],
   "source": [
    "# s durch l mit Fehlern berechnen\n",
    "s_symbol, l_symbol = symbols(\"s l\")\n",
    "s_durch_l_formula = s_symbol / l_symbol\n",
    "\n",
    "s_durch_l, u_s_durch_l = fehler_gauss(\n",
    "    s_durch_l_formula,\n",
    "    [s_symbol, l_symbol],\n",
    "    [s.values, l.values.repeat(5).reshape(3, 5)],\n",
    "    [u_s, u_l]\n",
    ")\n",
    "s_durch_l"
   ]
  },
  {
   "cell_type": "markdown",
   "metadata": {},
   "source": [
    "Minima: $n \\lambda = d \\sin\\alpha \\approx d \\frac{s}{l} \\implies n \\frac{\\lambda}{d} = \\frac{s}{l}$\n",
    "Steigung aus linearer Regression: $m = \\frac{\\lambda}{d} \\implies d = \\frac{\\lambda}{m}$"
   ]
  },
  {
   "cell_type": "code",
   "execution_count": 31,
   "metadata": {},
   "outputs": [
    {
     "data": {
      "text/plain": [
       "np.float64(0.004595579860963522)"
      ]
     },
     "execution_count": 31,
     "metadata": {},
     "output_type": "execute_result"
    }
   ],
   "source": [
    "# s durch l in DataFrame\n",
    "s_durch_l = pd.DataFrame(s_durch_l, columns=[i for i in range(1, 6)])\n",
    "s_durch_l[[f\"u_{i}\" for i in range(1, 6)]] = u_s_durch_l\n",
    "\n",
    "# exakt berechnete alphas\n",
    "alphas = np.arctan(s / l.values.repeat(5, axis=0).reshape((3, 5)))\n",
    "\n",
    "# durchschnittliche relative Abweichungen der Kleinwinkelnäherung\n",
    "rel_abweichungen = ((alphas / s_durch_l) - 1).abs()[[i for i in range(1, 6)]].mean()\n",
    "rel_abweichungen.mean() * 100 # durchschnittliche relative Abweichung in Prozent"
   ]
  },
  {
   "cell_type": "code",
   "execution_count": 32,
   "metadata": {},
   "outputs": [
    {
     "data": {
      "image/png": "[encoded data removed]",
      "text/plain": [
       "<Figure size 640x480 with 1 Axes>"
      ]
     },
     "metadata": {},
     "output_type": "display_data"
    }
   ],
   "source": [
    "alphas_vals = s_durch_l[[i for i in range(1, 6)]]\n",
    "alphas_errs = s_durch_l[[f\"u_{i}\" for i in range(1, 6)]]\n",
    "\n",
    "# Regression s/l gegen Ordnung\n",
    "def linear(x, m, b):\n",
    "    return m * x + b\n",
    "\n",
    "n = alphas_vals.columns.repeat(3).values.reshape((5, 3)).T.flatten()\n",
    "popt, pcov = curve_fit(linear, n, alphas_vals.values.flatten(), sigma=alphas_errs.values.flatten())\n",
    "\n",
    "X = np.linspace(n.min(), n.max(), 100)\n",
    "Y = linear(X, *popt)\n",
    "\n",
    "for i in range(0, 3):\n",
    "    plt.errorbar(\n",
    "        x=alphas_vals.columns,\n",
    "        y=alphas_vals.iloc[i],\n",
    "        fmt=\".\",\n",
    "        capsize=2,\n",
    "        yerr=alphas_errs.iloc[i],\n",
    "        label=f\"{beugung_spalt.iloc[i][\"Position Schirm\"]} m\",\n",
    "    )\n",
    "fit_label = \"y = \" + \\\n",
    "    str(np.round(popt[0] * 100, 2)) + r\"$\\cdot 10^{-2} x$ + \" + str(np.round(popt[1] * 100, 2)) + r\"$\\cdot 10^{-2}$\"\n",
    "plt.plot(X, Y, label=fit_label)\n",
    "plt.grid(True)\n",
    "plt.legend()\n",
    "plt.xlabel(\"Ordnung\")\n",
    "plt.ylabel(r\"$s/l \\approx \\alpha$ [rad]\")\n",
    "plt.gca().xaxis.set_major_locator(ticker.MaxNLocator(integer=True))\n",
    "plt.savefig(\"beugung_spalt.svg\")"
   ]
  },
  {
   "cell_type": "code",
   "execution_count": 33,
   "metadata": {},
   "outputs": [
    {
     "name": "stdout",
     "output_type": "stream",
     "text": [
      "Steigung: 0.0036052982465836323 +- 0.00017078212210612333\n"
     ]
    }
   ],
   "source": [
    "print(\"Steigung:\", popt[0], \"+-\", np.sqrt(pcov[0, 0]))"
   ]
  },
  {
   "cell_type": "code",
   "execution_count": 34,
   "metadata": {},
   "outputs": [
    {
     "name": "stdout",
     "output_type": "stream",
     "text": [
      "Spaltbreite: 147.56060764296583 +- 6.995411999582303 µm\n"
     ]
    }
   ],
   "source": [
    "lambda_symbol, m_symbol = symbols(\"lambda m\")\n",
    "d_formula = lambda_symbol / m_symbol\n",
    "\n",
    "d_val, u_d = fehler_gauss(\n",
    "    d_formula,\n",
    "    [lambda_symbol, m_symbol],\n",
    "    [lambda_laser, popt[0]],\n",
    "    [u_lambda_laser, np.sqrt(pcov[0, 0])]\n",
    ")\n",
    "print(\"Spaltbreite:\", d_val * 1e6, \"+-\", u_d * 1e6, \"µm\")"
   ]
  },
  {
   "cell_type": "markdown",
   "metadata": {},
   "source": [
    "## Beugung am Gitter"
   ]
  },
  {
   "cell_type": "code",
   "execution_count": 35,
   "metadata": {},
   "outputs": [
    {
     "data": {
      "text/html": [
       "<div>\n",
       "<style scoped>\n",
       "    .dataframe tbody tr th:only-of-type {\n",
       "        vertical-align: middle;\n",
       "    }\n",
       "\n",
       "    .dataframe tbody tr th {\n",
       "        vertical-align: top;\n",
       "    }\n",
       "\n",
       "    .dataframe thead th {\n",
       "        text-align: right;\n",
       "    }\n",
       "</style>\n",
       "<table border=\"1\" class=\"dataframe\">\n",
       "  <thead>\n",
       "    <tr style=\"text-align: right;\">\n",
       "      <th></th>\n",
       "      <th></th>\n",
       "      <th>Blau</th>\n",
       "      <th>Gruen</th>\n",
       "      <th>Orange</th>\n",
       "      <th>Position Schirm</th>\n",
       "    </tr>\n",
       "  </thead>\n",
       "  <tbody>\n",
       "    <tr>\n",
       "      <th rowspan=\"5\" valign=\"top\">1</th>\n",
       "      <th>0</th>\n",
       "      <td>0.051</td>\n",
       "      <td>0.063</td>\n",
       "      <td>0.067</td>\n",
       "      <td>0.635</td>\n",
       "    </tr>\n",
       "    <tr>\n",
       "      <th>1</th>\n",
       "      <td>0.102</td>\n",
       "      <td>0.128</td>\n",
       "      <td>0.135</td>\n",
       "      <td>0.635</td>\n",
       "    </tr>\n",
       "    <tr>\n",
       "      <th>2</th>\n",
       "      <td>0.153</td>\n",
       "      <td>0.193</td>\n",
       "      <td>0.204</td>\n",
       "      <td>0.635</td>\n",
       "    </tr>\n",
       "    <tr>\n",
       "      <th>3</th>\n",
       "      <td>0.179</td>\n",
       "      <td>0.259</td>\n",
       "      <td>0.273</td>\n",
       "      <td>0.635</td>\n",
       "    </tr>\n",
       "    <tr>\n",
       "      <th>4</th>\n",
       "      <td>NaN</td>\n",
       "      <td>0.328</td>\n",
       "      <td>0.350</td>\n",
       "      <td>0.635</td>\n",
       "    </tr>\n",
       "    <tr>\n",
       "      <th rowspan=\"5\" valign=\"top\">2</th>\n",
       "      <th>0</th>\n",
       "      <td>0.036</td>\n",
       "      <td>0.043</td>\n",
       "      <td>0.047</td>\n",
       "      <td>0.454</td>\n",
       "    </tr>\n",
       "    <tr>\n",
       "      <th>1</th>\n",
       "      <td>0.074</td>\n",
       "      <td>0.088</td>\n",
       "      <td>0.093</td>\n",
       "      <td>0.454</td>\n",
       "    </tr>\n",
       "    <tr>\n",
       "      <th>2</th>\n",
       "      <td>0.144</td>\n",
       "      <td>0.133</td>\n",
       "      <td>0.141</td>\n",
       "      <td>0.454</td>\n",
       "    </tr>\n",
       "    <tr>\n",
       "      <th>3</th>\n",
       "      <td>0.178</td>\n",
       "      <td>0.179</td>\n",
       "      <td>0.191</td>\n",
       "      <td>0.454</td>\n",
       "    </tr>\n",
       "    <tr>\n",
       "      <th>4</th>\n",
       "      <td>0.215</td>\n",
       "      <td>0.226</td>\n",
       "      <td>0.242</td>\n",
       "      <td>0.454</td>\n",
       "    </tr>\n",
       "    <tr>\n",
       "      <th rowspan=\"5\" valign=\"top\">3</th>\n",
       "      <th>0</th>\n",
       "      <td>0.026</td>\n",
       "      <td>0.033</td>\n",
       "      <td>0.035</td>\n",
       "      <td>0.341</td>\n",
       "    </tr>\n",
       "    <tr>\n",
       "      <th>1</th>\n",
       "      <td>0.051</td>\n",
       "      <td>0.064</td>\n",
       "      <td>0.067</td>\n",
       "      <td>0.341</td>\n",
       "    </tr>\n",
       "    <tr>\n",
       "      <th>2</th>\n",
       "      <td>0.077</td>\n",
       "      <td>0.096</td>\n",
       "      <td>0.101</td>\n",
       "      <td>0.341</td>\n",
       "    </tr>\n",
       "    <tr>\n",
       "      <th>3</th>\n",
       "      <td>0.105</td>\n",
       "      <td>0.128</td>\n",
       "      <td>0.137</td>\n",
       "      <td>0.341</td>\n",
       "    </tr>\n",
       "    <tr>\n",
       "      <th>4</th>\n",
       "      <td>0.144</td>\n",
       "      <td>0.165</td>\n",
       "      <td>0.175</td>\n",
       "      <td>0.341</td>\n",
       "    </tr>\n",
       "  </tbody>\n",
       "</table>\n",
       "</div>"
      ],
      "text/plain": [
       "      Blau  Gruen  Orange  Position Schirm\n",
       "1 0  0.051  0.063   0.067            0.635\n",
       "  1  0.102  0.128   0.135            0.635\n",
       "  2  0.153  0.193   0.204            0.635\n",
       "  3  0.179  0.259   0.273            0.635\n",
       "  4    NaN  0.328   0.350            0.635\n",
       "2 0  0.036  0.043   0.047            0.454\n",
       "  1  0.074  0.088   0.093            0.454\n",
       "  2  0.144  0.133   0.141            0.454\n",
       "  3  0.178  0.179   0.191            0.454\n",
       "  4  0.215  0.226   0.242            0.454\n",
       "3 0  0.026  0.033   0.035            0.341\n",
       "  1  0.051  0.064   0.067            0.341\n",
       "  2  0.077  0.096   0.101            0.341\n",
       "  3  0.105  0.128   0.137            0.341\n",
       "  4  0.144  0.165   0.175            0.341"
      ]
     },
     "execution_count": 35,
     "metadata": {},
     "output_type": "execute_result"
    }
   ],
   "source": [
    "pos_schirm = np.array([63.5, 45.4, 34.1])\n",
    "u_pos_schirm = 0.5e-3\n",
    "\n",
    "pos_gitter = 6.7e-2\n",
    "u_pos_gitter = 0.5e-3\n",
    "\n",
    "dfs = {\n",
    "    i: pd.read_excel(\"BUB.xlsx\", sheet_name=f\"Beugungsgitter{i}\") for i in range(1, 4)\n",
    "}\n",
    "beugung_gitter = pd.concat(dfs)\n",
    "beugung_gitter[\"Position Schirm\"] = pos_schirm.repeat(5)\n",
    "beugung_gitter *= 1e-2  # Abstaende Minima in cm\n",
    "beugung_gitter"
   ]
  },
  {
   "cell_type": "code",
   "execution_count": 36,
   "metadata": {},
   "outputs": [
    {
     "name": "stdout",
     "output_type": "stream",
     "text": [
      "u_s_gitter: 0.0005024937810560445\n",
      "u_l_gitter: 0.003041792234851026\n"
     ]
    },
    {
     "data": {
      "text/html": [
       "<div>\n",
       "<style scoped>\n",
       "    .dataframe tbody tr th:only-of-type {\n",
       "        vertical-align: middle;\n",
       "    }\n",
       "\n",
       "    .dataframe tbody tr th {\n",
       "        vertical-align: top;\n",
       "    }\n",
       "\n",
       "    .dataframe thead th {\n",
       "        text-align: right;\n",
       "    }\n",
       "</style>\n",
       "<table border=\"1\" class=\"dataframe\">\n",
       "  <thead>\n",
       "    <tr style=\"text-align: right;\">\n",
       "      <th></th>\n",
       "      <th></th>\n",
       "      <th>Blau</th>\n",
       "      <th>Gruen</th>\n",
       "      <th>Orange</th>\n",
       "      <th>Position Schirm</th>\n",
       "      <th>s Blau</th>\n",
       "      <th>s Gruen</th>\n",
       "      <th>s Orange</th>\n",
       "      <th>l</th>\n",
       "    </tr>\n",
       "  </thead>\n",
       "  <tbody>\n",
       "    <tr>\n",
       "      <th rowspan=\"5\" valign=\"top\">1</th>\n",
       "      <th>0</th>\n",
       "      <td>0.051</td>\n",
       "      <td>0.063</td>\n",
       "      <td>0.067</td>\n",
       "      <td>0.635</td>\n",
       "      <td>0.0255</td>\n",
       "      <td>0.0315</td>\n",
       "      <td>0.0335</td>\n",
       "      <td>0.574</td>\n",
       "    </tr>\n",
       "    <tr>\n",
       "      <th>1</th>\n",
       "      <td>0.102</td>\n",
       "      <td>0.128</td>\n",
       "      <td>0.135</td>\n",
       "      <td>0.635</td>\n",
       "      <td>0.0510</td>\n",
       "      <td>0.0640</td>\n",
       "      <td>0.0675</td>\n",
       "      <td>0.574</td>\n",
       "    </tr>\n",
       "    <tr>\n",
       "      <th>2</th>\n",
       "      <td>0.153</td>\n",
       "      <td>0.193</td>\n",
       "      <td>0.204</td>\n",
       "      <td>0.635</td>\n",
       "      <td>0.0765</td>\n",
       "      <td>0.0965</td>\n",
       "      <td>0.1020</td>\n",
       "      <td>0.574</td>\n",
       "    </tr>\n",
       "    <tr>\n",
       "      <th>3</th>\n",
       "      <td>0.179</td>\n",
       "      <td>0.259</td>\n",
       "      <td>0.273</td>\n",
       "      <td>0.635</td>\n",
       "      <td>0.0895</td>\n",
       "      <td>0.1295</td>\n",
       "      <td>0.1365</td>\n",
       "      <td>0.574</td>\n",
       "    </tr>\n",
       "    <tr>\n",
       "      <th>4</th>\n",
       "      <td>NaN</td>\n",
       "      <td>0.328</td>\n",
       "      <td>0.350</td>\n",
       "      <td>0.635</td>\n",
       "      <td>NaN</td>\n",
       "      <td>0.1640</td>\n",
       "      <td>0.1750</td>\n",
       "      <td>0.574</td>\n",
       "    </tr>\n",
       "    <tr>\n",
       "      <th rowspan=\"5\" valign=\"top\">2</th>\n",
       "      <th>0</th>\n",
       "      <td>0.036</td>\n",
       "      <td>0.043</td>\n",
       "      <td>0.047</td>\n",
       "      <td>0.454</td>\n",
       "      <td>0.0180</td>\n",
       "      <td>0.0215</td>\n",
       "      <td>0.0235</td>\n",
       "      <td>0.393</td>\n",
       "    </tr>\n",
       "    <tr>\n",
       "      <th>1</th>\n",
       "      <td>0.074</td>\n",
       "      <td>0.088</td>\n",
       "      <td>0.093</td>\n",
       "      <td>0.454</td>\n",
       "      <td>0.0370</td>\n",
       "      <td>0.0440</td>\n",
       "      <td>0.0465</td>\n",
       "      <td>0.393</td>\n",
       "    </tr>\n",
       "    <tr>\n",
       "      <th>2</th>\n",
       "      <td>0.144</td>\n",
       "      <td>0.133</td>\n",
       "      <td>0.141</td>\n",
       "      <td>0.454</td>\n",
       "      <td>0.0720</td>\n",
       "      <td>0.0665</td>\n",
       "      <td>0.0705</td>\n",
       "      <td>0.393</td>\n",
       "    </tr>\n",
       "    <tr>\n",
       "      <th>3</th>\n",
       "      <td>0.178</td>\n",
       "      <td>0.179</td>\n",
       "      <td>0.191</td>\n",
       "      <td>0.454</td>\n",
       "      <td>0.0890</td>\n",
       "      <td>0.0895</td>\n",
       "      <td>0.0955</td>\n",
       "      <td>0.393</td>\n",
       "    </tr>\n",
       "    <tr>\n",
       "      <th>4</th>\n",
       "      <td>0.215</td>\n",
       "      <td>0.226</td>\n",
       "      <td>0.242</td>\n",
       "      <td>0.454</td>\n",
       "      <td>0.1075</td>\n",
       "      <td>0.1130</td>\n",
       "      <td>0.1210</td>\n",
       "      <td>0.393</td>\n",
       "    </tr>\n",
       "    <tr>\n",
       "      <th rowspan=\"5\" valign=\"top\">3</th>\n",
       "      <th>0</th>\n",
       "      <td>0.026</td>\n",
       "      <td>0.033</td>\n",
       "      <td>0.035</td>\n",
       "      <td>0.341</td>\n",
       "      <td>0.0130</td>\n",
       "      <td>0.0165</td>\n",
       "      <td>0.0175</td>\n",
       "      <td>0.280</td>\n",
       "    </tr>\n",
       "    <tr>\n",
       "      <th>1</th>\n",
       "      <td>0.051</td>\n",
       "      <td>0.064</td>\n",
       "      <td>0.067</td>\n",
       "      <td>0.341</td>\n",
       "      <td>0.0255</td>\n",
       "      <td>0.0320</td>\n",
       "      <td>0.0335</td>\n",
       "      <td>0.280</td>\n",
       "    </tr>\n",
       "    <tr>\n",
       "      <th>2</th>\n",
       "      <td>0.077</td>\n",
       "      <td>0.096</td>\n",
       "      <td>0.101</td>\n",
       "      <td>0.341</td>\n",
       "      <td>0.0385</td>\n",
       "      <td>0.0480</td>\n",
       "      <td>0.0505</td>\n",
       "      <td>0.280</td>\n",
       "    </tr>\n",
       "    <tr>\n",
       "      <th>3</th>\n",
       "      <td>0.105</td>\n",
       "      <td>0.128</td>\n",
       "      <td>0.137</td>\n",
       "      <td>0.341</td>\n",
       "      <td>0.0525</td>\n",
       "      <td>0.0640</td>\n",
       "      <td>0.0685</td>\n",
       "      <td>0.280</td>\n",
       "    </tr>\n",
       "    <tr>\n",
       "      <th>4</th>\n",
       "      <td>0.144</td>\n",
       "      <td>0.165</td>\n",
       "      <td>0.175</td>\n",
       "      <td>0.341</td>\n",
       "      <td>0.0720</td>\n",
       "      <td>0.0825</td>\n",
       "      <td>0.0875</td>\n",
       "      <td>0.280</td>\n",
       "    </tr>\n",
       "  </tbody>\n",
       "</table>\n",
       "</div>"
      ],
      "text/plain": [
       "      Blau  Gruen  Orange  Position Schirm  s Blau  s Gruen  s Orange      l\n",
       "1 0  0.051  0.063   0.067            0.635  0.0255   0.0315    0.0335  0.574\n",
       "  1  0.102  0.128   0.135            0.635  0.0510   0.0640    0.0675  0.574\n",
       "  2  0.153  0.193   0.204            0.635  0.0765   0.0965    0.1020  0.574\n",
       "  3  0.179  0.259   0.273            0.635  0.0895   0.1295    0.1365  0.574\n",
       "  4    NaN  0.328   0.350            0.635     NaN   0.1640    0.1750  0.574\n",
       "2 0  0.036  0.043   0.047            0.454  0.0180   0.0215    0.0235  0.393\n",
       "  1  0.074  0.088   0.093            0.454  0.0370   0.0440    0.0465  0.393\n",
       "  2  0.144  0.133   0.141            0.454  0.0720   0.0665    0.0705  0.393\n",
       "  3  0.178  0.179   0.191            0.454  0.0890   0.0895    0.0955  0.393\n",
       "  4  0.215  0.226   0.242            0.454  0.1075   0.1130    0.1210  0.393\n",
       "3 0  0.026  0.033   0.035            0.341  0.0130   0.0165    0.0175  0.280\n",
       "  1  0.051  0.064   0.067            0.341  0.0255   0.0320    0.0335  0.280\n",
       "  2  0.077  0.096   0.101            0.341  0.0385   0.0480    0.0505  0.280\n",
       "  3  0.105  0.128   0.137            0.341  0.0525   0.0640    0.0685  0.280\n",
       "  4  0.144  0.165   0.175            0.341  0.0720   0.0825    0.0875  0.280"
      ]
     },
     "execution_count": 36,
     "metadata": {},
     "output_type": "execute_result"
    }
   ],
   "source": [
    "# s berechnen (Position Schirm - Position Gitter)\n",
    "s_gitter = beugung_gitter[[\"Blau\", \"Gruen\", \"Orange\"]] / 2\n",
    "u_s_gitter = np.sqrt(u_messschieber**2 + u_ablese**2)\n",
    "beugung_gitter[[\"s Blau\", \"s Gruen\", \"s Orange\"]] = s_gitter\n",
    "\n",
    "# l berechnen (Position Papier - Position Gitter)\n",
    "l_gitter = beugung_gitter[\"Position Schirm\"] + d_schirm_papier - pos_gitter\n",
    "u_l_gitter = np.sqrt(u_ablese**2 + u_messschieber**2 + u_pos_objekte**2)\n",
    "beugung_gitter[\"l\"] = l_gitter\n",
    "\n",
    "print(\"u_s_gitter:\", u_s_gitter)\n",
    "print(\"u_l_gitter:\", u_l_gitter)\n",
    "\n",
    "beugung_gitter"
   ]
  },
  {
   "cell_type": "code",
   "execution_count": 37,
   "metadata": {},
   "outputs": [
    {
     "data": {
      "text/plain": [
       "np.float64(1.0393490169309874)"
      ]
     },
     "execution_count": 37,
     "metadata": {},
     "output_type": "execute_result"
    }
   ],
   "source": [
    "# zeigen, dass die Kleinwinkelnäherung zu ungenau ist\n",
    "alphas_kwn = s_gitter / l_gitter.repeat(3).values.reshape((15, -1))\n",
    "alphas_exact = np.arctan(s_gitter / l_gitter.repeat(3).values.reshape((15, -1)))\n",
    "rel_abweichungen = (np.abs(alphas_exact - alphas_kwn) / alphas_exact).dropna()\n",
    "rel_abweichungen.values.mean() * 100  # in Prozent, größer als vorher"
   ]
  },
  {
   "cell_type": "code",
   "execution_count": 38,
   "metadata": {},
   "outputs": [
    {
     "data": {
      "text/latex": [
       "$\\displaystyle \\frac{s}{l \\sqrt{1 + \\frac{s^{2}}{l^{2}}}}$"
      ],
      "text/plain": [
       "s/(l*sqrt(1 + s**2/l**2))"
      ]
     },
     "execution_count": 38,
     "metadata": {},
     "output_type": "execute_result"
    }
   ],
   "source": [
    "# Exakte Winkel auftragen\n",
    "sin_formula = sin(atan(s_symbol / l_symbol))\n",
    "sin_formula"
   ]
  },
  {
   "cell_type": "code",
   "execution_count": 39,
   "metadata": {},
   "outputs": [
    {
     "data": {
      "text/plain": [
       "array([[0.04438131, 0.0547956 , 0.05826323],\n",
       "       [0.08850153, 0.11081159, 0.11679105],\n",
       "       [0.13210716, 0.16579184, 0.17495943],\n",
       "       [0.15406181, 0.2200783 , 0.23135319],\n",
       "       [       nan, 0.27472113, 0.29162576],\n",
       "       [0.04575356, 0.0546257 , 0.05968982],\n",
       "       [0.09373309, 0.11126412, 0.11750098],\n",
       "       [0.18020679, 0.16683954, 0.17657074],\n",
       "       [0.22087019, 0.22205002, 0.23613075],\n",
       "       [0.2638442 , 0.27633566, 0.29425673],\n",
       "       [0.04637861, 0.05882652, 0.06237829],\n",
       "       [0.09069609, 0.11354659, 0.11879563],\n",
       "       [0.13621834, 0.16896382, 0.17749343],\n",
       "       [0.18428854, 0.2228248 , 0.23763495],\n",
       "       [0.24904104, 0.28262998, 0.29827499]])"
      ]
     },
     "execution_count": 39,
     "metadata": {},
     "output_type": "execute_result"
    }
   ],
   "source": [
    "sin_vals, u_sin_vals = fehler_gauss(\n",
    "    sin_formula,\n",
    "    [s_symbol, l_symbol],\n",
    "    [s_gitter.values, l_gitter.values.repeat(3).reshape(15, -1)],\n",
    "    [u_s_gitter, u_l_gitter]\n",
    ")\n",
    "sin_vals"
   ]
  },
  {
   "cell_type": "markdown",
   "metadata": {},
   "source": [
    "Maxima beim Beugungsgitter: $n \\cdot \\lambda = a \\sin\\alpha \\implies \\frac{\\lambda}{a} n = \\sin\\alpha$\n",
    "\n",
    "Steigung $m = \\frac{\\lambda}{a} \\implies \\lambda = m \\cdot a$"
   ]
  },
  {
   "cell_type": "code",
   "execution_count": 40,
   "metadata": {},
   "outputs": [
    {
     "data": {
      "text/latex": [
       "$\\displaystyle a m$"
      ],
      "text/plain": [
       "a*m"
      ]
     },
     "execution_count": 40,
     "metadata": {},
     "output_type": "execute_result"
    }
   ],
   "source": [
    "a_symbol = symbols(\"a\")\n",
    "\n",
    "lambda_formula = m_symbol * a_symbol\n",
    "lambda_formula"
   ]
  },
  {
   "cell_type": "code",
   "execution_count": 41,
   "metadata": {},
   "outputs": [
    {
     "name": "stdout",
     "output_type": "stream",
     "text": [
      "Steigung Blau: 0.04710839540995239 +- 0.003948433185225901\n",
      "Gerade geht durch den Ursprung, Achsenabschnitt: -0.0028861744801710345 +- 0.010532792533838252\n",
      "471.08395409952396 +- 39.495571171797934 nm\n",
      "Steigung Grün: 0.055221481499980796 +- 0.00029991276485268666\n",
      "Gerade geht durch den Ursprung, Achsenabschnitt: 0.00042968454251934504 +- 0.0008467947141437513\n",
      "552.214814999808 +- 3.196018063118446 nm\n",
      "Steigung Orange: 0.05836510907234932 +- 0.0003313462698023003\n",
      "Gerade geht durch den Ursprung, Achsenabschnitt: 0.0006888510633481695 +- 0.0009271263112146731\n",
      "583.6510907234932 +- 3.513065532266766 nm\n"
     ]
    },
    {
     "data": {
      "image/png": "[encoded data removed]",
      "text/plain": [
       "<Figure size 1700x500 with 3 Axes>"
      ]
     },
     "metadata": {},
     "output_type": "display_data"
    }
   ],
   "source": [
    "a = 10e-6\n",
    "u_a = 0.2e-2 * a # 0.2% relative Unsicherheit\n",
    "\n",
    "farben = [\"Blau\", \"Grün\", \"Orange\"]\n",
    "spektrallinien = []\n",
    "u_spektrallinien = []\n",
    "\n",
    "fig, axs = plt.subplots(1, 3, figsize=(17, 5))\n",
    "axs = axs.flatten()\n",
    "\n",
    "for i, farbe in enumerate(farben):\n",
    "    # Regression durchfuehren fuer jede Farbe\n",
    "    n = np.tile(np.arange(1, 6), 3)\n",
    "    no_nans = ~np.isnan(sin_vals[:, i]) # filter nans\n",
    "    n = n[no_nans]\n",
    "    sin_vals_no_nans = sin_vals[no_nans, i]\n",
    "    u_sin_vals_no_nans = u_sin_vals[no_nans, i]\n",
    "    popt, pcov = curve_fit(linear, n, sin_vals_no_nans, sigma=u_sin_vals_no_nans)\n",
    "    X = np.linspace(n.min(), n.max(), 100)\n",
    "    Y = linear(X, *popt)\n",
    "\n",
    "    # Die Steigung mit Fehler ausgeben\n",
    "    print(f\"Steigung {farbe}: {popt[0]} +- {np.sqrt(pcov[0, 0])}\")\n",
    "\n",
    "    # checken, ob die Gerade durch den Ursprung geht\n",
    "    achsenabschnitt = popt[1]\n",
    "    u_achsenabschnitt = np.sqrt(pcov[1, 1])\n",
    "    achsenabschnitt_max = achsenabschnitt + u_achsenabschnitt\n",
    "    achsenabschnitt_min = achsenabschnitt - u_achsenabschnitt\n",
    "\n",
    "    if achsenabschnitt_min <= 0 <= achsenabschnitt_max:\n",
    "        print(f\"Gerade geht durch den Ursprung, Achsenabschnitt: {achsenabschnitt} +- {u_achsenabschnitt}\")\n",
    "\n",
    "    # Wellenlaenge berechnen\n",
    "    lambda_val, u_lambda = fehler_gauss(\n",
    "        lambda_formula,\n",
    "        [m_symbol, a_symbol],\n",
    "        [popt[0], a],\n",
    "        [np.sqrt(pcov[0, 0]), u_a]\n",
    "    )\n",
    "    print(lambda_val * 1e9, \"+-\", u_lambda * 1e9, \"nm\")\n",
    "    spektrallinien.append(lambda_val)\n",
    "    u_spektrallinien.append(u_lambda)\n",
    "\n",
    "    # Plotten\n",
    "    for j in range(3):\n",
    "        axs[i].errorbar(\n",
    "            x=np.arange(1, 6),\n",
    "            y=sin_vals[j*5:((j+1)*5), i],\n",
    "            fmt=\".\",\n",
    "            capsize=2,\n",
    "            yerr=u_sin_vals[j*5:((j+1)*5), i],\n",
    "            label=f\"{beugung_gitter.iloc[j*5]['Position Schirm']} m, {farbe}\",\n",
    "        )\n",
    "    fit_label = f\"y = {np.round(popt[0] * 100, 2)}\" + r\"$\\cdot 10^{-2}$\" + f\"x + {np.round(popt[1] * 100, 2)}\" + r\"$\\cdot 10^{-2}$\"\n",
    "    axs[i].plot(X, Y, label=fit_label)\n",
    "    axs[i].grid(True)\n",
    "    axs[i].xaxis.set_major_locator(ticker.MaxNLocator(integer=True))\n",
    "    axs[i].set_xlabel(\"Ordnung\")\n",
    "    axs[i].set_ylabel(r\"$\\sin(\\alpha)$\")\n",
    "    axs[i].legend()\n",
    "\n",
    "plt.savefig(\"beugung_gitter.png\")\n",
    "\n",
    "spektrallinien = np.array(spektrallinien)\n",
    "u_spektrallinien = np.array(u_spektrallinien)"
   ]
  },
  {
   "cell_type": "markdown",
   "metadata": {},
   "source": [
    "![Literaturwerte](literaturwerte.png)"
   ]
  },
  {
   "cell_type": "code",
   "execution_count": 42,
   "metadata": {},
   "outputs": [
    {
     "name": "stdout",
     "output_type": "stream",
     "text": [
      "---------------------------------\n",
      "Farbe: Blau\n",
      "Unsere Spektrallinie: 471.08395409952396 +- 39.495571171797934 nm\n",
      "Minimaler Wert:  431.588382927726 nm\n",
      "Maximaler Wert:  510.57952527132187 nm\n",
      "Nächster Literaturwert: 491.60360000000003 nm\n",
      "---------------------------------\n",
      "Farbe: Grün\n",
      "Unsere Spektrallinie: 552.214814999808 +- 3.196018063118446 nm\n",
      "Minimaler Wert:  549.0187969366896 nm\n",
      "Maximaler Wert:  555.4108330629264 nm\n",
      "Nächster Literaturwert: 546.074 nm\n",
      "---------------------------------\n",
      "Farbe: Orange\n",
      "Unsere Spektrallinie: 583.6510907234932 +- 3.513065532266766 nm\n",
      "Minimaler Wert:  580.1380251912265 nm\n",
      "Maximaler Wert:  587.16415625576 nm\n",
      "Nächster Literaturwert: 580.365 nm\n"
     ]
    }
   ],
   "source": [
    "spektrallinien_literatur_nm = np.array([3021.499, 3125.663, 3341.478, 3650.146, 3906.410, \\\n",
    "                                        4046.561, 4339.235, 4916.036, 5354.05, 5460.740, 5675.86, \\\n",
    "                                        5769.596, 5803.65, 6234.37, 6716.17, 6907.16, 7081.88, 7346.37]) * 1e-10\n",
    "\n",
    "# diejenigen literaturwerte heraussuchen, die unseren Messungen am nächsten sind\n",
    "for spektrallinie, u_spektrallinie, farbe in zip(spektrallinien, u_spektrallinien, farben):\n",
    "    dist = np.abs(spektrallinien_literatur_nm - spektrallinie)\n",
    "    closest_idx = np.argmin(dist)\n",
    "    print(\"---------------------------------\")\n",
    "    print(f\"Farbe: {farbe}\")\n",
    "    print(\"Unsere Spektrallinie:\", spektrallinie * 1e9, \"+-\", u_spektrallinie * 1e9, \"nm\")\n",
    "    print(\"Minimaler Wert: \", (spektrallinie - u_spektrallinie) * 1e9, \"nm\")\n",
    "    print(\"Maximaler Wert: \", (spektrallinie + u_spektrallinie) * 1e9, \"nm\")\n",
    "    print(\"Nächster Literaturwert:\", spektrallinien_literatur_nm[closest_idx] * 1e9, \"nm\")"
   ]
  },
  {
   "cell_type": "markdown",
   "metadata": {},
   "source": [
    "## Brechung im Prisma\n",
    "\n",
    "Öffnungswinkel: $\\varepsilon = \\frac{\\alpha}{2}$"
   ]
  },
  {
   "cell_type": "code",
   "execution_count": 43,
   "metadata": {},
   "outputs": [
    {
     "name": "stdout",
     "output_type": "stream",
     "text": [
      "Oeffnungswinkel: 59.9 +- 0.14142135623730953 Grad\n"
     ]
    }
   ],
   "source": [
    "u_winkel_deg = 0.1\n",
    "\n",
    "# Oeffnungswinkel\n",
    "alpha = 125.1 - 5.3\n",
    "epsilon = alpha/2\n",
    "u_epsilon = np.sqrt(2 * u_winkel_deg**2)\n",
    "print(\"Oeffnungswinkel:\", epsilon, \"+-\", u_epsilon, \"Grad\")"
   ]
  },
  {
   "cell_type": "code",
   "execution_count": 44,
   "metadata": {},
   "outputs": [],
   "source": [
    "# importieren der Messwerte\n",
    "prisma_quecksilber = pd.read_excel(\"BUB.xlsx\", sheet_name=\"PrismaQuecksilber\")\n",
    "prisma_energiesparlampe = pd.read_excel(\"BUB.xlsx\", sheet_name=\"PrismaEnergiesparlampe\")\n",
    "\n",
    "# Wellenlaengen der Spektrallinien\n",
    "prisma_quecksilber[\"lambda\"] = [578.966, 435.8343, 546.0740]\n",
    "\n",
    "for df in [prisma_quecksilber, prisma_energiesparlampe]:\n",
    "    # delta_min berechnen\n",
    "    df[\"delta_min\"] = df[\"ohne\"] - df[\"mit\"]\n",
    "    df[\"u_delta_min\"] = np.sqrt(2 * u_winkel_deg**2)\n",
    "\n",
    "    # Winkelangaben in rad umrechnen\n",
    "    df[\"delta_min\"] = np.deg2rad(df[\"delta_min\"])\n",
    "    df[\"u_delta_min\"] = np.deg2rad(df[\"u_delta_min\"])"
   ]
  },
  {
   "cell_type": "code",
   "execution_count": 45,
   "metadata": {},
   "outputs": [
    {
     "data": {
      "text/latex": [
       "$\\displaystyle \\frac{\\sin{\\left(\\frac{\\delta_{min}}{2} + \\frac{\\epsilon}{2} \\right)}}{\\sin{\\left(\\frac{\\epsilon}{2} \\right)}}$"
      ],
      "text/plain": [
       "sin(delta_min/2 + epsilon/2)/sin(epsilon/2)"
      ]
     },
     "execution_count": 45,
     "metadata": {},
     "output_type": "execute_result"
    }
   ],
   "source": [
    "delta_min_symbol, epsilon_symbol = symbols(\"delta_min epsilon\")\n",
    "n_formula = sin((delta_min_symbol + epsilon_symbol) / 2) / sin(epsilon_symbol / 2)\n",
    "n_formula"
   ]
  },
  {
   "cell_type": "code",
   "execution_count": 46,
   "metadata": {},
   "outputs": [
    {
     "name": "stderr",
     "output_type": "stream",
     "text": [
      "C:\\Users\\neume\\AppData\\Local\\Temp\\ipykernel_12232\\318762674.py:17: SettingWithCopyWarning: \n",
      "A value is trying to be set on a copy of a slice from a DataFrame.\n",
      "Try using .loc[row_indexer,col_indexer] = value instead\n",
      "\n",
      "See the caveats in the documentation: https://pandas.pydata.org/pandas-docs/stable/user_guide/indexing.html#returning-a-view-versus-a-copy\n",
      "  prisma_quecksilber_preview[\"lambda\"] = prisma_quecksilber_preview[\"lambda\"].round(2)\n",
      "C:\\Users\\neume\\AppData\\Local\\Temp\\ipykernel_12232\\318762674.py:20: SettingWithCopyWarning: \n",
      "A value is trying to be set on a copy of a slice from a DataFrame.\n",
      "Try using .loc[row_indexer,col_indexer] = value instead\n",
      "\n",
      "See the caveats in the documentation: https://pandas.pydata.org/pandas-docs/stable/user_guide/indexing.html#returning-a-view-versus-a-copy\n",
      "  prisma_quecksilber_preview[\"n\"] = ns\n"
     ]
    },
    {
     "data": {
      "text/html": [
       "<div>\n",
       "<style scoped>\n",
       "    .dataframe tbody tr th:only-of-type {\n",
       "        vertical-align: middle;\n",
       "    }\n",
       "\n",
       "    .dataframe tbody tr th {\n",
       "        vertical-align: top;\n",
       "    }\n",
       "\n",
       "    .dataframe thead th {\n",
       "        text-align: right;\n",
       "    }\n",
       "</style>\n",
       "<table border=\"1\" class=\"dataframe\">\n",
       "  <thead>\n",
       "    <tr style=\"text-align: right;\">\n",
       "      <th></th>\n",
       "      <th>lambda</th>\n",
       "      <th>n</th>\n",
       "    </tr>\n",
       "  </thead>\n",
       "  <tbody>\n",
       "    <tr>\n",
       "      <th>0</th>\n",
       "      <td>578.97</td>\n",
       "      <td>\\SI{1.624+-0.002}{}</td>\n",
       "    </tr>\n",
       "    <tr>\n",
       "      <th>1</th>\n",
       "      <td>435.83</td>\n",
       "      <td>\\SI{1.645+-0.003}{}</td>\n",
       "    </tr>\n",
       "    <tr>\n",
       "      <th>2</th>\n",
       "      <td>546.07</td>\n",
       "      <td>\\SI{1.625+-0.002}{}</td>\n",
       "    </tr>\n",
       "  </tbody>\n",
       "</table>\n",
       "</div>"
      ],
      "text/plain": [
       "   lambda                    n\n",
       "0  578.97  \\SI{1.624+-0.002}{}\n",
       "1  435.83  \\SI{1.645+-0.003}{}\n",
       "2  546.07  \\SI{1.625+-0.002}{}"
      ]
     },
     "execution_count": 46,
     "metadata": {},
     "output_type": "execute_result"
    }
   ],
   "source": [
    "# Brechungsindex berechnen\n",
    "epsilon_rad = np.deg2rad(epsilon)\n",
    "u_epsilon_rad = np.deg2rad(u_epsilon)\n",
    "\n",
    "# fuer Quecksilber und die Energiesparlampe\n",
    "for df in [prisma_quecksilber, prisma_energiesparlampe]:\n",
    "    n_val, u_n = fehler_gauss(\n",
    "        n_formula,\n",
    "        [delta_min_symbol, epsilon_symbol],\n",
    "        [df[\"delta_min\"].values, epsilon_rad],\n",
    "        [df[\"u_delta_min\"].values, u_epsilon_rad]\n",
    "    )\n",
    "    df[\"n\"] = n_val\n",
    "    df[\"u_n\"] = u_n\n",
    "\n",
    "prisma_quecksilber_preview = prisma_quecksilber[[\"lambda\", \"n\", \"u_n\"]]\n",
    "prisma_quecksilber_preview[\"lambda\"] = prisma_quecksilber_preview[\"lambda\"].round(2)\n",
    "ns = list(zip(prisma_quecksilber_preview[\"n\"].values, prisma_quecksilber_preview[\"u_n\"].values))\n",
    "ns = [r\"\\SI{\"+str(np.round(n, 3))+\"+-\"+str(np.round(u_n, 3))+r\"}{}\" for n, u_n in ns]\n",
    "prisma_quecksilber_preview[\"n\"] = ns\n",
    "prisma_quecksilber_preview = prisma_quecksilber_preview.drop(columns=\"u_n\")\n",
    "prisma_quecksilber_preview"
   ]
  },
  {
   "cell_type": "code",
   "execution_count": 47,
   "metadata": {},
   "outputs": [
    {
     "data": {
      "text/plain": [
       "0    Orange\n",
       "1      Blau\n",
       "2     Gruen\n",
       "Name: Farbe, dtype: object"
      ]
     },
     "execution_count": 47,
     "metadata": {},
     "output_type": "execute_result"
    }
   ],
   "source": [
    "prisma_quecksilber[\"Farbe\"]"
   ]
  },
  {
   "cell_type": "code",
   "execution_count": 48,
   "metadata": {},
   "outputs": [
    {
     "data": {
      "image/png": "[encoded data removed]",
      "text/plain": [
       "<Figure size 640x480 with 1 Axes>"
      ]
     },
     "metadata": {},
     "output_type": "display_data"
    }
   ],
   "source": [
    "# Brechungsindex gegen Wellenlaenge auftragen\n",
    "popt, pcov = curve_fit(linear, prisma_quecksilber[\"lambda\"], prisma_quecksilber[\"n\"], sigma=prisma_quecksilber[\"u_n\"])\n",
    "X = np.linspace(prisma_quecksilber[\"lambda\"].min(), prisma_quecksilber[\"lambda\"].max(), 100)\n",
    "Y = linear(X, *popt)\n",
    "\n",
    "plt.errorbar(\n",
    "    x=prisma_quecksilber[\"lambda\"],\n",
    "    y=prisma_quecksilber[\"n\"],\n",
    "    fmt=\".\",\n",
    "    capsize=2,\n",
    "    yerr=prisma_quecksilber[\"u_n\"],\n",
    "    label=\"Messwerte\",\n",
    ")\n",
    "fit_label = f\"y = {np.round(popt[0] * 1e4, 2)}\" + r\"$\\cdot 10^{-4}$\" + f\"x + {np.round(popt[1], 2)}\"\n",
    "plt.plot(X, Y, label=fit_label)\n",
    "plt.grid(True)\n",
    "plt.xlabel(r\"$\\lambda$ [nm]\")\n",
    "plt.ylabel(\"n\")\n",
    "plt.legend()\n",
    "plt.savefig(\"brechungsindex.svg\")"
   ]
  },
  {
   "cell_type": "code",
   "execution_count": 49,
   "metadata": {},
   "outputs": [
    {
     "data": {
      "text/html": [
       "<div>\n",
       "<style scoped>\n",
       "    .dataframe tbody tr th:only-of-type {\n",
       "        vertical-align: middle;\n",
       "    }\n",
       "\n",
       "    .dataframe tbody tr th {\n",
       "        vertical-align: top;\n",
       "    }\n",
       "\n",
       "    .dataframe thead th {\n",
       "        text-align: right;\n",
       "    }\n",
       "</style>\n",
       "<table border=\"1\" class=\"dataframe\">\n",
       "  <thead>\n",
       "    <tr style=\"text-align: right;\">\n",
       "      <th></th>\n",
       "      <th>Farbe</th>\n",
       "      <th>n</th>\n",
       "      <th>lambda</th>\n",
       "    </tr>\n",
       "  </thead>\n",
       "  <tbody>\n",
       "    <tr>\n",
       "      <th>1</th>\n",
       "      <td>Blau</td>\n",
       "      <td>1.646</td>\n",
       "      <td>425.93</td>\n",
       "    </tr>\n",
       "    <tr>\n",
       "      <th>2</th>\n",
       "      <td>Gruen</td>\n",
       "      <td>1.625</td>\n",
       "      <td>560.98</td>\n",
       "    </tr>\n",
       "    <tr>\n",
       "      <th>0</th>\n",
       "      <td>Orange</td>\n",
       "      <td>1.623</td>\n",
       "      <td>574.03</td>\n",
       "    </tr>\n",
       "    <tr>\n",
       "      <th>3</th>\n",
       "      <td>Rot</td>\n",
       "      <td>1.618</td>\n",
       "      <td>600.21</td>\n",
       "    </tr>\n",
       "  </tbody>\n",
       "</table>\n",
       "</div>"
      ],
      "text/plain": [
       "    Farbe      n  lambda\n",
       "1    Blau  1.646  425.93\n",
       "2   Gruen  1.625  560.98\n",
       "0  Orange  1.623  574.03\n",
       "3     Rot  1.618  600.21"
      ]
     },
     "execution_count": 49,
     "metadata": {},
     "output_type": "execute_result"
    }
   ],
   "source": [
    "# Wellenlaengen der Spektrallinien aus der Energiesparlampe bestimmen\n",
    "def wellenlaenge(brechungsindex):\n",
    "    return (1/popt[0]) * brechungsindex - (popt[1]/popt[0])\n",
    "\n",
    "prisma_energiesparlampe[\"lambda\"] = wellenlaenge(prisma_energiesparlampe[\"n\"])\n",
    "\n",
    "prisma_energiesparlampe[\"n\"] = prisma_energiesparlampe[\"n\"].round(3)\n",
    "prisma_energiesparlampe[\"lambda\"] = prisma_energiesparlampe[\"lambda\"].round(2)\n",
    "\n",
    "prisma_energiesparlampe.sort_values(by=\"lambda\")[[\"Farbe\", \"n\", \"lambda\"]]"
   ]
  },
  {
   "cell_type": "code",
   "execution_count": null,
   "metadata": {},
   "outputs": [],
   "source": []
  }
 ],
 "metadata": {
  "kernelspec": {
   "display_name": "env",
   "language": "python",
   "name": "python3"
  },
  "language_info": {
   "codemirror_mode": {
    "name": "ipython",
    "version": 3
   },
   "file_extension": ".py",
   "mimetype": "text/x-python",
   "name": "python",
   "nbconvert_exporter": "python",
   "pygments_lexer": "ipython3",
   "version": "3.12.5"
  }
 },
 "nbformat": 4,
 "nbformat_minor": 2
}
