{
 "cells": [
  {
   "cell_type": "code",
   "execution_count": 102,
   "metadata": {},
   "outputs": [],
   "source": [
    "import numpy as np\n",
    "import pandas as pd\n",
    "import matplotlib.pyplot as plt\n",
    "from sympy import *\n",
    "import sys\n",
    "sys.path.append(\"../\")\n",
    "from utils import fehler_gauss\n",
    "from scipy.optimize import curve_fit"
   ]
  },
  {
   "cell_type": "markdown",
   "metadata": {},
   "source": [
    "## Beugung Spalt"
   ]
  },
  {
   "cell_type": "code",
   "execution_count": 103,
   "metadata": {},
   "outputs": [
    {
     "data": {
      "text/html": [
       "<div>\n",
       "<style scoped>\n",
       "    .dataframe tbody tr th:only-of-type {\n",
       "        vertical-align: middle;\n",
       "    }\n",
       "\n",
       "    .dataframe tbody tr th {\n",
       "        vertical-align: top;\n",
       "    }\n",
       "\n",
       "    .dataframe thead th {\n",
       "        text-align: right;\n",
       "    }\n",
       "</style>\n",
       "<table border=\"1\" class=\"dataframe\">\n",
       "  <thead>\n",
       "    <tr style=\"text-align: right;\">\n",
       "      <th></th>\n",
       "      <th>Position Schirm</th>\n",
       "      <th>1</th>\n",
       "      <th>2</th>\n",
       "      <th>3</th>\n",
       "      <th>4</th>\n",
       "      <th>5</th>\n",
       "    </tr>\n",
       "  </thead>\n",
       "  <tbody>\n",
       "    <tr>\n",
       "      <th>0</th>\n",
       "      <td>1.97</td>\n",
       "      <td>0.0159</td>\n",
       "      <td>0.0314</td>\n",
       "      <td>0.0469</td>\n",
       "      <td>0.06075</td>\n",
       "      <td>0.0752</td>\n",
       "    </tr>\n",
       "    <tr>\n",
       "      <th>1</th>\n",
       "      <td>1.30</td>\n",
       "      <td>0.0100</td>\n",
       "      <td>0.0185</td>\n",
       "      <td>0.0255</td>\n",
       "      <td>0.03500</td>\n",
       "      <td>0.0450</td>\n",
       "    </tr>\n",
       "    <tr>\n",
       "      <th>2</th>\n",
       "      <td>0.77</td>\n",
       "      <td>0.0055</td>\n",
       "      <td>0.0105</td>\n",
       "      <td>0.0145</td>\n",
       "      <td>0.01900</td>\n",
       "      <td>0.0235</td>\n",
       "    </tr>\n",
       "  </tbody>\n",
       "</table>\n",
       "</div>"
      ],
      "text/plain": [
       "   Position Schirm       1       2       3        4       5\n",
       "0             1.97  0.0159  0.0314  0.0469  0.06075  0.0752\n",
       "1             1.30  0.0100  0.0185  0.0255  0.03500  0.0450\n",
       "2             0.77  0.0055  0.0105  0.0145  0.01900  0.0235"
      ]
     },
     "execution_count": 103,
     "metadata": {},
     "output_type": "execute_result"
    }
   ],
   "source": [
    "pos_spalt = 27e-3\n",
    "u_pos_spalt = 5e-3\n",
    "\n",
    "pos_laser = 1.5e-2\n",
    "u_pos_laser = 5e-3\n",
    "\n",
    "d_schirm_papier = 0.6e-2\n",
    "\n",
    "u_ablese = 0.5e-3\n",
    "u_messschieber = 0.05e-3\n",
    "\n",
    "lambda_laser = 532e-9\n",
    "u_lambda_laser = 1e-9\n",
    "\n",
    "beugung_spalt = pd.read_excel(\"BUB.xlsx\", sheet_name=\"LaserBeugungSpalt\")\n",
    "beugung_spalt[[i for i in range(1, 6)]] *= 1e-2 # Abstaende Minima in cm\n",
    "beugung_spalt[\"Position Schirm\"] *= 1e-2 # Position Schirm in cm\n",
    "beugung_spalt"
   ]
  },
  {
   "cell_type": "markdown",
   "metadata": {},
   "source": [
    "$$\\tan \\alpha = \\frac{s}{l}$$\n",
    "\n",
    "Die Werte im DataFrame sind die Abstände zwischen zwei Minima gleicher Ordnung, also $2 s$. $l$ ist der Abstand zwischen Spalt und Schirm"
   ]
  },
  {
   "cell_type": "code",
   "execution_count": 104,
   "metadata": {},
   "outputs": [
    {
     "data": {
      "text/html": [
       "<div>\n",
       "<style scoped>\n",
       "    .dataframe tbody tr th:only-of-type {\n",
       "        vertical-align: middle;\n",
       "    }\n",
       "\n",
       "    .dataframe tbody tr th {\n",
       "        vertical-align: top;\n",
       "    }\n",
       "\n",
       "    .dataframe thead th {\n",
       "        text-align: right;\n",
       "    }\n",
       "</style>\n",
       "<table border=\"1\" class=\"dataframe\">\n",
       "  <thead>\n",
       "    <tr style=\"text-align: right;\">\n",
       "      <th></th>\n",
       "      <th>1</th>\n",
       "      <th>2</th>\n",
       "      <th>3</th>\n",
       "      <th>4</th>\n",
       "      <th>5</th>\n",
       "    </tr>\n",
       "  </thead>\n",
       "  <tbody>\n",
       "    <tr>\n",
       "      <th>0</th>\n",
       "      <td>0.00795</td>\n",
       "      <td>0.01570</td>\n",
       "      <td>0.02345</td>\n",
       "      <td>0.030375</td>\n",
       "      <td>0.03760</td>\n",
       "    </tr>\n",
       "    <tr>\n",
       "      <th>1</th>\n",
       "      <td>0.00500</td>\n",
       "      <td>0.00925</td>\n",
       "      <td>0.01275</td>\n",
       "      <td>0.017500</td>\n",
       "      <td>0.02250</td>\n",
       "    </tr>\n",
       "    <tr>\n",
       "      <th>2</th>\n",
       "      <td>0.00275</td>\n",
       "      <td>0.00525</td>\n",
       "      <td>0.00725</td>\n",
       "      <td>0.009500</td>\n",
       "      <td>0.01175</td>\n",
       "    </tr>\n",
       "  </tbody>\n",
       "</table>\n",
       "</div>"
      ],
      "text/plain": [
       "         1        2        3         4        5\n",
       "0  0.00795  0.01570  0.02345  0.030375  0.03760\n",
       "1  0.00500  0.00925  0.01275  0.017500  0.02250\n",
       "2  0.00275  0.00525  0.00725  0.009500  0.01175"
      ]
     },
     "execution_count": 104,
     "metadata": {},
     "output_type": "execute_result"
    }
   ],
   "source": [
    "s = beugung_spalt[[i for i in range(1, 6)]] / 2\n",
    "u_s = np.sqrt(u_messschieber**2 + u_ablese**2)\n",
    "\n",
    "l = beugung_spalt[\"Position Schirm\"] + d_schirm_papier - pos_spalt\n",
    "u_l = np.sqrt(u_pos_spalt**2 + u_ablese**2 + u_messschieber**2)\n",
    "u_l\n",
    "\n",
    "s"
   ]
  },
  {
   "cell_type": "code",
   "execution_count": 105,
   "metadata": {},
   "outputs": [
    {
     "data": {
      "text/html": [
       "<div>\n",
       "<style scoped>\n",
       "    .dataframe tbody tr th:only-of-type {\n",
       "        vertical-align: middle;\n",
       "    }\n",
       "\n",
       "    .dataframe tbody tr th {\n",
       "        vertical-align: top;\n",
       "    }\n",
       "\n",
       "    .dataframe thead th {\n",
       "        text-align: right;\n",
       "    }\n",
       "</style>\n",
       "<table border=\"1\" class=\"dataframe\">\n",
       "  <thead>\n",
       "    <tr style=\"text-align: right;\">\n",
       "      <th></th>\n",
       "      <th>1</th>\n",
       "      <th>2</th>\n",
       "      <th>3</th>\n",
       "      <th>4</th>\n",
       "      <th>5</th>\n",
       "    </tr>\n",
       "  </thead>\n",
       "  <tbody>\n",
       "    <tr>\n",
       "      <th>0</th>\n",
       "      <td>0.233709</td>\n",
       "      <td>0.461531</td>\n",
       "      <td>0.689339</td>\n",
       "      <td>0.892878</td>\n",
       "      <td>1.105210</td>\n",
       "    </tr>\n",
       "    <tr>\n",
       "      <th>1</th>\n",
       "      <td>0.223985</td>\n",
       "      <td>0.414368</td>\n",
       "      <td>0.571147</td>\n",
       "      <td>0.783904</td>\n",
       "      <td>1.007836</td>\n",
       "    </tr>\n",
       "    <tr>\n",
       "      <th>2</th>\n",
       "      <td>0.210364</td>\n",
       "      <td>0.401599</td>\n",
       "      <td>0.554581</td>\n",
       "      <td>0.726677</td>\n",
       "      <td>0.898759</td>\n",
       "    </tr>\n",
       "  </tbody>\n",
       "</table>\n",
       "</div>"
      ],
      "text/plain": [
       "          1         2         3         4         5\n",
       "0  0.233709  0.461531  0.689339  0.892878  1.105210\n",
       "1  0.223985  0.414368  0.571147  0.783904  1.007836\n",
       "2  0.210364  0.401599  0.554581  0.726677  0.898759"
      ]
     },
     "execution_count": 105,
     "metadata": {},
     "output_type": "execute_result"
    }
   ],
   "source": [
    "# alphas in grad\n",
    "alphas = np.rad2deg(np.arctan(s / l.values.repeat(5, axis=0).reshape((3, 5))))\n",
    "alphas\n",
    "# wahnsinnig kleine Winkel, also sin(alpha) = alpha"
   ]
  },
  {
   "cell_type": "markdown",
   "metadata": {},
   "source": [
    "Minima: $n \\lambda = d \\sin\\alpha \\approx d \\frac{s}{l} \\implies n \\frac{\\lambda}{d} = \\frac{s}{l}$\n",
    "Steigung aus linearer Regression: $m = \\frac{\\lambda}{d} \\implies d = \\frac{\\lambda}{m}$"
   ]
  },
  {
   "cell_type": "code",
   "execution_count": 134,
   "metadata": {},
   "outputs": [
    {
     "data": {
      "image/png": "[encoded data removed]",
      "text/plain": [
       "<Figure size 640x480 with 1 Axes>"
      ]
     },
     "metadata": {},
     "output_type": "display_data"
    }
   ],
   "source": [
    "alphas = s / l.values.repeat(5, axis=0).reshape((3, 5))\n",
    "\n",
    "# Regression s/l gegen Ordnung\n",
    "def linear(x, m, b):\n",
    "    return m * x + b\n",
    "\n",
    "n = alphas.columns.repeat(3).values.reshape((5, 3)).T.flatten()\n",
    "s_durch_l = alphas.values.flatten()\n",
    "popt, pcov = curve_fit(linear, n, s_durch_l)\n",
    "\n",
    "X = np.linspace(n.min(), n.max(), 100)\n",
    "Y = linear(X, *popt)\n",
    "\n",
    "for i in range(0, 3):\n",
    "    plt.scatter(\n",
    "        x=alphas.columns,\n",
    "        y=alphas.iloc[i],\n",
    "        label=f\"{beugung_spalt.iloc[i][\"Position Schirm\"]} m\",\n",
    "    )\n",
    "fit_label = \"y = \" + \\\n",
    "    str(np.round(popt[0] * 100, 2)) + r\"$\\cdot 10^{-2} x$ + \" + str(np.round(popt[1] * 100, 2)) + r\"$\\cdot 10^{-2}$\"\n",
    "plt.plot(X, Y, label=fit_label)\n",
    "plt.grid(True)\n",
    "plt.legend()\n",
    "plt.xlabel(\"Ordnung\")\n",
    "plt.ylabel(r\"$s/l \\approx \\alpha$\")\n",
    "plt.savefig(\"beugung_spalt.svg\")"
   ]
  },
  {
   "cell_type": "code",
   "execution_count": 109,
   "metadata": {},
   "outputs": [
    {
     "data": {
      "text/plain": [
       "np.float64(0.00015727683616948197)"
      ]
     },
     "execution_count": 109,
     "metadata": {},
     "output_type": "execute_result"
    }
   ],
   "source": [
    "lambda_laser / popt[0]"
   ]
  },
  {
   "cell_type": "code",
   "execution_count": 18,
   "metadata": {},
   "outputs": [
    {
     "data": {
      "text/html": [
       "<div>\n",
       "<style scoped>\n",
       "    .dataframe tbody tr th:only-of-type {\n",
       "        vertical-align: middle;\n",
       "    }\n",
       "\n",
       "    .dataframe tbody tr th {\n",
       "        vertical-align: top;\n",
       "    }\n",
       "\n",
       "    .dataframe thead th {\n",
       "        text-align: right;\n",
       "    }\n",
       "</style>\n",
       "<table border=\"1\" class=\"dataframe\">\n",
       "  <thead>\n",
       "    <tr style=\"text-align: right;\">\n",
       "      <th></th>\n",
       "      <th>Farbe</th>\n",
       "      <th>mit</th>\n",
       "      <th>ohne</th>\n",
       "    </tr>\n",
       "  </thead>\n",
       "  <tbody>\n",
       "    <tr>\n",
       "      <th>0</th>\n",
       "      <td>Orange</td>\n",
       "      <td>131.5</td>\n",
       "      <td>179.9</td>\n",
       "    </tr>\n",
       "    <tr>\n",
       "      <th>1</th>\n",
       "      <td>Blau</td>\n",
       "      <td>129.4</td>\n",
       "      <td>179.9</td>\n",
       "    </tr>\n",
       "    <tr>\n",
       "      <th>2</th>\n",
       "      <td>Gruen</td>\n",
       "      <td>131.6</td>\n",
       "      <td>180.1</td>\n",
       "    </tr>\n",
       "  </tbody>\n",
       "</table>\n",
       "</div>"
      ],
      "text/plain": [
       "    Farbe    mit   ohne\n",
       "0  Orange  131.5  179.9\n",
       "1    Blau  129.4  179.9\n",
       "2   Gruen  131.6  180.1"
      ]
     },
     "execution_count": 18,
     "metadata": {},
     "output_type": "execute_result"
    }
   ],
   "source": [
    "pd.read_excel(\"BUB.xlsx\", sheet_name=\"PrismaQuecksilber\")"
   ]
  },
  {
   "cell_type": "code",
   "execution_count": 19,
   "metadata": {},
   "outputs": [
    {
     "data": {
      "text/html": [
       "<div>\n",
       "<style scoped>\n",
       "    .dataframe tbody tr th:only-of-type {\n",
       "        vertical-align: middle;\n",
       "    }\n",
       "\n",
       "    .dataframe tbody tr th {\n",
       "        vertical-align: top;\n",
       "    }\n",
       "\n",
       "    .dataframe thead th {\n",
       "        text-align: right;\n",
       "    }\n",
       "</style>\n",
       "<table border=\"1\" class=\"dataframe\">\n",
       "  <thead>\n",
       "    <tr style=\"text-align: right;\">\n",
       "      <th></th>\n",
       "      <th>Farbe</th>\n",
       "      <th>mit</th>\n",
       "      <th>ohne</th>\n",
       "    </tr>\n",
       "  </thead>\n",
       "  <tbody>\n",
       "    <tr>\n",
       "      <th>0</th>\n",
       "      <td>Orange</td>\n",
       "      <td>130.1</td>\n",
       "      <td>178.4</td>\n",
       "    </tr>\n",
       "    <tr>\n",
       "      <th>1</th>\n",
       "      <td>Blau</td>\n",
       "      <td>129.3</td>\n",
       "      <td>179.9</td>\n",
       "    </tr>\n",
       "    <tr>\n",
       "      <th>2</th>\n",
       "      <td>Gruen</td>\n",
       "      <td>130.9</td>\n",
       "      <td>179.4</td>\n",
       "    </tr>\n",
       "    <tr>\n",
       "      <th>3</th>\n",
       "      <td>Rot</td>\n",
       "      <td>131.6</td>\n",
       "      <td>179.5</td>\n",
       "    </tr>\n",
       "  </tbody>\n",
       "</table>\n",
       "</div>"
      ],
      "text/plain": [
       "    Farbe    mit   ohne\n",
       "0  Orange  130.1  178.4\n",
       "1    Blau  129.3  179.9\n",
       "2   Gruen  130.9  179.4\n",
       "3     Rot  131.6  179.5"
      ]
     },
     "execution_count": 19,
     "metadata": {},
     "output_type": "execute_result"
    }
   ],
   "source": [
    "pd.read_excel(\"BUB.xlsx\", sheet_name=\"PrismaEnergiesparlampe\")"
   ]
  },
  {
   "cell_type": "markdown",
   "metadata": {},
   "source": [
    "## Beugungsgitter"
   ]
  },
  {
   "cell_type": "code",
   "execution_count": 20,
   "metadata": {},
   "outputs": [
    {
     "data": {
      "text/html": [
       "<div>\n",
       "<style scoped>\n",
       "    .dataframe tbody tr th:only-of-type {\n",
       "        vertical-align: middle;\n",
       "    }\n",
       "\n",
       "    .dataframe tbody tr th {\n",
       "        vertical-align: top;\n",
       "    }\n",
       "\n",
       "    .dataframe thead th {\n",
       "        text-align: right;\n",
       "    }\n",
       "</style>\n",
       "<table border=\"1\" class=\"dataframe\">\n",
       "  <thead>\n",
       "    <tr style=\"text-align: right;\">\n",
       "      <th></th>\n",
       "      <th></th>\n",
       "      <th>Blau</th>\n",
       "      <th>Gruen</th>\n",
       "      <th>Orange</th>\n",
       "    </tr>\n",
       "  </thead>\n",
       "  <tbody>\n",
       "    <tr>\n",
       "      <th rowspan=\"5\" valign=\"top\">1</th>\n",
       "      <th>0</th>\n",
       "      <td>5.1</td>\n",
       "      <td>6.3</td>\n",
       "      <td>6.7</td>\n",
       "    </tr>\n",
       "    <tr>\n",
       "      <th>1</th>\n",
       "      <td>10.2</td>\n",
       "      <td>12.8</td>\n",
       "      <td>13.5</td>\n",
       "    </tr>\n",
       "    <tr>\n",
       "      <th>2</th>\n",
       "      <td>15.3</td>\n",
       "      <td>19.3</td>\n",
       "      <td>20.4</td>\n",
       "    </tr>\n",
       "    <tr>\n",
       "      <th>3</th>\n",
       "      <td>17.9</td>\n",
       "      <td>25.9</td>\n",
       "      <td>27.3</td>\n",
       "    </tr>\n",
       "    <tr>\n",
       "      <th>4</th>\n",
       "      <td>NaN</td>\n",
       "      <td>32.8</td>\n",
       "      <td>35.0</td>\n",
       "    </tr>\n",
       "    <tr>\n",
       "      <th rowspan=\"5\" valign=\"top\">2</th>\n",
       "      <th>0</th>\n",
       "      <td>3.6</td>\n",
       "      <td>4.3</td>\n",
       "      <td>4.7</td>\n",
       "    </tr>\n",
       "    <tr>\n",
       "      <th>1</th>\n",
       "      <td>7.4</td>\n",
       "      <td>8.8</td>\n",
       "      <td>9.3</td>\n",
       "    </tr>\n",
       "    <tr>\n",
       "      <th>2</th>\n",
       "      <td>14.4</td>\n",
       "      <td>13.3</td>\n",
       "      <td>14.1</td>\n",
       "    </tr>\n",
       "    <tr>\n",
       "      <th>3</th>\n",
       "      <td>17.8</td>\n",
       "      <td>17.9</td>\n",
       "      <td>19.1</td>\n",
       "    </tr>\n",
       "    <tr>\n",
       "      <th>4</th>\n",
       "      <td>21.5</td>\n",
       "      <td>22.6</td>\n",
       "      <td>24.2</td>\n",
       "    </tr>\n",
       "    <tr>\n",
       "      <th rowspan=\"5\" valign=\"top\">3</th>\n",
       "      <th>0</th>\n",
       "      <td>2.6</td>\n",
       "      <td>3.3</td>\n",
       "      <td>3.5</td>\n",
       "    </tr>\n",
       "    <tr>\n",
       "      <th>1</th>\n",
       "      <td>5.1</td>\n",
       "      <td>6.4</td>\n",
       "      <td>6.7</td>\n",
       "    </tr>\n",
       "    <tr>\n",
       "      <th>2</th>\n",
       "      <td>7.7</td>\n",
       "      <td>9.6</td>\n",
       "      <td>10.1</td>\n",
       "    </tr>\n",
       "    <tr>\n",
       "      <th>3</th>\n",
       "      <td>10.5</td>\n",
       "      <td>12.8</td>\n",
       "      <td>13.7</td>\n",
       "    </tr>\n",
       "    <tr>\n",
       "      <th>4</th>\n",
       "      <td>14.4</td>\n",
       "      <td>16.5</td>\n",
       "      <td>17.5</td>\n",
       "    </tr>\n",
       "  </tbody>\n",
       "</table>\n",
       "</div>"
      ],
      "text/plain": [
       "     Blau  Gruen  Orange\n",
       "1 0   5.1    6.3     6.7\n",
       "  1  10.2   12.8    13.5\n",
       "  2  15.3   19.3    20.4\n",
       "  3  17.9   25.9    27.3\n",
       "  4   NaN   32.8    35.0\n",
       "2 0   3.6    4.3     4.7\n",
       "  1   7.4    8.8     9.3\n",
       "  2  14.4   13.3    14.1\n",
       "  3  17.8   17.9    19.1\n",
       "  4  21.5   22.6    24.2\n",
       "3 0   2.6    3.3     3.5\n",
       "  1   5.1    6.4     6.7\n",
       "  2   7.7    9.6    10.1\n",
       "  3  10.5   12.8    13.7\n",
       "  4  14.4   16.5    17.5"
      ]
     },
     "execution_count": 20,
     "metadata": {},
     "output_type": "execute_result"
    }
   ],
   "source": [
    "dfs = {\n",
    "    i: pd.read_excel(\"BUB.xlsx\", sheet_name=f\"Beugungsgitter{i}\") for i in range(1, 4)\n",
    "}\n",
    "pd.concat(dfs)"
   ]
  },
  {
   "cell_type": "code",
   "execution_count": null,
   "metadata": {},
   "outputs": [],
   "source": []
  }
 ],
 "metadata": {
  "kernelspec": {
   "display_name": "env",
   "language": "python",
   "name": "python3"
  },
  "language_info": {
   "codemirror_mode": {
    "name": "ipython",
    "version": 3
   },
   "file_extension": ".py",
   "mimetype": "text/x-python",
   "name": "python",
   "nbconvert_exporter": "python",
   "pygments_lexer": "ipython3",
   "version": "3.13.1"
  }
 },
 "nbformat": 4,
 "nbformat_minor": 2
}
