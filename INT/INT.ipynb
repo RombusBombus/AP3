{
 "cells": [
  {
   "cell_type": "code",
   "execution_count": 129,
   "metadata": {},
   "outputs": [],
   "source": [
    "import sys\n",
    "sys.path.append(\"..\")\n",
    "\n",
    "import numpy as np\n",
    "import pandas as pd\n",
    "import sympy as sp\n",
    "from utils.fehler_gauss import fehler_gauss, weighted_mean\n",
    "import matplotlib.pyplot as plt\n",
    "from scipy.optimize import curve_fit"
   ]
  },
  {
   "cell_type": "markdown",
   "metadata": {},
   "source": [
    "## Allgemeine Daten"
   ]
  },
  {
   "cell_type": "code",
   "execution_count": 130,
   "metadata": {},
   "outputs": [],
   "source": [
    "lambda_laser = 532e-9\n",
    "# Temperatur in kelvin\n",
    "T = 19 + 273.15\n",
    "luftfeuchtigkeit = 0.48\n",
    "dicke_glasplatte = 4.92e-3\n",
    "u_dicke_glasplatte = 0.01e-3\n",
    "\n",
    "laenge_kuevette = 6e-2\n",
    "u_laenge_kuevette = 0.05e-3"
   ]
  },
  {
   "cell_type": "markdown",
   "metadata": {},
   "source": [
    "## Ganghöhe Spiegel"
   ]
  },
  {
   "cell_type": "code",
   "execution_count": 131,
   "metadata": {},
   "outputs": [
    {
     "data": {
      "text/latex": [
       "$\\displaystyle 2 l n$"
      ],
      "text/plain": [
       "2*l*n"
      ]
     },
     "execution_count": 131,
     "metadata": {},
     "output_type": "execute_result"
    }
   ],
   "source": [
    "# Anzahl Maxima\n",
    "N = 100\n",
    "u_N = 5\n",
    "\n",
    "# Wegdifferenz berechnen\n",
    "l_symbol, n_symbol, N_symbol, lambda_symbol = sp.symbols(\"l n N lambda\")\n",
    "delta_s = 2 * l_symbol * n_symbol\n",
    "delta_s"
   ]
  },
  {
   "cell_type": "code",
   "execution_count": 132,
   "metadata": {},
   "outputs": [
    {
     "data": {
      "text/latex": [
       "$\\displaystyle N \\lambda = 2 l n$"
      ],
      "text/plain": [
       "Eq(N*lambda, 2*l*n)"
      ]
     },
     "execution_count": 132,
     "metadata": {},
     "output_type": "execute_result"
    }
   ],
   "source": [
    "# Maximumsbedingung\n",
    "maximumsbedingung = sp.Eq(N_symbol * lambda_symbol, delta_s)\n",
    "maximumsbedingung"
   ]
  },
  {
   "cell_type": "code",
   "execution_count": 133,
   "metadata": {},
   "outputs": [
    {
     "data": {
      "text/latex": [
       "$\\displaystyle \\frac{N \\lambda}{2 n}$"
      ],
      "text/plain": [
       "N*lambda/(2*n)"
      ]
     },
     "execution_count": 133,
     "metadata": {},
     "output_type": "execute_result"
    }
   ],
   "source": [
    "# Wegdifferenz\n",
    "l_formula = sp.solve(maximumsbedingung, l_symbol)[0]\n",
    "l_formula"
   ]
  },
  {
   "cell_type": "code",
   "execution_count": 134,
   "metadata": {},
   "outputs": [
    {
     "name": "stdout",
     "output_type": "stream",
     "text": [
      "l = 26.6 +- 1.3300000000000003 µm\n"
     ]
    }
   ],
   "source": [
    "l_val, u_l_val = fehler_gauss(\n",
    "    l_formula,\n",
    "    [N_symbol, lambda_symbol, n_symbol],\n",
    "    [N, lambda_laser, 1],\n",
    "    [u_N, 0, 0]\n",
    ")\n",
    "print(f\"l = {l_val * 1e6} +- {u_l_val * 1e6}\", \"µm\")"
   ]
  },
  {
   "cell_type": "code",
   "execution_count": 135,
   "metadata": {},
   "outputs": [
    {
     "data": {
      "text/plain": [
       "(array([0.63, 0.62, 0.6 , 0.64]), 0.01)"
      ]
     },
     "execution_count": 135,
     "metadata": {},
     "output_type": "execute_result"
    }
   ],
   "source": [
    "# Ganghoehe bestimmen (Verschiebung bei unseren Umdrehungen auf eine volle Umdrehung hochrechnen)\n",
    "skalenstriche_schraube = pd.read_excel(\"INT.xlsx\", sheet_name=\"GanghoeheSpiegel\")[\"Mikrometerschraube\"].values\n",
    "u_skalenstriche_schraube = 0.5\n",
    "\n",
    "umdrehungen = skalenstriche_schraube / 50 # Eine Umdrehung entspricht 50 Skalenstrichen\n",
    "u_umdrehungen = u_skalenstriche_schraube / 50\n",
    "\n",
    "umdrehungen, u_umdrehungen"
   ]
  },
  {
   "cell_type": "code",
   "execution_count": 136,
   "metadata": {},
   "outputs": [
    {
     "data": {
      "text/latex": [
       "$\\displaystyle \\frac{l}{k}$"
      ],
      "text/plain": [
       "l/k"
      ]
     },
     "execution_count": 136,
     "metadata": {},
     "output_type": "execute_result"
    }
   ],
   "source": [
    "k_symbol = sp.symbols(\"k\") # k ist die Anzahl der Umdrehungen\n",
    "\n",
    "ganghoehe_formula = l_symbol / k_symbol\n",
    "ganghoehe_formula"
   ]
  },
  {
   "cell_type": "code",
   "execution_count": 137,
   "metadata": {},
   "outputs": [
    {
     "name": "stdout",
     "output_type": "stream",
     "text": [
      "Ganghoehe = 42.7022907196989 +- 1.1216976993701355 µm\n"
     ]
    }
   ],
   "source": [
    "ganghoehen_val, u_ganghoehen_val = fehler_gauss(\n",
    "    ganghoehe_formula,\n",
    "    [l_symbol, k_symbol],\n",
    "    [l_val, umdrehungen],\n",
    "    [u_l_val, u_umdrehungen]\n",
    ")\n",
    "\n",
    "ganghoehe_val, u_ganghoehe_val = weighted_mean(ganghoehen_val, u_ganghoehen_val)\n",
    "print(f\"Ganghoehe = {ganghoehe_val * 1e6} +- {u_ganghoehe_val * 1e6}\", \"µm\")"
   ]
  },
  {
   "cell_type": "markdown",
   "metadata": {},
   "source": [
    "## Plexiglasscheibe"
   ]
  },
  {
   "cell_type": "markdown",
   "metadata": {},
   "source": [
    "- $x$ Strecke, um die die Schraube reingedreht ist\n",
    "- $d$ Hebelarm zwischen Ansatzpunkt Schraube und Drehpunkt Glasscheibe\n",
    "\n",
    "$\\tan\\alpha = \\frac{x}{d} \\implies \\alpha = \\arctan \\frac{x}{d}$"
   ]
  },
  {
   "cell_type": "code",
   "execution_count": 138,
   "metadata": {},
   "outputs": [
    {
     "data": {
      "text/html": [
       "<div>\n",
       "<style scoped>\n",
       "    .dataframe tbody tr th:only-of-type {\n",
       "        vertical-align: middle;\n",
       "    }\n",
       "\n",
       "    .dataframe tbody tr th {\n",
       "        vertical-align: top;\n",
       "    }\n",
       "\n",
       "    .dataframe thead th {\n",
       "        text-align: right;\n",
       "    }\n",
       "</style>\n",
       "<table border=\"1\" class=\"dataframe\">\n",
       "  <thead>\n",
       "    <tr style=\"text-align: right;\">\n",
       "      <th></th>\n",
       "      <th>alpha</th>\n",
       "      <th>u_alpha</th>\n",
       "      <th>Maxima</th>\n",
       "    </tr>\n",
       "  </thead>\n",
       "  <tbody>\n",
       "    <tr>\n",
       "      <th>1</th>\n",
       "      <td>0.028921</td>\n",
       "      <td>0.001092</td>\n",
       "      <td>3</td>\n",
       "    </tr>\n",
       "    <tr>\n",
       "      <th>2</th>\n",
       "      <td>0.041761</td>\n",
       "      <td>0.001532</td>\n",
       "      <td>6</td>\n",
       "    </tr>\n",
       "    <tr>\n",
       "      <th>3</th>\n",
       "      <td>0.050315</td>\n",
       "      <td>0.001829</td>\n",
       "      <td>9</td>\n",
       "    </tr>\n",
       "    <tr>\n",
       "      <th>4</th>\n",
       "      <td>0.060640</td>\n",
       "      <td>0.002190</td>\n",
       "      <td>12</td>\n",
       "    </tr>\n",
       "    <tr>\n",
       "      <th>5</th>\n",
       "      <td>0.068820</td>\n",
       "      <td>0.002476</td>\n",
       "      <td>15</td>\n",
       "    </tr>\n",
       "    <tr>\n",
       "      <th>6</th>\n",
       "      <td>0.076280</td>\n",
       "      <td>0.002737</td>\n",
       "      <td>18</td>\n",
       "    </tr>\n",
       "    <tr>\n",
       "      <th>7</th>\n",
       "      <td>0.081604</td>\n",
       "      <td>0.002923</td>\n",
       "      <td>21</td>\n",
       "    </tr>\n",
       "    <tr>\n",
       "      <th>8</th>\n",
       "      <td>0.086214</td>\n",
       "      <td>0.003084</td>\n",
       "      <td>24</td>\n",
       "    </tr>\n",
       "    <tr>\n",
       "      <th>9</th>\n",
       "      <td>0.000000</td>\n",
       "      <td>0.000357</td>\n",
       "      <td>0</td>\n",
       "    </tr>\n",
       "    <tr>\n",
       "      <th>10</th>\n",
       "      <td>-0.036769</td>\n",
       "      <td>0.001360</td>\n",
       "      <td>3</td>\n",
       "    </tr>\n",
       "    <tr>\n",
       "      <th>11</th>\n",
       "      <td>-0.049958</td>\n",
       "      <td>0.001817</td>\n",
       "      <td>6</td>\n",
       "    </tr>\n",
       "    <tr>\n",
       "      <th>12</th>\n",
       "      <td>-0.060996</td>\n",
       "      <td>0.002202</td>\n",
       "      <td>9</td>\n",
       "    </tr>\n",
       "    <tr>\n",
       "      <th>13</th>\n",
       "      <td>-0.068464</td>\n",
       "      <td>0.002463</td>\n",
       "      <td>12</td>\n",
       "    </tr>\n",
       "  </tbody>\n",
       "</table>\n",
       "</div>"
      ],
      "text/plain": [
       "       alpha   u_alpha  Maxima\n",
       "1   0.028921  0.001092       3\n",
       "2   0.041761  0.001532       6\n",
       "3   0.050315  0.001829       9\n",
       "4   0.060640  0.002190      12\n",
       "5   0.068820  0.002476      15\n",
       "6   0.076280  0.002737      18\n",
       "7   0.081604  0.002923      21\n",
       "8   0.086214  0.003084      24\n",
       "9   0.000000  0.000357       0\n",
       "10 -0.036769  0.001360       3\n",
       "11 -0.049958  0.001817       6\n",
       "12 -0.060996  0.002202       9\n",
       "13 -0.068464  0.002463      12"
      ]
     },
     "execution_count": 138,
     "metadata": {},
     "output_type": "execute_result"
    }
   ],
   "source": [
    "x_symbol, h_symbol, alpha_symbol, d_symbol = sp.symbols(\"x h alpha d\")\n",
    "\n",
    "hebelarm = 28e-3  # Hebelarm zwischen Ansatzpunkt Schraube und Drehpunkt der Glasscheibe\n",
    "u_hebelarm = 1e-3  # Unsicherheit für Hebelarm zum Spaß\n",
    "u_mikrometerschraube = 0.01e-3  # Ableseungenauigkeit\n",
    "\n",
    "# Daten einlesen\n",
    "df = pd.read_excel(\"INT.xlsx\", sheet_name=\"Plexiglas\")\n",
    "df[[\"MikrometerschraubeA\", \"MikrometerschraubeB\"]] = (\n",
    "    df[[\"MikrometerschraubeA\", \"MikrometerschraubeB\"]] * 1e-3\n",
    "    - 0.00280  # in den Nullpunkt verschieben\n",
    ")\n",
    "\n",
    "# Winkel aus Mikrometerschraubeneinstellung bestimmen\n",
    "alpha_formula = sp.atan(x_symbol / d_symbol)\n",
    "for richtung in [\"A\", \"B\"]:\n",
    "    alpha_vals, u_alpha_vals = fehler_gauss(\n",
    "        alpha_formula,\n",
    "        [x_symbol, d_symbol],\n",
    "        [df[f\"Mikrometerschraube{richtung}\"], hebelarm],\n",
    "        [u_mikrometerschraube, u_hebelarm],\n",
    "    )\n",
    "    df[f\"alpha{richtung}\"] = alpha_vals\n",
    "    df[f\"u_alpha{richtung}\"] = u_alpha_vals\n",
    "\n",
    "# Beide Richtungen zusammenfassen\n",
    "df = pd.DataFrame(\n",
    "    {\n",
    "        \"alpha\": np.concatenate([df[\"alphaA\"], df[\"alphaB\"]]),\n",
    "        \"u_alpha\": np.concatenate([df[\"u_alphaA\"], df[\"u_alphaB\"]]),\n",
    "        \"Maxima\": np.concatenate([df[\"Maxima\"], df[\"Maxima\"]]),\n",
    "    }\n",
    ").dropna().iloc[1:]\n",
    "df"
   ]
  },
  {
   "cell_type": "code",
   "execution_count": 139,
   "metadata": {},
   "outputs": [
    {
     "data": {
      "text/latex": [
       "$\\displaystyle N \\lambda$"
      ],
      "text/plain": [
       "N*lambda"
      ]
     },
     "execution_count": 139,
     "metadata": {},
     "output_type": "execute_result"
    }
   ],
   "source": [
    "# Optischer Wegunterschied mit der Anzahl Maxima berechnen\n",
    "delta_s_formula = N_symbol * lambda_symbol\n",
    "delta_s_formula"
   ]
  },
  {
   "cell_type": "code",
   "execution_count": 140,
   "metadata": {},
   "outputs": [
    {
     "data": {
      "text/html": [
       "<div>\n",
       "<style scoped>\n",
       "    .dataframe tbody tr th:only-of-type {\n",
       "        vertical-align: middle;\n",
       "    }\n",
       "\n",
       "    .dataframe tbody tr th {\n",
       "        vertical-align: top;\n",
       "    }\n",
       "\n",
       "    .dataframe thead th {\n",
       "        text-align: right;\n",
       "    }\n",
       "</style>\n",
       "<table border=\"1\" class=\"dataframe\">\n",
       "  <thead>\n",
       "    <tr style=\"text-align: right;\">\n",
       "      <th></th>\n",
       "      <th>delta_s</th>\n",
       "      <th>u_delta_s</th>\n",
       "    </tr>\n",
       "  </thead>\n",
       "  <tbody>\n",
       "    <tr>\n",
       "      <th>1</th>\n",
       "      <td>1.596</td>\n",
       "      <td>1.064</td>\n",
       "    </tr>\n",
       "    <tr>\n",
       "      <th>2</th>\n",
       "      <td>3.192</td>\n",
       "      <td>1.064</td>\n",
       "    </tr>\n",
       "    <tr>\n",
       "      <th>3</th>\n",
       "      <td>4.788</td>\n",
       "      <td>1.064</td>\n",
       "    </tr>\n",
       "    <tr>\n",
       "      <th>4</th>\n",
       "      <td>6.384</td>\n",
       "      <td>1.064</td>\n",
       "    </tr>\n",
       "    <tr>\n",
       "      <th>5</th>\n",
       "      <td>7.980</td>\n",
       "      <td>1.064</td>\n",
       "    </tr>\n",
       "    <tr>\n",
       "      <th>6</th>\n",
       "      <td>9.576</td>\n",
       "      <td>1.064</td>\n",
       "    </tr>\n",
       "    <tr>\n",
       "      <th>7</th>\n",
       "      <td>11.172</td>\n",
       "      <td>1.064</td>\n",
       "    </tr>\n",
       "    <tr>\n",
       "      <th>8</th>\n",
       "      <td>12.768</td>\n",
       "      <td>1.064</td>\n",
       "    </tr>\n",
       "    <tr>\n",
       "      <th>9</th>\n",
       "      <td>0.000</td>\n",
       "      <td>1.064</td>\n",
       "    </tr>\n",
       "    <tr>\n",
       "      <th>10</th>\n",
       "      <td>1.596</td>\n",
       "      <td>1.064</td>\n",
       "    </tr>\n",
       "    <tr>\n",
       "      <th>11</th>\n",
       "      <td>3.192</td>\n",
       "      <td>1.064</td>\n",
       "    </tr>\n",
       "    <tr>\n",
       "      <th>12</th>\n",
       "      <td>4.788</td>\n",
       "      <td>1.064</td>\n",
       "    </tr>\n",
       "    <tr>\n",
       "      <th>13</th>\n",
       "      <td>6.384</td>\n",
       "      <td>1.064</td>\n",
       "    </tr>\n",
       "  </tbody>\n",
       "</table>\n",
       "</div>"
      ],
      "text/plain": [
       "    delta_s  u_delta_s\n",
       "1     1.596      1.064\n",
       "2     3.192      1.064\n",
       "3     4.788      1.064\n",
       "4     6.384      1.064\n",
       "5     7.980      1.064\n",
       "6     9.576      1.064\n",
       "7    11.172      1.064\n",
       "8    12.768      1.064\n",
       "9     0.000      1.064\n",
       "10    1.596      1.064\n",
       "11    3.192      1.064\n",
       "12    4.788      1.064\n",
       "13    6.384      1.064"
      ]
     },
     "execution_count": 140,
     "metadata": {},
     "output_type": "execute_result"
    }
   ],
   "source": [
    "delta_s_vals, u_delta_s_vals = fehler_gauss(\n",
    "    delta_s_formula,\n",
    "    [N_symbol, lambda_symbol],\n",
    "    [df[\"Maxima\"], lambda_laser],\n",
    "    [2, 0] # 2 Maxima Unsicherheit dieses Mal\n",
    ")\n",
    "df[\"delta_s\"] = delta_s_vals\n",
    "df[\"u_delta_s\"] = u_delta_s_vals\n",
    "df[[\"delta_s\", \"u_delta_s\"]] * 1e6 # Wegdifferenzen in µm anzeigen"
   ]
  },
  {
   "cell_type": "code",
   "execution_count": 141,
   "metadata": {},
   "outputs": [
    {
     "name": "stdout",
     "output_type": "stream",
     "text": [
      "n = 1.4478431998579908 +- 0.005790583969553881\n",
      "alpha0 = -0.00420070844635896 +- 0.0003249156385727962\n"
     ]
    },
    {
     "data": {
      "text/plain": [
       "<matplotlib.legend.Legend at 0x785813145310>"
      ]
     },
     "execution_count": 141,
     "metadata": {},
     "output_type": "execute_result"
    },
    {
     "data": {
      "image/png": "[encoded data removed]",
      "text/plain": [
       "<Figure size 640x480 with 1 Axes>"
      ]
     },
     "metadata": {},
     "output_type": "display_data"
    }
   ],
   "source": [
    "# Brechungsindex über Fit bestimmen\n",
    "def delta_s_func(alpha, n, alpha0):\n",
    "    alpha_shifted = alpha - alpha0\n",
    "    return (\n",
    "        2\n",
    "        * dicke_glasplatte\n",
    "        * (1 - n - np.cos(alpha_shifted) + np.sqrt(n**2 - np.sin(alpha_shifted) ** 2))\n",
    "    )\n",
    "popt, pcov = curve_fit(\n",
    "    delta_s_func,\n",
    "    df[\"alpha\"],\n",
    "    df[\"delta_s\"],\n",
    "    sigma=df[\"u_delta_s\"],\n",
    "    p0=[1.4, 0],\n",
    ")\n",
    "print(f\"n = {popt[0]} +- {np.sqrt(pcov[0, 0])}\")\n",
    "print(f\"alpha0 = {popt[1]} +- {np.sqrt(pcov[1, 1])}\")\n",
    "\n",
    "X = np.linspace(df[\"alpha\"].min(), df[\"alpha\"].max(), 1000)\n",
    "Y = delta_s_func(X, *popt)\n",
    "\n",
    "# Messdaten plotten\n",
    "plt.errorbar(\n",
    "    np.rad2deg(df[\"alpha\"]),\n",
    "    df[\"delta_s\"],\n",
    "    xerr=np.rad2deg(df[\"u_alpha\"]),\n",
    "    yerr=df[\"u_delta_s\"],\n",
    "    fmt=\"o\",\n",
    "    capsize=5,\n",
    "    label=\"Messwerte\"\n",
    ")\n",
    "# Fit plotten\n",
    "plt.plot(np.rad2deg(X), Y, label=f\"Fit: n = {popt[0]:.2f} ± {np.sqrt(pcov[0, 0]):.2f}, α0 = ({popt[1]*1e3:.2f} ± {np.sqrt(pcov[1, 1])*1e3:.2f}\" + r\") $\\cdot 10^{-3}$\")\n",
    "plt.xlabel(r\"$\\alpha$ [°]\")\n",
    "plt.ylabel(r\"$\\Delta s$ [m]\")\n",
    "plt.grid(True)\n",
    "plt.legend()"
   ]
  },
  {
   "cell_type": "markdown",
   "metadata": {},
   "source": [
    "## Druckabhängiger Brechungsindex\n",
    "\n",
    "$n = 1 + \\chi \\cdot \\frac{p}{T} \\implies \\Delta n = \\frac{\\chi}{T} \\cdot \\Delta p$\n",
    "\n",
    "Maxima: $2 l \\Delta n =\\Delta N \\lambda \\implies 2 l \\frac{\\chi}{T} \\Delta p = \\Delta N \\lambda \\implies \\frac{2 l \\chi}{\\lambda T} \\Delta p = \\Delta N$"
   ]
  },
  {
   "cell_type": "code",
   "execution_count": 142,
   "metadata": {},
   "outputs": [
    {
     "name": "stdout",
     "output_type": "stream",
     "text": [
      "Steigung: 50.76895131993218 ± 0.316807887342539\n",
      "Chi = 0.06575586113465728 ± 0.00041397172531428526\n",
      "n_Luft(p) = 1 + 0.00022507568418503264 * p\n"
     ]
    },
    {
     "data": {
      "image/png": "[encoded data removed]",
      "text/plain": [
       "<Figure size 640x480 with 1 Axes>"
      ]
     },
     "metadata": {},
     "output_type": "display_data"
    }
   ],
   "source": [
    "# Daten importieren\n",
    "df = pd.read_excel(\"INT.xlsx\", sheet_name=\"Druck\")\n",
    "\n",
    "u_p = 0.01 # Druckunsicherheit\n",
    "u_N = 1 # Unsicherheit der Maxima\n",
    "\n",
    "# Steigung durch Regression bestimmen\n",
    "popt, pcov = np.polyfit(df[\"Druck\"], df[\"Maxima\"], 1, cov=True)\n",
    "print(f\"Steigung: {popt[0]} ± {np.sqrt(pcov[0, 0])}\")\n",
    "\n",
    "# Messwerte plotten\n",
    "plt.errorbar(df[\"Druck\"], df[\"Maxima\"], xerr=u_p, yerr=u_N, fmt=\"o\", capsize=2, label=\"Messwerte\")\n",
    "plt.grid(True)\n",
    "plt.xlabel(r\"$\\Delta p$ [bar]\")\n",
    "plt.ylabel(r\"$\\Delta N$\")\n",
    "\n",
    "# Regressionsgerade plotten\n",
    "X = np.linspace(df[\"Druck\"].min(), df[\"Druck\"].max(), 1000)\n",
    "Y = np.polyval(popt, X)\n",
    "plt.plot(X, Y, label=f\"Fit: Steigung = {popt[0]:.2f} ± {np.sqrt(pcov[0, 0]):.2f}\")\n",
    "plt.legend()\n",
    "\n",
    "# Wert für Chi aus der Steigung bestimmen (m ist Geradensteigung)\n",
    "T_symbol, p_symbol, m_symbol = sp.symbols(\"T p m\")\n",
    "chi_formula = (m_symbol * T_symbol * lambda_symbol) / (2 * l_symbol)\n",
    "chi_val, u_chi_val = fehler_gauss(\n",
    "    chi_formula,\n",
    "    [m_symbol, T_symbol, lambda_symbol, l_symbol],\n",
    "    [popt[0], T, lambda_laser, laenge_kuevette],\n",
    "    [np.sqrt(pcov[0, 0]), 0, 0, u_laenge_kuevette]\n",
    ")\n",
    "print(f\"Chi = {chi_val} ± {u_chi_val}\")\n",
    "print(f\"n_Luft(p) = 1 + {chi_val / T} * p\")\n",
    "\n",
    "plt.savefig(\"druck.svg\")"
   ]
  },
  {
   "cell_type": "code",
   "execution_count": 143,
   "metadata": {},
   "outputs": [
    {
     "data": {
      "text/plain": [
       "np.float64(0.22507568418503263)"
      ]
     },
     "execution_count": 143,
     "metadata": {},
     "output_type": "execute_result"
    }
   ],
   "source": [
    "(chi_val / T) * 1e3"
   ]
  },
  {
   "cell_type": "code",
   "execution_count": null,
   "metadata": {},
   "outputs": [],
   "source": []
  }
 ],
 "metadata": {
  "kernelspec": {
   "display_name": "env",
   "language": "python",
   "name": "python3"
  },
  "language_info": {
   "codemirror_mode": {
    "name": "ipython",
    "version": 3
   },
   "file_extension": ".py",
   "mimetype": "text/x-python",
   "name": "python",
   "nbconvert_exporter": "python",
   "pygments_lexer": "ipython3",
   "version": "3.13.1"
  }
 },
 "nbformat": 4,
 "nbformat_minor": 2
}
