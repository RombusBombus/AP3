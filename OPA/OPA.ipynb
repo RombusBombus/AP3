{
 "cells": [
  {
   "cell_type": "code",
   "execution_count": 1,
   "metadata": {},
   "outputs": [],
   "source": [
    "import numpy as np\n",
    "import pandas as pd\n",
    "import sys\n",
    "sys.path.append('../')\n",
    "from utils.fehler_gauss import fehler_gauss, weighted_mean\n",
    "from sympy import *\n",
    "import matplotlib.pyplot as plt\n",
    "from scipy.optimize import curve_fit"
   ]
  },
  {
   "cell_type": "markdown",
   "metadata": {},
   "source": [
    "## Linsentypen\n",
    "\n",
    "- A Sammellinse\n",
    "- B Sammellinse\n",
    "- G Sammellinse\n",
    "- E Streulinse"
   ]
  },
  {
   "cell_type": "markdown",
   "metadata": {},
   "source": [
    "## Allgemeine Settings"
   ]
  },
  {
   "cell_type": "code",
   "execution_count": 2,
   "metadata": {},
   "outputs": [],
   "source": [
    "pos_lampe = 0e-2\n",
    "u_pos_lampe = 0.1e-2\n",
    "\n",
    "pos_linse_a = 5e-2\n",
    "u_pos_linse_a = 0.1e-2\n",
    "\n",
    "pos_gitter = 20e-2\n",
    "u_pos_gitter = 0.1e-2"
   ]
  },
  {
   "cell_type": "markdown",
   "metadata": {},
   "source": [
    "## Autokollimationsmethode Einfachlinsen\n",
    "\n",
    "Brennweite: $f' = \\frac{k + l -h}{2} \\approx \\frac{k + l}{2}$"
   ]
  },
  {
   "cell_type": "code",
   "execution_count": 3,
   "metadata": {},
   "outputs": [],
   "source": [
    "d_linse_spiegel = 3e-2\n",
    "u_d_linse_spiegel = 0.1e-2\n",
    "\n",
    "autokoll_einfach = pd.read_excel(\"OPA.xlsx\", sheet_name=\"AutokollimationEinfachlinsen\") * 1e-2 # importieren in meter\n",
    "u_autokoll_einfach = 0.3e-2 # ableseunsicherheit in meter\n",
    "\n",
    "k = autokoll_einfach - pos_gitter # abstand gitter - bildschirm\n",
    "l = k # abstand gitter - bildschirm umgedreht (nutzen einfach das Gleiche weil Gangsta)"
   ]
  },
  {
   "cell_type": "code",
   "execution_count": 4,
   "metadata": {},
   "outputs": [
    {
     "data": {
      "text/latex": [
       "$\\displaystyle \\frac{k}{2} + \\frac{l}{2}$"
      ],
      "text/plain": [
       "k/2 + l/2"
      ]
     },
     "execution_count": 4,
     "metadata": {},
     "output_type": "execute_result"
    }
   ],
   "source": [
    "# Typ A Unsicherheiten für die Abstände (korrigiert mit Student-t Verteilung)\n",
    "u_k_typ_a = k.std(ddof=1) * 0.51\n",
    "u_l_typ_a = l.std(ddof=1) * 0.51\n",
    "\n",
    "# Gaussche Fehlerfortpflanzung für die Brennweite\n",
    "k_symbol, l_symbol = symbols(\"k l\")\n",
    "brennweite_formula = (k_symbol + l_symbol) / 2\n",
    "brennweite_formula"
   ]
  },
  {
   "cell_type": "code",
   "execution_count": 5,
   "metadata": {},
   "outputs": [
    {
     "data": {
      "text/plain": [
       "G     7.50\n",
       "B    10.18\n",
       "dtype: float64"
      ]
     },
     "execution_count": 5,
     "metadata": {},
     "output_type": "execute_result"
    }
   ],
   "source": [
    "gesamtunsicherheit_k = np.sqrt(u_k_typ_a**2 + u_autokoll_einfach**2)\n",
    "gesamtunsicherheit_l = np.sqrt(u_l_typ_a**2 + u_autokoll_einfach**2)\n",
    "\n",
    "brennweite, u_brennweite = fehler_gauss(\n",
    "    brennweite_formula,\n",
    "    [k_symbol, l_symbol],\n",
    "    [k.mean(), l.mean()],\n",
    "    [gesamtunsicherheit_k, gesamtunsicherheit_l],\n",
    ")\n",
    "brennweite * 1e2 # brennweite in cm"
   ]
  },
  {
   "cell_type": "code",
   "execution_count": 6,
   "metadata": {},
   "outputs": [
    {
     "data": {
      "text/plain": [
       "G    0.215176\n",
       "B    0.214267\n",
       "dtype: float64"
      ]
     },
     "execution_count": 6,
     "metadata": {},
     "output_type": "execute_result"
    }
   ],
   "source": [
    "u_brennweite * 1e2 # unsicherheit in cm"
   ]
  },
  {
   "cell_type": "markdown",
   "metadata": {},
   "source": [
    "## Besselmethode Einfachlinsen\n",
    "\n",
    "$e = -a_1 + h + d + a_2' = -a_2 + h - d + a_1' = b_k - g_k$\n",
    "\n",
    "$b_k$ Position Schirm beim kleinen Bild\n",
    "\n",
    "$g$ Position Gitter\n",
    "\n",
    "$d = l_k - l_g$ Abstand zwischen den rechten Hauptebenen von kleinem zu großem Bild\n",
    "\n",
    "$l_k$ Position der Linse beim kleinen Bild\n",
    "\n",
    "$l_g$ Position der Linse beim großen Bild\n",
    "\n",
    "Brennweite $f' = \\frac{1}{4} \\cdot \\left[(e - h) - \\frac{d^2}{e - h} \\right] \\approx \\frac{1}{4} \\cdot \\left[e - \\frac{d^2}{e}\\right]$ (dünne Linse)"
   ]
  },
  {
   "cell_type": "code",
   "execution_count": 7,
   "metadata": {},
   "outputs": [
    {
     "data": {
      "text/html": [
       "<div>\n",
       "<style scoped>\n",
       "    .dataframe tbody tr th:only-of-type {\n",
       "        vertical-align: middle;\n",
       "    }\n",
       "\n",
       "    .dataframe tbody tr th {\n",
       "        vertical-align: top;\n",
       "    }\n",
       "\n",
       "    .dataframe thead th {\n",
       "        text-align: right;\n",
       "    }\n",
       "</style>\n",
       "<table border=\"1\" class=\"dataframe\">\n",
       "  <thead>\n",
       "    <tr style=\"text-align: right;\">\n",
       "      <th></th>\n",
       "      <th>G gross</th>\n",
       "      <th>G klein</th>\n",
       "      <th>E gross</th>\n",
       "      <th>E klein</th>\n",
       "    </tr>\n",
       "  </thead>\n",
       "  <tbody>\n",
       "    <tr>\n",
       "      <th>0</th>\n",
       "      <td>0.294</td>\n",
       "      <td>0.611</td>\n",
       "      <td>0.329</td>\n",
       "      <td>0.720</td>\n",
       "    </tr>\n",
       "    <tr>\n",
       "      <th>1</th>\n",
       "      <td>0.294</td>\n",
       "      <td>0.609</td>\n",
       "      <td>0.325</td>\n",
       "      <td>0.719</td>\n",
       "    </tr>\n",
       "    <tr>\n",
       "      <th>2</th>\n",
       "      <td>0.291</td>\n",
       "      <td>0.608</td>\n",
       "      <td>0.329</td>\n",
       "      <td>0.720</td>\n",
       "    </tr>\n",
       "    <tr>\n",
       "      <th>3</th>\n",
       "      <td>0.292</td>\n",
       "      <td>0.606</td>\n",
       "      <td>0.327</td>\n",
       "      <td>0.722</td>\n",
       "    </tr>\n",
       "    <tr>\n",
       "      <th>4</th>\n",
       "      <td>0.293</td>\n",
       "      <td>0.608</td>\n",
       "      <td>0.325</td>\n",
       "      <td>0.720</td>\n",
       "    </tr>\n",
       "  </tbody>\n",
       "</table>\n",
       "</div>"
      ],
      "text/plain": [
       "   G gross  G klein  E gross  E klein\n",
       "0    0.294    0.611    0.329    0.720\n",
       "1    0.294    0.609    0.325    0.719\n",
       "2    0.291    0.608    0.329    0.720\n",
       "3    0.292    0.606    0.327    0.722\n",
       "4    0.293    0.608    0.325    0.720"
      ]
     },
     "execution_count": 7,
     "metadata": {},
     "output_type": "execute_result"
    }
   ],
   "source": [
    "gittergroesse = 5e-3\n",
    "u_gittergroesse = 0.1e-2\n",
    "\n",
    "gittergroesse_schirm = 20e-3\n",
    "u_gittergroesse_schirm = 0.1e-3\n",
    "\n",
    "g_pos_schirm = 69.5e-2\n",
    "u_g_pos_schirm = 0.1e-2\n",
    "\n",
    "e_pos_schirm = 84.1e-2\n",
    "u_e_pos_schirm = 0.1e-2\n",
    "\n",
    "bessel_einfach = pd.read_excel(\"OPA.xlsx\", sheet_name=\"BesselEinfachlinsen\") * 1e-2 # in meter\n",
    "bessel_einfach"
   ]
  },
  {
   "cell_type": "code",
   "execution_count": 8,
   "metadata": {},
   "outputs": [
    {
     "data": {
      "text/latex": [
       "$\\displaystyle 0.25 b_{k} - 0.25 g - \\frac{0.25 \\left(- l_{g} + l_{k}\\right)^{2}}{b_{k} - g}$"
      ],
      "text/plain": [
       "0.25*b_k - 0.25*g - 0.25*(-l_g + l_k)**2/(b_k - g)"
      ]
     },
     "execution_count": 8,
     "metadata": {},
     "output_type": "execute_result"
    }
   ],
   "source": [
    "# gausssche Fehlerfortpflanzung für die Brennweite\n",
    "b_k_symbol, g_symbol = symbols(\"b_k g\")\n",
    "e = b_k_symbol - g_symbol\n",
    "\n",
    "l_k_symbol, l_g_symbol = symbols(\"l_k l_g\")\n",
    "d = l_k_symbol - l_g_symbol\n",
    "\n",
    "brennweite_formula = 1/4 * (e - d**2/e)\n",
    "brennweite_formula"
   ]
  },
  {
   "cell_type": "code",
   "execution_count": 9,
   "metadata": {},
   "outputs": [
    {
     "data": {
      "text/plain": [
       "(np.float64(7.344739640914351), np.float64(0.10323126960090592))"
      ]
     },
     "execution_count": 9,
     "metadata": {},
     "output_type": "execute_result"
    }
   ],
   "source": [
    "# Bessel für Linse G\n",
    "brennweiten_g, u_brennweiten_g = fehler_gauss(\n",
    "    brennweite_formula,\n",
    "    [b_k_symbol, g_symbol, l_k_symbol, l_g_symbol],\n",
    "    [\n",
    "        g_pos_schirm,\n",
    "        pos_gitter,\n",
    "        bessel_einfach[\"G klein\"],\n",
    "        bessel_einfach[\"G gross\"],\n",
    "    ],\n",
    "    [u_g_pos_schirm, u_pos_gitter, 5e-3, 5e-3],\n",
    ")\n",
    "brennweite_g, u_brennweite_g = weighted_mean(brennweiten_g, u_brennweiten_g)\n",
    "brennweite_g * 1e2, u_brennweite_g * 1e2 # Ergebnisse in cm"
   ]
  },
  {
   "cell_type": "code",
   "execution_count": 10,
   "metadata": {},
   "outputs": [
    {
     "data": {
      "text/plain": [
       "(np.float64(9.995497858863873), np.float64(0.0993978008322837))"
      ]
     },
     "execution_count": 10,
     "metadata": {},
     "output_type": "execute_result"
    }
   ],
   "source": [
    "# Bessel für Linse E\n",
    "brennweiten_e, u_brennweiten_e = fehler_gauss(\n",
    "    brennweite_formula,\n",
    "    [b_k_symbol, g_symbol, l_k_symbol, l_g_symbol],\n",
    "    [\n",
    "        e_pos_schirm,\n",
    "        pos_gitter,\n",
    "        bessel_einfach[\"E klein\"],\n",
    "        bessel_einfach[\"E gross\"],\n",
    "    ],\n",
    "    [u_e_pos_schirm, u_pos_gitter, 5e-3, 5e-3],\n",
    ")\n",
    "brennweite_e, u_brennweite_e = weighted_mean(brennweiten_e, u_brennweiten_e)\n",
    "brennweite_e * 1e2, u_brennweite_e * 1e2 # Ergebnisse in cm"
   ]
  },
  {
   "cell_type": "markdown",
   "metadata": {},
   "source": [
    "## Brennweite und Hauptebenenabstand Linsensystem mit Kombination aus Autokollimation und Bessel\n",
    "\n",
    "$f' = \\frac{1}{2} \\sqrt{(e - k - l)^2 - d^2}$\n",
    "\n",
    "$h = k + l - \\sqrt{(e - k - l)^2 - d^2}$"
   ]
  },
  {
   "cell_type": "code",
   "execution_count": 11,
   "metadata": {},
   "outputs": [
    {
     "data": {
      "text/html": [
       "<div>\n",
       "<style scoped>\n",
       "    .dataframe tbody tr th:only-of-type {\n",
       "        vertical-align: middle;\n",
       "    }\n",
       "\n",
       "    .dataframe tbody tr th {\n",
       "        vertical-align: top;\n",
       "    }\n",
       "\n",
       "    .dataframe thead th {\n",
       "        text-align: right;\n",
       "    }\n",
       "</style>\n",
       "<table border=\"1\" class=\"dataframe\">\n",
       "  <thead>\n",
       "    <tr style=\"text-align: right;\">\n",
       "      <th></th>\n",
       "      <th>G-E-Spiegel</th>\n",
       "      <th>E-G-Spiegel</th>\n",
       "    </tr>\n",
       "  </thead>\n",
       "  <tbody>\n",
       "    <tr>\n",
       "      <th>0</th>\n",
       "      <td>0.366</td>\n",
       "      <td>0.308</td>\n",
       "    </tr>\n",
       "    <tr>\n",
       "      <th>1</th>\n",
       "      <td>0.365</td>\n",
       "      <td>0.306</td>\n",
       "    </tr>\n",
       "    <tr>\n",
       "      <th>2</th>\n",
       "      <td>0.367</td>\n",
       "      <td>0.308</td>\n",
       "    </tr>\n",
       "    <tr>\n",
       "      <th>3</th>\n",
       "      <td>0.366</td>\n",
       "      <td>0.305</td>\n",
       "    </tr>\n",
       "    <tr>\n",
       "      <th>4</th>\n",
       "      <td>0.367</td>\n",
       "      <td>0.306</td>\n",
       "    </tr>\n",
       "  </tbody>\n",
       "</table>\n",
       "</div>"
      ],
      "text/plain": [
       "   G-E-Spiegel  E-G-Spiegel\n",
       "0        0.366        0.308\n",
       "1        0.365        0.306\n",
       "2        0.367        0.308\n",
       "3        0.366        0.305\n",
       "4        0.367        0.306"
      ]
     },
     "execution_count": 11,
     "metadata": {},
     "output_type": "execute_result"
    }
   ],
   "source": [
    "autokoll_linsensystem = pd.read_excel(\"OPA.xlsx\", sheet_name=\"AutokollimationLinsensystem\") * 1e-2 # in meter\n",
    "autokoll_linsensystem"
   ]
  },
  {
   "cell_type": "code",
   "execution_count": 12,
   "metadata": {},
   "outputs": [
    {
     "data": {
      "text/html": [
       "<div>\n",
       "<style scoped>\n",
       "    .dataframe tbody tr th:only-of-type {\n",
       "        vertical-align: middle;\n",
       "    }\n",
       "\n",
       "    .dataframe tbody tr th {\n",
       "        vertical-align: top;\n",
       "    }\n",
       "\n",
       "    .dataframe thead th {\n",
       "        text-align: right;\n",
       "    }\n",
       "</style>\n",
       "<table border=\"1\" class=\"dataframe\">\n",
       "  <thead>\n",
       "    <tr style=\"text-align: right;\">\n",
       "      <th></th>\n",
       "      <th>G-E-gross</th>\n",
       "      <th>G-E-klein</th>\n",
       "      <th>E-G-gross</th>\n",
       "      <th>E-G-klein</th>\n",
       "    </tr>\n",
       "  </thead>\n",
       "  <tbody>\n",
       "    <tr>\n",
       "      <th>0</th>\n",
       "      <td>0.392</td>\n",
       "      <td>0.941</td>\n",
       "      <td>0.339</td>\n",
       "      <td>0.847</td>\n",
       "    </tr>\n",
       "    <tr>\n",
       "      <th>1</th>\n",
       "      <td>0.391</td>\n",
       "      <td>0.944</td>\n",
       "      <td>0.342</td>\n",
       "      <td>0.848</td>\n",
       "    </tr>\n",
       "    <tr>\n",
       "      <th>2</th>\n",
       "      <td>0.393</td>\n",
       "      <td>0.940</td>\n",
       "      <td>0.342</td>\n",
       "      <td>0.851</td>\n",
       "    </tr>\n",
       "    <tr>\n",
       "      <th>3</th>\n",
       "      <td>0.394</td>\n",
       "      <td>0.940</td>\n",
       "      <td>0.337</td>\n",
       "      <td>0.851</td>\n",
       "    </tr>\n",
       "    <tr>\n",
       "      <th>4</th>\n",
       "      <td>0.394</td>\n",
       "      <td>0.944</td>\n",
       "      <td>0.341</td>\n",
       "      <td>0.850</td>\n",
       "    </tr>\n",
       "  </tbody>\n",
       "</table>\n",
       "</div>"
      ],
      "text/plain": [
       "   G-E-gross  G-E-klein  E-G-gross  E-G-klein\n",
       "0      0.392      0.941      0.339      0.847\n",
       "1      0.391      0.944      0.342      0.848\n",
       "2      0.393      0.940      0.342      0.851\n",
       "3      0.394      0.940      0.337      0.851\n",
       "4      0.394      0.944      0.341      0.850"
      ]
     },
     "execution_count": 12,
     "metadata": {},
     "output_type": "execute_result"
    }
   ],
   "source": [
    "g_e_pos_schirm = 107.5e-2\n",
    "u_g_e_pos_schirm = 0.1e-2\n",
    "\n",
    "e_g_pos_schirm = 104.6e-2\n",
    "u_e_g_pos_schirm = 0.1e-2\n",
    "\n",
    "bessel_linsensystem = pd.read_excel(\"OPA.xlsx\", sheet_name=\"BesselLinsensystem\") * 1e-2 # in meter\n",
    "bessel_linsensystem"
   ]
  },
  {
   "cell_type": "code",
   "execution_count": 13,
   "metadata": {},
   "outputs": [
    {
     "data": {
      "text/latex": [
       "$\\displaystyle 0.5 \\sqrt{- d^{2} + \\left(e - k - l\\right)^{2}}$"
      ],
      "text/plain": [
       "0.5*sqrt(-d**2 + (e - k - l)**2)"
      ]
     },
     "execution_count": 13,
     "metadata": {},
     "output_type": "execute_result"
    }
   ],
   "source": [
    "# fehler gauss\n",
    "e_symbol, d_symbol, k_symbol, l_symbol = symbols(\"e d k l\")\n",
    "brennweite_formula = 1/2 * sqrt((e_symbol - k_symbol - l_symbol)**2 - d_symbol**2)\n",
    "brennweite_formula"
   ]
  },
  {
   "cell_type": "code",
   "execution_count": 14,
   "metadata": {},
   "outputs": [
    {
     "data": {
      "text/latex": [
       "$\\displaystyle k + l - \\sqrt{- d^{2} + \\left(e - k - l\\right)^{2}}$"
      ],
      "text/plain": [
       "k + l - sqrt(-d**2 + (e - k - l)**2)"
      ]
     },
     "execution_count": 14,
     "metadata": {},
     "output_type": "execute_result"
    }
   ],
   "source": [
    "h_formula = k_symbol + l_symbol - sqrt((e_symbol - k_symbol - l_symbol)**2 - d_symbol**2)\n",
    "h_formula"
   ]
  },
  {
   "cell_type": "code",
   "execution_count": 24,
   "metadata": {},
   "outputs": [
    {
     "name": "stdout",
     "output_type": "stream",
     "text": [
      "G-E-Schirm: (np.float64(12.373746401151102), np.float64(1.2034000719578621))\n",
      "G-E-Schirm: (np.float64(2.5325071976978), np.float64(2.980192685121881))\n",
      "E-G-Schirm: (np.float64(13.15993920958604), np.float64(1.066320908081793))\n",
      "E-G-Schirm: (np.float64(0.9601215808279218), np.float64(2.7143913978521583))\n",
      "Gewichteter Mittelwert Brennweite: (np.float64(12.814152138335563), np.float64(0.7980863359707846))\n",
      "Gewichteter Mittelwert h: (np.float64(1.6730810259047706), np.float64(2.006768274482417))\n"
     ]
    }
   ],
   "source": [
    "k = autokoll_linsensystem[\"E-G-Spiegel\"] - pos_gitter\n",
    "u_k = np.sqrt((k.std(ddof=1) * 0.51)**2 + 5e-3**2 + 1e-3**2) # Unsicherheit k mit Typ A und Ableseunsicherheit\n",
    "k = k.mean()\n",
    "\n",
    "l = autokoll_linsensystem[\"G-E-Spiegel\"] - pos_gitter\n",
    "u_l = np.sqrt((l.std(ddof=1) * 0.51)**2 + 5e-3**2 + 1e-3**2) # Unsicherheit l mit Typ A und Ableseunsicherheit\n",
    "l = l.mean()\n",
    "\n",
    "brennweiten = []\n",
    "u_brennweiten = []\n",
    "\n",
    "hs = []\n",
    "u_hs = []\n",
    "\n",
    "for order, pos_schirm, u_pos_schirm in [\n",
    "   (\"G-E\", g_e_pos_schirm, u_g_e_pos_schirm),\n",
    "   (\"E-G\", e_g_pos_schirm, u_e_g_pos_schirm)\n",
    "]:\n",
    "    e = pos_schirm - pos_gitter\n",
    "    u_e = np.sqrt(u_pos_schirm**2 + u_pos_gitter**2)\n",
    "    d = bessel_linsensystem[f\"{order}-klein\"] - bessel_linsensystem[f\"{order}-gross\"]\n",
    "    u_d = np.sqrt((5e-3)**2 + (5e-3)**2 + d.std(ddof=1)**2 * 0.51**2)\n",
    "    d = d.mean()\n",
    "\n",
    "    brennweite, u_brennweite = fehler_gauss(\n",
    "        brennweite_formula,\n",
    "        [e_symbol, d_symbol, k_symbol, l_symbol],\n",
    "        [e, d, k, l],\n",
    "        [u_e, u_d, u_k, u_l],\n",
    "    )\n",
    "    print(f\"{order}-Schirm: {brennweite * 1e2, u_brennweite * 1e2}\")\n",
    "    brennweiten.append(brennweite)\n",
    "    u_brennweiten.append(u_brennweite)\n",
    "\n",
    "    h, u_h = fehler_gauss(\n",
    "        h_formula,\n",
    "        [e_symbol, d_symbol, k_symbol, l_symbol],\n",
    "        [e, d, k, l],\n",
    "        [u_e, u_d, u_k, u_l],\n",
    "    )\n",
    "    print(f\"{order}-Schirm: {h * 1e2, u_h * 1e2}\")\n",
    "    hs.append(h)\n",
    "    u_hs.append(u_h)\n",
    "\n",
    "# Gewichteter Mittelwert Brennweite\n",
    "brennweite, u_brennweite = weighted_mean(np.array(brennweiten), np.array(u_brennweiten))\n",
    "print(f\"Gewichteter Mittelwert Brennweite: {brennweite * 1e2, u_brennweite * 1e2}\")\n",
    "\n",
    "# Gewichteter Mittelwert h\n",
    "h, u_h = weighted_mean(np.array(hs), np.array(u_hs))\n",
    "print(f\"Gewichteter Mittelwert h: {h * 1e2, u_h * 1e2}\")"
   ]
  },
  {
   "cell_type": "markdown",
   "metadata": {},
   "source": [
    "## Abbeverfahren Linsensysteme"
   ]
  },
  {
   "cell_type": "code",
   "execution_count": 25,
   "metadata": {},
   "outputs": [
    {
     "data": {
      "text/html": [
       "<div>\n",
       "<style scoped>\n",
       "    .dataframe tbody tr th:only-of-type {\n",
       "        vertical-align: middle;\n",
       "    }\n",
       "\n",
       "    .dataframe tbody tr th {\n",
       "        vertical-align: top;\n",
       "    }\n",
       "\n",
       "    .dataframe thead th {\n",
       "        text-align: right;\n",
       "    }\n",
       "</style>\n",
       "<table border=\"1\" class=\"dataframe\">\n",
       "  <thead>\n",
       "    <tr style=\"text-align: right;\">\n",
       "      <th></th>\n",
       "      <th>Schirm</th>\n",
       "      <th>Vergroesserung</th>\n",
       "      <th>Position G</th>\n",
       "      <th>Verkleinerung</th>\n",
       "      <th>Position G.1</th>\n",
       "      <th>g_Vergroesserung</th>\n",
       "      <th>g_Verkleinerung</th>\n",
       "      <th>g'_Vergroesserung</th>\n",
       "      <th>g'_Verkleinerung</th>\n",
       "    </tr>\n",
       "  </thead>\n",
       "  <tbody>\n",
       "    <tr>\n",
       "      <th>0</th>\n",
       "      <td>1.50</td>\n",
       "      <td>-0.03440</td>\n",
       "      <td>0.330</td>\n",
       "      <td>-0.00100</td>\n",
       "      <td>1.321</td>\n",
       "      <td>0.130</td>\n",
       "      <td>1.121</td>\n",
       "      <td>1.170</td>\n",
       "      <td>0.179</td>\n",
       "    </tr>\n",
       "    <tr>\n",
       "      <th>1</th>\n",
       "      <td>1.25</td>\n",
       "      <td>-0.02455</td>\n",
       "      <td>0.327</td>\n",
       "      <td>-0.00100</td>\n",
       "      <td>1.061</td>\n",
       "      <td>0.127</td>\n",
       "      <td>0.861</td>\n",
       "      <td>0.923</td>\n",
       "      <td>0.189</td>\n",
       "    </tr>\n",
       "    <tr>\n",
       "      <th>2</th>\n",
       "      <td>1.00</td>\n",
       "      <td>-0.01760</td>\n",
       "      <td>0.334</td>\n",
       "      <td>-0.00135</td>\n",
       "      <td>0.799</td>\n",
       "      <td>0.134</td>\n",
       "      <td>0.599</td>\n",
       "      <td>0.666</td>\n",
       "      <td>0.201</td>\n",
       "    </tr>\n",
       "    <tr>\n",
       "      <th>3</th>\n",
       "      <td>0.75</td>\n",
       "      <td>-0.00765</td>\n",
       "      <td>0.380</td>\n",
       "      <td>-0.00320</td>\n",
       "      <td>0.521</td>\n",
       "      <td>0.180</td>\n",
       "      <td>0.321</td>\n",
       "      <td>0.370</td>\n",
       "      <td>0.229</td>\n",
       "    </tr>\n",
       "  </tbody>\n",
       "</table>\n",
       "</div>"
      ],
      "text/plain": [
       "   Schirm  Vergroesserung  Position G  Verkleinerung  Position G.1  \\\n",
       "0    1.50        -0.03440       0.330       -0.00100         1.321   \n",
       "1    1.25        -0.02455       0.327       -0.00100         1.061   \n",
       "2    1.00        -0.01760       0.334       -0.00135         0.799   \n",
       "3    0.75        -0.00765       0.380       -0.00320         0.521   \n",
       "\n",
       "   g_Vergroesserung  g_Verkleinerung  g'_Vergroesserung  g'_Verkleinerung  \n",
       "0             0.130            1.121              1.170             0.179  \n",
       "1             0.127            0.861              0.923             0.189  \n",
       "2             0.134            0.599              0.666             0.201  \n",
       "3             0.180            0.321              0.370             0.229  "
      ]
     },
     "execution_count": 25,
     "metadata": {},
     "output_type": "execute_result"
    }
   ],
   "source": [
    "dfs = {\n",
    "    \"e-g-schirm\": pd.read_excel(\"OPA.xlsx\", sheet_name=\"AbbeE-G-Schirm\"),\n",
    "    \"g-e-schirm\": pd.read_excel(\"OPA.xlsx\", sheet_name=\"AbbeG-E-Schirm\"),\n",
    "}\n",
    "\n",
    "for key, df in dfs.items():\n",
    "    df[\"Vergroesserung\"] = df[\"Vergroesserung\"] * -1e-3\n",
    "    df[\"Verkleinerung\"] = df[\"Verkleinerung\"] * -1e-3\n",
    "    df[\"Schirm\"] = df[\"Schirm\"] * 1e-2\n",
    "    df[\"Position G\"] = df[\"Position G\"] * 1e-2\n",
    "    df[\"Position G.1\"] = df[\"Position G.1\"] * 1e-2\n",
    "    df[\"g_Vergroesserung\"] = df[\"Position G\"] - pos_gitter\n",
    "    df[\"g_Verkleinerung\"] = df[\"Position G.1\"] - pos_gitter\n",
    "    df[\"g'_Vergroesserung\"] = df[\"Schirm\"] - df[\"Position G\"]\n",
    "    df[\"g'_Verkleinerung\"] = df[\"Schirm\"] - df[\"Position G.1\"]\n",
    "\n",
    "dfs[\"e-g-schirm\"]"
   ]
  },
  {
   "cell_type": "code",
   "execution_count": 26,
   "metadata": {},
   "outputs": [],
   "source": [
    "groesse_gitter = 5e-3\n",
    "u_groesse_gitter = 0.1e-3"
   ]
  },
  {
   "cell_type": "code",
   "execution_count": 27,
   "metadata": {},
   "outputs": [
    {
     "data": {
      "text/latex": [
       "$\\displaystyle \\frac{y'}{y}$"
      ],
      "text/plain": [
       "y'/y"
      ]
     },
     "execution_count": 27,
     "metadata": {},
     "output_type": "execute_result"
    }
   ],
   "source": [
    "# Vergrößerungen / Verkleinerungen mit Unsicherheiten bestimmen\n",
    "y_symbol, yp_symbol = symbols(\"y y'\")\n",
    "beta = yp_symbol / y_symbol\n",
    "beta"
   ]
  },
  {
   "cell_type": "code",
   "execution_count": 28,
   "metadata": {},
   "outputs": [
    {
     "data": {
      "text/html": [
       "<div>\n",
       "<style scoped>\n",
       "    .dataframe tbody tr th:only-of-type {\n",
       "        vertical-align: middle;\n",
       "    }\n",
       "\n",
       "    .dataframe tbody tr th {\n",
       "        vertical-align: top;\n",
       "    }\n",
       "\n",
       "    .dataframe thead th {\n",
       "        text-align: right;\n",
       "    }\n",
       "</style>\n",
       "<table border=\"1\" class=\"dataframe\">\n",
       "  <thead>\n",
       "    <tr style=\"text-align: right;\">\n",
       "      <th></th>\n",
       "      <th>Schirm</th>\n",
       "      <th>Vergroesserung</th>\n",
       "      <th>Position G</th>\n",
       "      <th>Verkleinerung</th>\n",
       "      <th>Position G.1</th>\n",
       "      <th>g_Vergroesserung</th>\n",
       "      <th>g_Verkleinerung</th>\n",
       "      <th>g'_Vergroesserung</th>\n",
       "      <th>g'_Verkleinerung</th>\n",
       "      <th>beta_Vergroesserung</th>\n",
       "      <th>u_beta_Vergroesserung</th>\n",
       "      <th>beta_Verkleinerung</th>\n",
       "      <th>u_beta_Verkleinerung</th>\n",
       "    </tr>\n",
       "  </thead>\n",
       "  <tbody>\n",
       "    <tr>\n",
       "      <th>0</th>\n",
       "      <td>1.50</td>\n",
       "      <td>-0.03440</td>\n",
       "      <td>0.330</td>\n",
       "      <td>-0.00100</td>\n",
       "      <td>1.321</td>\n",
       "      <td>0.130</td>\n",
       "      <td>1.121</td>\n",
       "      <td>1.170</td>\n",
       "      <td>0.179</td>\n",
       "      <td>-6.88</td>\n",
       "      <td>0.242763</td>\n",
       "      <td>-0.20</td>\n",
       "      <td>0.200040</td>\n",
       "    </tr>\n",
       "    <tr>\n",
       "      <th>1</th>\n",
       "      <td>1.25</td>\n",
       "      <td>-0.02455</td>\n",
       "      <td>0.327</td>\n",
       "      <td>-0.00100</td>\n",
       "      <td>1.061</td>\n",
       "      <td>0.127</td>\n",
       "      <td>0.861</td>\n",
       "      <td>0.923</td>\n",
       "      <td>0.189</td>\n",
       "      <td>-4.91</td>\n",
       "      <td>0.222808</td>\n",
       "      <td>-0.20</td>\n",
       "      <td>0.200040</td>\n",
       "    </tr>\n",
       "    <tr>\n",
       "      <th>2</th>\n",
       "      <td>1.00</td>\n",
       "      <td>-0.01760</td>\n",
       "      <td>0.334</td>\n",
       "      <td>-0.00135</td>\n",
       "      <td>0.799</td>\n",
       "      <td>0.134</td>\n",
       "      <td>0.599</td>\n",
       "      <td>0.666</td>\n",
       "      <td>0.201</td>\n",
       "      <td>-3.52</td>\n",
       "      <td>0.212029</td>\n",
       "      <td>-0.27</td>\n",
       "      <td>0.200073</td>\n",
       "    </tr>\n",
       "    <tr>\n",
       "      <th>3</th>\n",
       "      <td>0.75</td>\n",
       "      <td>-0.00765</td>\n",
       "      <td>0.380</td>\n",
       "      <td>-0.00320</td>\n",
       "      <td>0.521</td>\n",
       "      <td>0.180</td>\n",
       "      <td>0.321</td>\n",
       "      <td>0.370</td>\n",
       "      <td>0.229</td>\n",
       "      <td>-1.53</td>\n",
       "      <td>0.202327</td>\n",
       "      <td>-0.64</td>\n",
       "      <td>0.200409</td>\n",
       "    </tr>\n",
       "  </tbody>\n",
       "</table>\n",
       "</div>"
      ],
      "text/plain": [
       "   Schirm  Vergroesserung  Position G  Verkleinerung  Position G.1  \\\n",
       "0    1.50        -0.03440       0.330       -0.00100         1.321   \n",
       "1    1.25        -0.02455       0.327       -0.00100         1.061   \n",
       "2    1.00        -0.01760       0.334       -0.00135         0.799   \n",
       "3    0.75        -0.00765       0.380       -0.00320         0.521   \n",
       "\n",
       "   g_Vergroesserung  g_Verkleinerung  g'_Vergroesserung  g'_Verkleinerung  \\\n",
       "0             0.130            1.121              1.170             0.179   \n",
       "1             0.127            0.861              0.923             0.189   \n",
       "2             0.134            0.599              0.666             0.201   \n",
       "3             0.180            0.321              0.370             0.229   \n",
       "\n",
       "   beta_Vergroesserung  u_beta_Vergroesserung  beta_Verkleinerung  \\\n",
       "0                -6.88               0.242763               -0.20   \n",
       "1                -4.91               0.222808               -0.20   \n",
       "2                -3.52               0.212029               -0.27   \n",
       "3                -1.53               0.202327               -0.64   \n",
       "\n",
       "   u_beta_Verkleinerung  \n",
       "0              0.200040  \n",
       "1              0.200040  \n",
       "2              0.200073  \n",
       "3              0.200409  "
      ]
     },
     "execution_count": 28,
     "metadata": {},
     "output_type": "execute_result"
    }
   ],
   "source": [
    "for category in [\"Vergroesserung\", \"Verkleinerung\"]:\n",
    "    for df in dfs.values():\n",
    "        beta_verkleinerung, u_beta_verkleinerung = fehler_gauss(\n",
    "            beta,\n",
    "            [y_symbol, yp_symbol],\n",
    "            [groesse_gitter, df[category]],\n",
    "            [u_groesse_gitter, 1e-3],\n",
    "        )\n",
    "        df[f\"beta_{category}\"] = beta_verkleinerung\n",
    "        df[f\"u_beta_{category}\"] = u_beta_verkleinerung\n",
    "\n",
    "dfs[\"e-g-schirm\"]"
   ]
  },
  {
   "cell_type": "code",
   "execution_count": 50,
   "metadata": {},
   "outputs": [
    {
     "data": {
      "text/html": [
       "<div>\n",
       "<style scoped>\n",
       "    .dataframe tbody tr th:only-of-type {\n",
       "        vertical-align: middle;\n",
       "    }\n",
       "\n",
       "    .dataframe tbody tr th {\n",
       "        vertical-align: top;\n",
       "    }\n",
       "\n",
       "    .dataframe thead th {\n",
       "        text-align: right;\n",
       "    }\n",
       "</style>\n",
       "<table border=\"1\" class=\"dataframe\">\n",
       "  <thead>\n",
       "    <tr style=\"text-align: right;\">\n",
       "      <th></th>\n",
       "      <th>beta</th>\n",
       "      <th>u_beta</th>\n",
       "      <th>Schirm</th>\n",
       "      <th>g</th>\n",
       "      <th>g'</th>\n",
       "    </tr>\n",
       "  </thead>\n",
       "  <tbody>\n",
       "    <tr>\n",
       "      <th>0</th>\n",
       "      <td>-6.88</td>\n",
       "      <td>0.242763</td>\n",
       "      <td>1.50</td>\n",
       "      <td>0.130</td>\n",
       "      <td>1.170</td>\n",
       "    </tr>\n",
       "    <tr>\n",
       "      <th>1</th>\n",
       "      <td>-4.91</td>\n",
       "      <td>0.222808</td>\n",
       "      <td>1.25</td>\n",
       "      <td>0.127</td>\n",
       "      <td>0.923</td>\n",
       "    </tr>\n",
       "    <tr>\n",
       "      <th>2</th>\n",
       "      <td>-3.52</td>\n",
       "      <td>0.212029</td>\n",
       "      <td>1.00</td>\n",
       "      <td>0.134</td>\n",
       "      <td>0.666</td>\n",
       "    </tr>\n",
       "    <tr>\n",
       "      <th>3</th>\n",
       "      <td>-1.53</td>\n",
       "      <td>0.202327</td>\n",
       "      <td>0.75</td>\n",
       "      <td>0.180</td>\n",
       "      <td>0.370</td>\n",
       "    </tr>\n",
       "    <tr>\n",
       "      <th>0</th>\n",
       "      <td>-0.20</td>\n",
       "      <td>0.200040</td>\n",
       "      <td>1.50</td>\n",
       "      <td>1.121</td>\n",
       "      <td>0.179</td>\n",
       "    </tr>\n",
       "    <tr>\n",
       "      <th>1</th>\n",
       "      <td>-0.20</td>\n",
       "      <td>0.200040</td>\n",
       "      <td>1.25</td>\n",
       "      <td>0.861</td>\n",
       "      <td>0.189</td>\n",
       "    </tr>\n",
       "    <tr>\n",
       "      <th>2</th>\n",
       "      <td>-0.27</td>\n",
       "      <td>0.200073</td>\n",
       "      <td>1.00</td>\n",
       "      <td>0.599</td>\n",
       "      <td>0.201</td>\n",
       "    </tr>\n",
       "    <tr>\n",
       "      <th>3</th>\n",
       "      <td>-0.64</td>\n",
       "      <td>0.200409</td>\n",
       "      <td>0.75</td>\n",
       "      <td>0.321</td>\n",
       "      <td>0.229</td>\n",
       "    </tr>\n",
       "  </tbody>\n",
       "</table>\n",
       "</div>"
      ],
      "text/plain": [
       "   beta    u_beta  Schirm      g     g'\n",
       "0 -6.88  0.242763    1.50  0.130  1.170\n",
       "1 -4.91  0.222808    1.25  0.127  0.923\n",
       "2 -3.52  0.212029    1.00  0.134  0.666\n",
       "3 -1.53  0.202327    0.75  0.180  0.370\n",
       "0 -0.20  0.200040    1.50  1.121  0.179\n",
       "1 -0.20  0.200040    1.25  0.861  0.189\n",
       "2 -0.27  0.200073    1.00  0.599  0.201\n",
       "3 -0.64  0.200409    0.75  0.321  0.229"
      ]
     },
     "execution_count": 50,
     "metadata": {},
     "output_type": "execute_result"
    }
   ],
   "source": [
    "betas = {\"e-g\": None, \"g-e\": None}\n",
    "\n",
    "for order in betas.keys():\n",
    "    betas[order] = pd.DataFrame({\n",
    "        \"beta\": pd.concat((dfs[f\"{order}-schirm\"][\"beta_Vergroesserung\"], dfs[f\"{order}-schirm\"][\"beta_Verkleinerung\"])),\n",
    "        \"u_beta\": pd.concat((dfs[f\"{order}-schirm\"][\"u_beta_Vergroesserung\"], dfs[f\"{order}-schirm\"][\"u_beta_Verkleinerung\"])),\n",
    "        \"Schirm\": pd.concat((dfs[f\"{order}-schirm\"][\"Schirm\"], dfs[f\"{order}-schirm\"][\"Schirm\"])),\n",
    "        \"g\": pd.concat((dfs[f\"{order}-schirm\"][\"g_Vergroesserung\"], dfs[f\"{order}-schirm\"][\"g_Verkleinerung\"])),\n",
    "        \"g'\": pd.concat((dfs[f\"{order}-schirm\"][\"g'_Vergroesserung\"], dfs[f\"{order}-schirm\"][\"g'_Verkleinerung\"])),\n",
    "    })\n",
    "\n",
    "betas[\"e-g\"]"
   ]
  },
  {
   "cell_type": "code",
   "execution_count": 51,
   "metadata": {},
   "outputs": [
    {
     "data": {
      "text/latex": [
       "$\\displaystyle 1 - \\frac{1}{\\beta}$"
      ],
      "text/plain": [
       "1 - 1/beta"
      ]
     },
     "execution_count": 51,
     "metadata": {},
     "output_type": "execute_result"
    }
   ],
   "source": [
    "# 1 - 1/beta berechnen mit Unsicherheiten\n",
    "beta_symbol = symbols(\"beta\")\n",
    "regression1_formula = 1 - 1/beta_symbol\n",
    "regression1_formula"
   ]
  },
  {
   "cell_type": "code",
   "execution_count": 52,
   "metadata": {},
   "outputs": [
    {
     "data": {
      "text/latex": [
       "$\\displaystyle 1 - \\beta$"
      ],
      "text/plain": [
       "1 - beta"
      ]
     },
     "execution_count": 52,
     "metadata": {},
     "output_type": "execute_result"
    }
   ],
   "source": [
    "regression2_formula = 1 - beta_symbol\n",
    "regression2_formula"
   ]
  },
  {
   "cell_type": "code",
   "execution_count": 58,
   "metadata": {},
   "outputs": [
    {
     "data": {
      "text/html": [
       "<div>\n",
       "<style scoped>\n",
       "    .dataframe tbody tr th:only-of-type {\n",
       "        vertical-align: middle;\n",
       "    }\n",
       "\n",
       "    .dataframe tbody tr th {\n",
       "        vertical-align: top;\n",
       "    }\n",
       "\n",
       "    .dataframe thead th {\n",
       "        text-align: right;\n",
       "    }\n",
       "</style>\n",
       "<table border=\"1\" class=\"dataframe\">\n",
       "  <thead>\n",
       "    <tr style=\"text-align: right;\">\n",
       "      <th></th>\n",
       "      <th>beta</th>\n",
       "      <th>u_beta</th>\n",
       "      <th>Schirm</th>\n",
       "      <th>g</th>\n",
       "      <th>g'</th>\n",
       "      <th>1-1/beta</th>\n",
       "      <th>u_1-1/beta</th>\n",
       "      <th>1-beta</th>\n",
       "      <th>u_1-beta</th>\n",
       "    </tr>\n",
       "  </thead>\n",
       "  <tbody>\n",
       "    <tr>\n",
       "      <th>0</th>\n",
       "      <td>-6.88</td>\n",
       "      <td>0.242763</td>\n",
       "      <td>1.50</td>\n",
       "      <td>0.130</td>\n",
       "      <td>1.170</td>\n",
       "      <td>1.145349</td>\n",
       "      <td>0.005129</td>\n",
       "      <td>7.88</td>\n",
       "      <td>0.242763</td>\n",
       "    </tr>\n",
       "    <tr>\n",
       "      <th>1</th>\n",
       "      <td>-4.91</td>\n",
       "      <td>0.222808</td>\n",
       "      <td>1.25</td>\n",
       "      <td>0.127</td>\n",
       "      <td>0.923</td>\n",
       "      <td>1.203666</td>\n",
       "      <td>0.009242</td>\n",
       "      <td>5.91</td>\n",
       "      <td>0.222808</td>\n",
       "    </tr>\n",
       "    <tr>\n",
       "      <th>2</th>\n",
       "      <td>-3.52</td>\n",
       "      <td>0.212029</td>\n",
       "      <td>1.00</td>\n",
       "      <td>0.134</td>\n",
       "      <td>0.666</td>\n",
       "      <td>1.284091</td>\n",
       "      <td>0.017112</td>\n",
       "      <td>4.52</td>\n",
       "      <td>0.212029</td>\n",
       "    </tr>\n",
       "    <tr>\n",
       "      <th>3</th>\n",
       "      <td>-1.53</td>\n",
       "      <td>0.202327</td>\n",
       "      <td>0.75</td>\n",
       "      <td>0.180</td>\n",
       "      <td>0.370</td>\n",
       "      <td>1.653595</td>\n",
       "      <td>0.086431</td>\n",
       "      <td>2.53</td>\n",
       "      <td>0.202327</td>\n",
       "    </tr>\n",
       "    <tr>\n",
       "      <th>0</th>\n",
       "      <td>-0.20</td>\n",
       "      <td>0.200040</td>\n",
       "      <td>1.50</td>\n",
       "      <td>1.121</td>\n",
       "      <td>0.179</td>\n",
       "      <td>6.000000</td>\n",
       "      <td>5.001000</td>\n",
       "      <td>1.20</td>\n",
       "      <td>0.200040</td>\n",
       "    </tr>\n",
       "    <tr>\n",
       "      <th>1</th>\n",
       "      <td>-0.20</td>\n",
       "      <td>0.200040</td>\n",
       "      <td>1.25</td>\n",
       "      <td>0.861</td>\n",
       "      <td>0.189</td>\n",
       "      <td>6.000000</td>\n",
       "      <td>5.001000</td>\n",
       "      <td>1.20</td>\n",
       "      <td>0.200040</td>\n",
       "    </tr>\n",
       "    <tr>\n",
       "      <th>2</th>\n",
       "      <td>-0.27</td>\n",
       "      <td>0.200073</td>\n",
       "      <td>1.00</td>\n",
       "      <td>0.599</td>\n",
       "      <td>0.201</td>\n",
       "      <td>4.703704</td>\n",
       "      <td>2.744484</td>\n",
       "      <td>1.27</td>\n",
       "      <td>0.200073</td>\n",
       "    </tr>\n",
       "    <tr>\n",
       "      <th>3</th>\n",
       "      <td>-0.64</td>\n",
       "      <td>0.200409</td>\n",
       "      <td>0.75</td>\n",
       "      <td>0.321</td>\n",
       "      <td>0.229</td>\n",
       "      <td>2.562500</td>\n",
       "      <td>0.489280</td>\n",
       "      <td>1.64</td>\n",
       "      <td>0.200409</td>\n",
       "    </tr>\n",
       "  </tbody>\n",
       "</table>\n",
       "</div>"
      ],
      "text/plain": [
       "   beta    u_beta  Schirm      g     g'  1-1/beta  u_1-1/beta  1-beta  \\\n",
       "0 -6.88  0.242763    1.50  0.130  1.170  1.145349    0.005129    7.88   \n",
       "1 -4.91  0.222808    1.25  0.127  0.923  1.203666    0.009242    5.91   \n",
       "2 -3.52  0.212029    1.00  0.134  0.666  1.284091    0.017112    4.52   \n",
       "3 -1.53  0.202327    0.75  0.180  0.370  1.653595    0.086431    2.53   \n",
       "0 -0.20  0.200040    1.50  1.121  0.179  6.000000    5.001000    1.20   \n",
       "1 -0.20  0.200040    1.25  0.861  0.189  6.000000    5.001000    1.20   \n",
       "2 -0.27  0.200073    1.00  0.599  0.201  4.703704    2.744484    1.27   \n",
       "3 -0.64  0.200409    0.75  0.321  0.229  2.562500    0.489280    1.64   \n",
       "\n",
       "   u_1-beta  \n",
       "0  0.242763  \n",
       "1  0.222808  \n",
       "2  0.212029  \n",
       "3  0.202327  \n",
       "0  0.200040  \n",
       "1  0.200040  \n",
       "2  0.200073  \n",
       "3  0.200409  "
      ]
     },
     "execution_count": 58,
     "metadata": {},
     "output_type": "execute_result"
    }
   ],
   "source": [
    "for key, df in betas.items():\n",
    "    for regression_formula, name in [\n",
    "        (regression1_formula, \"1-1/beta\"),\n",
    "        (regression2_formula, \"1-beta\"),\n",
    "    ]:\n",
    "        regression, u_regression = fehler_gauss(\n",
    "            regression_formula,\n",
    "            [beta_symbol],\n",
    "            [df[\"beta\"]],\n",
    "            [df[\"u_beta\"]],\n",
    "        )\n",
    "        df[name] = regression\n",
    "        df[f\"u_{name}\"] = u_regression\n",
    "\n",
    "betas[\"e-g\"]"
   ]
  },
  {
   "cell_type": "code",
   "execution_count": 83,
   "metadata": {},
   "outputs": [
    {
     "data": {
      "image/png": "[encoded data removed]",
      "text/plain": [
       "<Figure size 1200x600 with 2 Axes>"
      ]
     },
     "metadata": {},
     "output_type": "display_data"
    },
    {
     "data": {
      "image/png": "[encoded data removed]",
      "text/plain": [
       "<Figure size 1200x600 with 2 Axes>"
      ]
     },
     "metadata": {},
     "output_type": "display_data"
    }
   ],
   "source": [
    "def linear(x, m, b):\n",
    "    return m * x + b\n",
    "\n",
    "brennweiten = []\n",
    "u_brennweiten = []\n",
    "\n",
    "h1s = []\n",
    "u_h1s = []\n",
    "\n",
    "h2s = []\n",
    "u_h2s = []\n",
    "\n",
    "for order, df in betas.items():\n",
    "    fig, axs = plt.subplots(1, 2, figsize=(12, 6))\n",
    "    axs = axs.flatten()\n",
    "\n",
    "    popt, pcov = curve_fit(linear, df[\"1-1/beta\"], df[\"g\"])\n",
    "    x = np.linspace(df[\"1-1/beta\"].min(), df[\"1-1/beta\"].max(), 100)\n",
    "    y = linear(x, *popt)\n",
    "    brennweiten.append(popt[0])\n",
    "    u_brennweiten.append(np.sqrt(np.diag(pcov))[0])\n",
    "    h1s.append(popt[1])\n",
    "    u_h1s.append(np.sqrt(np.diag(pcov))[1])\n",
    "\n",
    "    axs[0].scatter(x=df[\"1-1/beta\"], y=df[\"g\"], label=\"Messdaten\")\n",
    "    axs[0].grid()\n",
    "    axs[0].set_xlabel(r\"$1 - \\frac{1}{\\beta}$\")\n",
    "    axs[0].set_ylabel(r\"$g$ [m]\")\n",
    "    axs[0].plot(x, y, label=f\"y = {popt[0]:.2f}x + {popt[1]:.2f}\", c=\"orange\")\n",
    "    axs[0].legend()\n",
    "\n",
    "    popt, pcov = curve_fit(linear, df[\"1-beta\"], df[\"g'\"])\n",
    "    x = np.linspace(df[\"1-beta\"].min(), df[\"1-beta\"].max(), 100)\n",
    "    y = linear(x, *popt)\n",
    "    h2s.append(popt[1])\n",
    "    u_h2s.append(np.sqrt(np.diag(pcov))[1])\n",
    "\n",
    "    axs[1].scatter(x=df[\"1-beta\"], y=df[\"g'\"], label=\"Messdaten\")\n",
    "    axs[1].grid()\n",
    "    axs[1].set_xlabel(r\"$1 - \\beta$\")\n",
    "    axs[1].set_ylabel(r\"$g'$ [m]\")\n",
    "    axs[1].plot(x, y, label=f\"y = {popt[0]:.2f}x + {popt[1]:.2f}\", c=\"orange\")\n",
    "    axs[1].legend()"
   ]
  },
  {
   "cell_type": "code",
   "execution_count": 91,
   "metadata": {},
   "outputs": [
    {
     "data": {
      "text/plain": [
       "(np.float64(18.287976372077562), np.float64(2.1738990660495827))"
      ]
     },
     "execution_count": 91,
     "metadata": {},
     "output_type": "execute_result"
    }
   ],
   "source": [
    "# Brennweiten\n",
    "brennweite, u_brennweite = weighted_mean(np.array(brennweiten), np.array(u_brennweiten))\n",
    "brennweite * 1e2, u_brennweite * 1e2"
   ]
  },
  {
   "cell_type": "code",
   "execution_count": 92,
   "metadata": {},
   "outputs": [
    {
     "data": {
      "text/plain": [
       "(np.float64(-10.283241271270096), np.float64(5.447774777584405))"
      ]
     },
     "execution_count": 92,
     "metadata": {},
     "output_type": "execute_result"
    }
   ],
   "source": [
    "# h1\n",
    "h1, u_h1 = weighted_mean(np.array(h1s), np.array(u_h1s))\n",
    "h1 * 1e2, u_h1 * 1e2"
   ]
  },
  {
   "cell_type": "code",
   "execution_count": 93,
   "metadata": {},
   "outputs": [
    {
     "data": {
      "text/plain": [
       "(np.float64(-4.357198644991667), np.float64(3.398547753669834))"
      ]
     },
     "execution_count": 93,
     "metadata": {},
     "output_type": "execute_result"
    }
   ],
   "source": [
    "# h2\n",
    "h2, u_h2 = weighted_mean(np.array(h2s), np.array(u_h2s))\n",
    "h2 * 1e2, u_h2 * 1e2"
   ]
  },
  {
   "cell_type": "code",
   "execution_count": 95,
   "metadata": {},
   "outputs": [
    {
     "data": {
      "text/plain": [
       "np.float64(-5.92604262627843)"
      ]
     },
     "execution_count": 95,
     "metadata": {},
     "output_type": "execute_result"
    }
   ],
   "source": [
    "(h1 - h2) * 1e2"
   ]
  }
 ],
 "metadata": {
  "kernelspec": {
   "display_name": "env",
   "language": "python",
   "name": "python3"
  },
  "language_info": {
   "codemirror_mode": {
    "name": "ipython",
    "version": 3
   },
   "file_extension": ".py",
   "mimetype": "text/x-python",
   "name": "python",
   "nbconvert_exporter": "python",
   "pygments_lexer": "ipython3",
   "version": "3.12.5"
  }
 },
 "nbformat": 4,
 "nbformat_minor": 2
}
