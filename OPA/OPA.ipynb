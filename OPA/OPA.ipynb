{
 "cells": [
  {
   "cell_type": "code",
   "execution_count": 285,
   "metadata": {},
   "outputs": [],
   "source": [
    "import numpy as np\n",
    "import pandas as pd\n",
    "import sys\n",
    "sys.path.append('../')\n",
    "from utils.fehler_gauss import fehler_gauss, weighted_mean\n",
    "from sympy import *\n",
    "import matplotlib.pyplot as plt\n",
    "from scipy.optimize import curve_fit"
   ]
  },
  {
   "cell_type": "markdown",
   "metadata": {},
   "source": [
    "## Linsentypen\n",
    "\n",
    "- A Sammellinse\n",
    "- B Sammellinse\n",
    "- G Sammellinse\n",
    "- E Streulinse"
   ]
  },
  {
   "cell_type": "markdown",
   "metadata": {},
   "source": [
    "## Allgemeine Settings"
   ]
  },
  {
   "cell_type": "code",
   "execution_count": 286,
   "metadata": {},
   "outputs": [],
   "source": [
    "pos_lampe = 0e-2\n",
    "u_pos_lampe = 0.1e-2\n",
    "\n",
    "pos_linse_a = 5e-2\n",
    "u_pos_linse_a = 0.1e-2\n",
    "\n",
    "pos_gitter = 20e-2\n",
    "u_pos_gitter = 0.1e-2"
   ]
  },
  {
   "cell_type": "markdown",
   "metadata": {},
   "source": [
    "## Autokollimationsmethode Einfachlinsen\n",
    "\n",
    "Brennweite: $f' = \\frac{k + l -h}{2} \\approx \\frac{k + l}{2}$"
   ]
  },
  {
   "cell_type": "code",
   "execution_count": 287,
   "metadata": {},
   "outputs": [],
   "source": [
    "d_linse_spiegel = 3e-2\n",
    "u_d_linse_spiegel = 0.1e-2\n",
    "\n",
    "autokoll_einfach = pd.read_excel(\"OPA.xlsx\", sheet_name=\"AutokollimationEinfachlinsen\") * 1e-2 # importieren in meter\n",
    "u_autokoll_einfach = 0.3e-2 # ableseunsicherheit in meter\n",
    "\n",
    "k = autokoll_einfach - pos_gitter # abstand gitter - bildschirm\n",
    "l = k # abstand gitter - bildschirm umgedreht (nutzen einfach das Gleiche weil Gangsta)"
   ]
  },
  {
   "cell_type": "code",
   "execution_count": 288,
   "metadata": {},
   "outputs": [
    {
     "data": {
      "text/latex": [
       "$\\displaystyle \\frac{k}{2} + \\frac{l}{2}$"
      ],
      "text/plain": [
       "k/2 + l/2"
      ]
     },
     "execution_count": 288,
     "metadata": {},
     "output_type": "execute_result"
    }
   ],
   "source": [
    "# Typ A Unsicherheiten für die Abstände (korrigiert mit Student-t Verteilung)\n",
    "u_k_typ_a = k.std(ddof=1) * 0.51\n",
    "u_l_typ_a = l.std(ddof=1) * 0.51\n",
    "\n",
    "# Gaussche Fehlerfortpflanzung für die Brennweite\n",
    "k_symbol, l_symbol = symbols(\"k l\")\n",
    "brennweite_formula = (k_symbol + l_symbol) / 2\n",
    "brennweite_formula"
   ]
  },
  {
   "cell_type": "code",
   "execution_count": 289,
   "metadata": {},
   "outputs": [
    {
     "data": {
      "text/plain": [
       "G     7.50\n",
       "B    10.18\n",
       "dtype: float64"
      ]
     },
     "execution_count": 289,
     "metadata": {},
     "output_type": "execute_result"
    }
   ],
   "source": [
    "gesamtunsicherheit_k = np.sqrt(u_k_typ_a**2 + u_autokoll_einfach**2)\n",
    "gesamtunsicherheit_l = np.sqrt(u_l_typ_a**2 + u_autokoll_einfach**2)\n",
    "\n",
    "brennweite, u_brennweite = fehler_gauss(\n",
    "    brennweite_formula,\n",
    "    [k_symbol, l_symbol],\n",
    "    [k.mean(), l.mean()],\n",
    "    [gesamtunsicherheit_k, gesamtunsicherheit_l],\n",
    ")\n",
    "brennweite * 1e2 # brennweite in cm"
   ]
  },
  {
   "cell_type": "code",
   "execution_count": 290,
   "metadata": {},
   "outputs": [
    {
     "data": {
      "text/plain": [
       "G    0.215176\n",
       "B    0.214267\n",
       "dtype: float64"
      ]
     },
     "execution_count": 290,
     "metadata": {},
     "output_type": "execute_result"
    }
   ],
   "source": [
    "u_brennweite * 1e2 # unsicherheit in cm"
   ]
  },
  {
   "cell_type": "markdown",
   "metadata": {},
   "source": [
    "## Besselmethode Einfachlinsen\n",
    "\n",
    "$e = -a_1 + h + d + a_2' = -a_2 + h - d + a_1' = b_k - g_k$\n",
    "\n",
    "$b_k$ Position Schirm beim kleinen Bild\n",
    "\n",
    "$g$ Position Gitter\n",
    "\n",
    "$d = l_k - l_g$ Abstand zwischen den rechten Hauptebenen von kleinem zu großem Bild\n",
    "\n",
    "$l_k$ Position der Linse beim kleinen Bild\n",
    "\n",
    "$l_g$ Position der Linse beim großen Bild\n",
    "\n",
    "Brennweite $f' = \\frac{1}{4} \\cdot \\left[(e - h) - \\frac{d^2}{e - h} \\right] \\approx \\frac{1}{4} \\cdot \\left[e - \\frac{d^2}{e}\\right]$ (dünne Linse)"
   ]
  },
  {
   "cell_type": "code",
   "execution_count": 291,
   "metadata": {},
   "outputs": [
    {
     "data": {
      "text/html": [
       "<div>\n",
       "<style scoped>\n",
       "    .dataframe tbody tr th:only-of-type {\n",
       "        vertical-align: middle;\n",
       "    }\n",
       "\n",
       "    .dataframe tbody tr th {\n",
       "        vertical-align: top;\n",
       "    }\n",
       "\n",
       "    .dataframe thead th {\n",
       "        text-align: right;\n",
       "    }\n",
       "</style>\n",
       "<table border=\"1\" class=\"dataframe\">\n",
       "  <thead>\n",
       "    <tr style=\"text-align: right;\">\n",
       "      <th></th>\n",
       "      <th>G gross</th>\n",
       "      <th>G klein</th>\n",
       "      <th>E gross</th>\n",
       "      <th>E klein</th>\n",
       "    </tr>\n",
       "  </thead>\n",
       "  <tbody>\n",
       "    <tr>\n",
       "      <th>0</th>\n",
       "      <td>0.294</td>\n",
       "      <td>0.611</td>\n",
       "      <td>0.329</td>\n",
       "      <td>0.720</td>\n",
       "    </tr>\n",
       "    <tr>\n",
       "      <th>1</th>\n",
       "      <td>0.294</td>\n",
       "      <td>0.609</td>\n",
       "      <td>0.325</td>\n",
       "      <td>0.719</td>\n",
       "    </tr>\n",
       "    <tr>\n",
       "      <th>2</th>\n",
       "      <td>0.291</td>\n",
       "      <td>0.608</td>\n",
       "      <td>0.329</td>\n",
       "      <td>0.720</td>\n",
       "    </tr>\n",
       "    <tr>\n",
       "      <th>3</th>\n",
       "      <td>0.292</td>\n",
       "      <td>0.606</td>\n",
       "      <td>0.327</td>\n",
       "      <td>0.722</td>\n",
       "    </tr>\n",
       "    <tr>\n",
       "      <th>4</th>\n",
       "      <td>0.293</td>\n",
       "      <td>0.608</td>\n",
       "      <td>0.325</td>\n",
       "      <td>0.720</td>\n",
       "    </tr>\n",
       "  </tbody>\n",
       "</table>\n",
       "</div>"
      ],
      "text/plain": [
       "   G gross  G klein  E gross  E klein\n",
       "0    0.294    0.611    0.329    0.720\n",
       "1    0.294    0.609    0.325    0.719\n",
       "2    0.291    0.608    0.329    0.720\n",
       "3    0.292    0.606    0.327    0.722\n",
       "4    0.293    0.608    0.325    0.720"
      ]
     },
     "execution_count": 291,
     "metadata": {},
     "output_type": "execute_result"
    }
   ],
   "source": [
    "gittergroesse = 5e-3\n",
    "u_gittergroesse = 0.1e-2\n",
    "\n",
    "gittergroesse_schirm = 20e-3\n",
    "u_gittergroesse_schirm = 0.1e-3\n",
    "\n",
    "g_pos_schirm = 69.5e-2\n",
    "u_g_pos_schirm = 0.1e-2\n",
    "\n",
    "e_pos_schirm = 84.1e-2\n",
    "u_e_pos_schirm = 0.1e-2\n",
    "\n",
    "bessel_einfach = pd.read_excel(\"OPA.xlsx\", sheet_name=\"BesselEinfachlinsen\") * 1e-2 # in meter\n",
    "bessel_einfach"
   ]
  },
  {
   "cell_type": "code",
   "execution_count": 292,
   "metadata": {},
   "outputs": [
    {
     "data": {
      "text/latex": [
       "$\\displaystyle 0.25 b_{k} - 0.25 g - \\frac{0.25 \\left(- l_{g} + l_{k}\\right)^{2}}{b_{k} - g}$"
      ],
      "text/plain": [
       "0.25*b_k - 0.25*g - 0.25*(-l_g + l_k)**2/(b_k - g)"
      ]
     },
     "execution_count": 292,
     "metadata": {},
     "output_type": "execute_result"
    }
   ],
   "source": [
    "# gausssche Fehlerfortpflanzung für die Brennweite\n",
    "b_k_symbol, g_symbol = symbols(\"b_k g\")\n",
    "e = b_k_symbol - g_symbol\n",
    "\n",
    "l_k_symbol, l_g_symbol = symbols(\"l_k l_g\")\n",
    "d = l_k_symbol - l_g_symbol\n",
    "\n",
    "brennweite_formula = 1/4 * (e - d**2/e)\n",
    "brennweite_formula"
   ]
  },
  {
   "cell_type": "code",
   "execution_count": 293,
   "metadata": {},
   "outputs": [
    {
     "data": {
      "text/plain": [
       "(np.float64(7.344739640914351), np.float64(0.10323126960090592))"
      ]
     },
     "execution_count": 293,
     "metadata": {},
     "output_type": "execute_result"
    }
   ],
   "source": [
    "# Bessel für Linse G\n",
    "brennweiten_g, u_brennweiten_g = fehler_gauss(\n",
    "    brennweite_formula,\n",
    "    [b_k_symbol, g_symbol, l_k_symbol, l_g_symbol],\n",
    "    [\n",
    "        g_pos_schirm,\n",
    "        pos_gitter,\n",
    "        bessel_einfach[\"G klein\"],\n",
    "        bessel_einfach[\"G gross\"],\n",
    "    ],\n",
    "    [u_g_pos_schirm, u_pos_gitter, 5e-3, 5e-3],\n",
    ")\n",
    "brennweite_g, u_brennweite_g = weighted_mean(brennweiten_g, u_brennweiten_g)\n",
    "brennweite_g * 1e2, u_brennweite_g * 1e2 # Ergebnisse in cm"
   ]
  },
  {
   "cell_type": "code",
   "execution_count": 294,
   "metadata": {},
   "outputs": [
    {
     "data": {
      "text/plain": [
       "(np.float64(9.995497858863873), np.float64(0.0993978008322837))"
      ]
     },
     "execution_count": 294,
     "metadata": {},
     "output_type": "execute_result"
    }
   ],
   "source": [
    "# Bessel für Linse E\n",
    "brennweiten_e, u_brennweiten_e = fehler_gauss(\n",
    "    brennweite_formula,\n",
    "    [b_k_symbol, g_symbol, l_k_symbol, l_g_symbol],\n",
    "    [\n",
    "        e_pos_schirm,\n",
    "        pos_gitter,\n",
    "        bessel_einfach[\"E klein\"],\n",
    "        bessel_einfach[\"E gross\"],\n",
    "    ],\n",
    "    [u_e_pos_schirm, u_pos_gitter, 5e-3, 5e-3],\n",
    ")\n",
    "brennweite_e, u_brennweite_e = weighted_mean(brennweiten_e, u_brennweiten_e)\n",
    "brennweite_e * 1e2, u_brennweite_e * 1e2 # Ergebnisse in cm"
   ]
  },
  {
   "cell_type": "markdown",
   "metadata": {},
   "source": [
    "## Brennweite und Hauptebenenabstand Linsensystem mit Kombination aus Autokollimation und Bessel\n",
    "\n",
    "$p_{12}$ Absolutposition von Linse G\n",
    "\n",
    "### Autokollimation\n",
    "\n",
    "$k = p_1 - g$\n",
    "\n",
    "$l = p_2 - g$\n",
    "\n",
    "### Besselmethode\n",
    "\n",
    "$e = b_k - g$\n",
    "\n",
    "$d = l_k - l_g$\n",
    "\n",
    "### Insgesamt\n",
    "\n",
    "$f' = \\frac{1}{2} \\sqrt{(e - k - l)^2 - d^2}$\n",
    "\n",
    "$h = k + l - \\sqrt{(e - k - l)^2 - d^2}$"
   ]
  },
  {
   "cell_type": "code",
   "execution_count": 295,
   "metadata": {},
   "outputs": [
    {
     "data": {
      "text/html": [
       "<div>\n",
       "<style scoped>\n",
       "    .dataframe tbody tr th:only-of-type {\n",
       "        vertical-align: middle;\n",
       "    }\n",
       "\n",
       "    .dataframe tbody tr th {\n",
       "        vertical-align: top;\n",
       "    }\n",
       "\n",
       "    .dataframe thead th {\n",
       "        text-align: right;\n",
       "    }\n",
       "</style>\n",
       "<table border=\"1\" class=\"dataframe\">\n",
       "  <thead>\n",
       "    <tr style=\"text-align: right;\">\n",
       "      <th></th>\n",
       "      <th>G-E-Spiegel</th>\n",
       "      <th>E-G-Spiegel</th>\n",
       "    </tr>\n",
       "  </thead>\n",
       "  <tbody>\n",
       "    <tr>\n",
       "      <th>0</th>\n",
       "      <td>0.366</td>\n",
       "      <td>0.308</td>\n",
       "    </tr>\n",
       "    <tr>\n",
       "      <th>1</th>\n",
       "      <td>0.365</td>\n",
       "      <td>0.306</td>\n",
       "    </tr>\n",
       "    <tr>\n",
       "      <th>2</th>\n",
       "      <td>0.367</td>\n",
       "      <td>0.308</td>\n",
       "    </tr>\n",
       "    <tr>\n",
       "      <th>3</th>\n",
       "      <td>0.366</td>\n",
       "      <td>0.305</td>\n",
       "    </tr>\n",
       "    <tr>\n",
       "      <th>4</th>\n",
       "      <td>0.367</td>\n",
       "      <td>0.306</td>\n",
       "    </tr>\n",
       "  </tbody>\n",
       "</table>\n",
       "</div>"
      ],
      "text/plain": [
       "   G-E-Spiegel  E-G-Spiegel\n",
       "0        0.366        0.308\n",
       "1        0.365        0.306\n",
       "2        0.367        0.308\n",
       "3        0.366        0.305\n",
       "4        0.367        0.306"
      ]
     },
     "execution_count": 295,
     "metadata": {},
     "output_type": "execute_result"
    }
   ],
   "source": [
    "autokoll_linsensystem = pd.read_excel(\"OPA.xlsx\", sheet_name=\"AutokollimationLinsensystem\") * 1e-2 # in meter\n",
    "autokoll_linsensystem"
   ]
  },
  {
   "cell_type": "code",
   "execution_count": 296,
   "metadata": {},
   "outputs": [
    {
     "data": {
      "text/html": [
       "<div>\n",
       "<style scoped>\n",
       "    .dataframe tbody tr th:only-of-type {\n",
       "        vertical-align: middle;\n",
       "    }\n",
       "\n",
       "    .dataframe tbody tr th {\n",
       "        vertical-align: top;\n",
       "    }\n",
       "\n",
       "    .dataframe thead th {\n",
       "        text-align: right;\n",
       "    }\n",
       "</style>\n",
       "<table border=\"1\" class=\"dataframe\">\n",
       "  <thead>\n",
       "    <tr style=\"text-align: right;\">\n",
       "      <th></th>\n",
       "      <th>G-E-gross</th>\n",
       "      <th>G-E-klein</th>\n",
       "      <th>E-G-gross</th>\n",
       "      <th>E-G-klein</th>\n",
       "    </tr>\n",
       "  </thead>\n",
       "  <tbody>\n",
       "    <tr>\n",
       "      <th>0</th>\n",
       "      <td>0.392</td>\n",
       "      <td>0.941</td>\n",
       "      <td>0.339</td>\n",
       "      <td>0.847</td>\n",
       "    </tr>\n",
       "    <tr>\n",
       "      <th>1</th>\n",
       "      <td>0.391</td>\n",
       "      <td>0.944</td>\n",
       "      <td>0.342</td>\n",
       "      <td>0.848</td>\n",
       "    </tr>\n",
       "    <tr>\n",
       "      <th>2</th>\n",
       "      <td>0.393</td>\n",
       "      <td>0.940</td>\n",
       "      <td>0.342</td>\n",
       "      <td>0.851</td>\n",
       "    </tr>\n",
       "    <tr>\n",
       "      <th>3</th>\n",
       "      <td>0.394</td>\n",
       "      <td>0.940</td>\n",
       "      <td>0.337</td>\n",
       "      <td>0.851</td>\n",
       "    </tr>\n",
       "    <tr>\n",
       "      <th>4</th>\n",
       "      <td>0.394</td>\n",
       "      <td>0.944</td>\n",
       "      <td>0.341</td>\n",
       "      <td>0.850</td>\n",
       "    </tr>\n",
       "  </tbody>\n",
       "</table>\n",
       "</div>"
      ],
      "text/plain": [
       "   G-E-gross  G-E-klein  E-G-gross  E-G-klein\n",
       "0      0.392      0.941      0.339      0.847\n",
       "1      0.391      0.944      0.342      0.848\n",
       "2      0.393      0.940      0.342      0.851\n",
       "3      0.394      0.940      0.337      0.851\n",
       "4      0.394      0.944      0.341      0.850"
      ]
     },
     "execution_count": 296,
     "metadata": {},
     "output_type": "execute_result"
    }
   ],
   "source": [
    "g_e_pos_schirm = 107.5e-2\n",
    "u_g_e_pos_schirm = 0.1e-2\n",
    "\n",
    "e_g_pos_schirm = 104.6e-2\n",
    "u_e_g_pos_schirm = 0.1e-2\n",
    "\n",
    "bessel_linsensystem = pd.read_excel(\"OPA.xlsx\", sheet_name=\"BesselLinsensystem\") * 1e-2 # in meter\n",
    "bessel_linsensystem"
   ]
  },
  {
   "cell_type": "code",
   "execution_count": 297,
   "metadata": {},
   "outputs": [
    {
     "data": {
      "text/latex": [
       "$\\displaystyle 0.5 \\sqrt{- d^{2} + \\left(e - k - l\\right)^{2}}$"
      ],
      "text/plain": [
       "0.5*sqrt(-d**2 + (e - k - l)**2)"
      ]
     },
     "execution_count": 297,
     "metadata": {},
     "output_type": "execute_result"
    }
   ],
   "source": [
    "# fehler gauss\n",
    "e_symbol, d_symbol, k_symbol, l_symbol = symbols(\"e d k l\")\n",
    "brennweite_formula = 1/2 * sqrt((e_symbol - k_symbol - l_symbol)**2 - d_symbol**2)\n",
    "brennweite_formula"
   ]
  },
  {
   "cell_type": "code",
   "execution_count": 298,
   "metadata": {},
   "outputs": [
    {
     "data": {
      "text/latex": [
       "$\\displaystyle k + l - \\sqrt{- d^{2} + \\left(e - k - l\\right)^{2}}$"
      ],
      "text/plain": [
       "k + l - sqrt(-d**2 + (e - k - l)**2)"
      ]
     },
     "execution_count": 298,
     "metadata": {},
     "output_type": "execute_result"
    }
   ],
   "source": [
    "h_formula = k_symbol + l_symbol - sqrt((e_symbol - k_symbol - l_symbol)**2 - d_symbol**2)\n",
    "h_formula"
   ]
  },
  {
   "cell_type": "code",
   "execution_count": 299,
   "metadata": {},
   "outputs": [
    {
     "name": "stdout",
     "output_type": "stream",
     "text": [
      "G-E-Schirm: (np.float64(8.239726937223105), np.float64(1.7590815834338327))\n",
      "E-G-Schirm: (np.float64(8.239726937223105), np.float64(1.7590815834338327))\n",
      "Gewichteter Mittelwert: (np.float64(8.239726937223105), np.float64(1.2438585163064326))\n"
     ]
    }
   ],
   "source": [
    "k = autokoll_linsensystem[\"E-G-Spiegel\"] - pos_gitter\n",
    "u_k = np.sqrt((k.std(ddof=1) * 0.51)**2 + 5e-3**2 + 1e-3**2) # Unsicherheit k mit Typ A und Ableseunsicherheit\n",
    "k = k.mean()\n",
    "\n",
    "l = autokoll_linsensystem[\"G-E-Spiegel\"] - pos_gitter\n",
    "u_l = np.sqrt((l.std(ddof=1) * 0.51)**2 + 5e-3**2 + 1e-3**2) # Unsicherheit l mit Typ A und Ableseunsicherheit\n",
    "l = l.mean()\n",
    "\n",
    "e = e_g_pos_schirm - pos_gitter\n",
    "u_e = np.sqrt((u_e_g_pos_schirm)**2 + u_pos_gitter**2)\n",
    "\n",
    "# Abstand zwischen den scharfen Bildern in der Besselmethode für beide Konfigurationen\n",
    "d1 = bessel_linsensystem[\"G-E-klein\"] - bessel_linsensystem[\"G-E-gross\"]\n",
    "u_d1 = np.sqrt((5e-3)**2 + (5e-3)**2 + d1.std(ddof=1)**2 * 0.51**2)\n",
    "d1 = d1.mean()\n",
    "\n",
    "d2 = bessel_linsensystem[\"G-E-klein\"] - bessel_linsensystem[\"G-E-gross\"]\n",
    "u_d2 = np.sqrt((5e-3)**2 + (5e-3)**2 + d2.std(ddof=1)**2 * 0.51**2)\n",
    "d2 = d2.mean()\n",
    "\n",
    "# Brennweiten für beide Konfigurationen\n",
    "brennweite_1, u_brennweite_1 = fehler_gauss(\n",
    "    brennweite_formula,\n",
    "    [e_symbol, d_symbol, k_symbol, l_symbol],\n",
    "    [e, d1, k, l],\n",
    "    [u_e, u_d1, u_k, u_l],\n",
    ")\n",
    "print(f\"G-E-Schirm: {brennweite_1 * 1e2, u_brennweite_1 * 1e2}\")\n",
    "\n",
    "brennweite_2, u_brennweite_2 = fehler_gauss(\n",
    "    brennweite_formula,\n",
    "    [e_symbol, d_symbol, k_symbol, l_symbol],\n",
    "    [e, d2, k, l],\n",
    "    [u_e, u_d2, u_k, u_l],\n",
    ")\n",
    "print(f\"E-G-Schirm: {brennweite_2 * 1e2, u_brennweite_2 * 1e2}\")\n",
    "\n",
    "# Gewichteter Mittelwert\n",
    "brennweiten = np.array([brennweite_1, brennweite_2])\n",
    "u_brennweiten = np.array([u_brennweite_1, u_brennweite_2])\n",
    "brennweite, u_brennweite = weighted_mean(brennweiten, u_brennweiten)\n",
    "print(f\"Gewichteter Mittelwert: {brennweite * 1e2, u_brennweite * 1e2}\")"
   ]
  },
  {
   "cell_type": "code",
   "execution_count": 300,
   "metadata": {},
   "outputs": [
    {
     "name": "stdout",
     "output_type": "stream",
     "text": [
      "G-E-Schirm: (np.float64(10.800546125553792), np.float64(4.070210179739371))\n",
      "E-G-Schirm: (np.float64(10.800546125553792), np.float64(4.070210179739371))\n",
      "Gewichteter Mittelwert: (np.float64(10.800546125553792), np.float64(2.8780732189482254))\n"
     ]
    }
   ],
   "source": [
    "h_1, u_h_1 = fehler_gauss(\n",
    "    h_formula,\n",
    "    [e_symbol, d_symbol, k_symbol, l_symbol],\n",
    "    [e, d1, k, l],\n",
    "    [u_e, u_d1, u_k, u_l],\n",
    ")\n",
    "print(f\"G-E-Schirm: {h_1 * 1e2, u_h_1 * 1e2}\")\n",
    "\n",
    "h_2, u_h_2 = fehler_gauss(\n",
    "    h_formula,\n",
    "    [e_symbol, d_symbol, k_symbol, l_symbol],\n",
    "    [e, d2, k, l],\n",
    "    [u_e, u_d2, u_k, u_l],\n",
    ")\n",
    "print(f\"E-G-Schirm: {h_2 * 1e2, u_h_2 * 1e2}\")\n",
    "\n",
    "# Gewichteter Mittelwert\n",
    "hs = np.array([h_1, h_2])\n",
    "u_hs = np.array([u_h_1, u_h_2])\n",
    "h, u_h = weighted_mean(hs, u_hs)\n",
    "print(f\"Gewichteter Mittelwert: {h * 1e2, u_h * 1e2}\")"
   ]
  },
  {
   "cell_type": "markdown",
   "metadata": {},
   "source": [
    "## Abbeverfahren Linsensysteme"
   ]
  },
  {
   "cell_type": "code",
   "execution_count": 368,
   "metadata": {},
   "outputs": [
    {
     "data": {
      "text/html": [
       "<div>\n",
       "<style scoped>\n",
       "    .dataframe tbody tr th:only-of-type {\n",
       "        vertical-align: middle;\n",
       "    }\n",
       "\n",
       "    .dataframe tbody tr th {\n",
       "        vertical-align: top;\n",
       "    }\n",
       "\n",
       "    .dataframe thead th {\n",
       "        text-align: right;\n",
       "    }\n",
       "</style>\n",
       "<table border=\"1\" class=\"dataframe\">\n",
       "  <thead>\n",
       "    <tr style=\"text-align: right;\">\n",
       "      <th></th>\n",
       "      <th>Schirm</th>\n",
       "      <th>Vergroesserung</th>\n",
       "      <th>Position G</th>\n",
       "      <th>Verkleinerung</th>\n",
       "      <th>Position G.1</th>\n",
       "      <th>g_Vergroesserung</th>\n",
       "      <th>g_Verkleinerung</th>\n",
       "      <th>g'_Vergroesserung</th>\n",
       "      <th>g'_Verkleinerung</th>\n",
       "    </tr>\n",
       "  </thead>\n",
       "  <tbody>\n",
       "    <tr>\n",
       "      <th>0</th>\n",
       "      <td>1.50</td>\n",
       "      <td>-0.03440</td>\n",
       "      <td>0.330</td>\n",
       "      <td>-0.00100</td>\n",
       "      <td>1.321</td>\n",
       "      <td>0.130</td>\n",
       "      <td>1.121</td>\n",
       "      <td>1.170</td>\n",
       "      <td>0.179</td>\n",
       "    </tr>\n",
       "    <tr>\n",
       "      <th>1</th>\n",
       "      <td>1.25</td>\n",
       "      <td>-0.02455</td>\n",
       "      <td>0.327</td>\n",
       "      <td>-0.00100</td>\n",
       "      <td>1.061</td>\n",
       "      <td>0.127</td>\n",
       "      <td>0.861</td>\n",
       "      <td>0.923</td>\n",
       "      <td>0.189</td>\n",
       "    </tr>\n",
       "    <tr>\n",
       "      <th>2</th>\n",
       "      <td>1.00</td>\n",
       "      <td>-0.01760</td>\n",
       "      <td>0.334</td>\n",
       "      <td>-0.00135</td>\n",
       "      <td>0.799</td>\n",
       "      <td>0.134</td>\n",
       "      <td>0.599</td>\n",
       "      <td>0.666</td>\n",
       "      <td>0.201</td>\n",
       "    </tr>\n",
       "    <tr>\n",
       "      <th>3</th>\n",
       "      <td>0.75</td>\n",
       "      <td>-0.00765</td>\n",
       "      <td>0.380</td>\n",
       "      <td>-0.00320</td>\n",
       "      <td>0.521</td>\n",
       "      <td>0.180</td>\n",
       "      <td>0.321</td>\n",
       "      <td>0.370</td>\n",
       "      <td>0.229</td>\n",
       "    </tr>\n",
       "  </tbody>\n",
       "</table>\n",
       "</div>"
      ],
      "text/plain": [
       "   Schirm  Vergroesserung  Position G  Verkleinerung  Position G.1  \\\n",
       "0    1.50        -0.03440       0.330       -0.00100         1.321   \n",
       "1    1.25        -0.02455       0.327       -0.00100         1.061   \n",
       "2    1.00        -0.01760       0.334       -0.00135         0.799   \n",
       "3    0.75        -0.00765       0.380       -0.00320         0.521   \n",
       "\n",
       "   g_Vergroesserung  g_Verkleinerung  g'_Vergroesserung  g'_Verkleinerung  \n",
       "0             0.130            1.121              1.170             0.179  \n",
       "1             0.127            0.861              0.923             0.189  \n",
       "2             0.134            0.599              0.666             0.201  \n",
       "3             0.180            0.321              0.370             0.229  "
      ]
     },
     "execution_count": 368,
     "metadata": {},
     "output_type": "execute_result"
    }
   ],
   "source": [
    "abbe_e_g = pd.read_excel(\"OPA.xlsx\", sheet_name=\"AbbeE-G-Schirm\")\n",
    "abbe_e_g[[\"Vergroesserung\", \"Verkleinerung\"]] *= -1e-3\n",
    "abbe_e_g[[\"Schirm\", \"Position G\", \"Position G.1\"]] *= 1e-2\n",
    "abbe_e_g[\"g_Vergroesserung\"] = abbe_e_g[\"Position G\"] - pos_gitter\n",
    "abbe_e_g[\"g_Verkleinerung\"] = abbe_e_g[\"Position G.1\"] - pos_gitter\n",
    "\n",
    "abbe_e_g[\"g'_Vergroesserung\"] = abbe_e_g[\"Schirm\"] - abbe_e_g[\"Position G\"]\n",
    "abbe_e_g[\"g'_Verkleinerung\"] = abbe_e_g[\"Schirm\"] - abbe_e_g[\"Position G.1\"]\n",
    "\n",
    "abbe_e_g"
   ]
  },
  {
   "cell_type": "code",
   "execution_count": 369,
   "metadata": {},
   "outputs": [
    {
     "data": {
      "text/html": [
       "<div>\n",
       "<style scoped>\n",
       "    .dataframe tbody tr th:only-of-type {\n",
       "        vertical-align: middle;\n",
       "    }\n",
       "\n",
       "    .dataframe tbody tr th {\n",
       "        vertical-align: top;\n",
       "    }\n",
       "\n",
       "    .dataframe thead th {\n",
       "        text-align: right;\n",
       "    }\n",
       "</style>\n",
       "<table border=\"1\" class=\"dataframe\">\n",
       "  <thead>\n",
       "    <tr style=\"text-align: right;\">\n",
       "      <th></th>\n",
       "      <th>Schirm</th>\n",
       "      <th>Vergroesserung</th>\n",
       "      <th>Position G</th>\n",
       "      <th>Verkleinerung</th>\n",
       "      <th>Position G.1</th>\n",
       "      <th>g_Vergroesserung</th>\n",
       "      <th>g_Verkleinerung</th>\n",
       "      <th>g'_Vergroesserung</th>\n",
       "      <th>g'_Verkleinerung</th>\n",
       "    </tr>\n",
       "  </thead>\n",
       "  <tbody>\n",
       "    <tr>\n",
       "      <th>0</th>\n",
       "      <td>1.50</td>\n",
       "      <td>-0.03375</td>\n",
       "      <td>0.395</td>\n",
       "      <td>-0.0015</td>\n",
       "      <td>1.377</td>\n",
       "      <td>0.195</td>\n",
       "      <td>1.177</td>\n",
       "      <td>1.105</td>\n",
       "      <td>0.123</td>\n",
       "    </tr>\n",
       "    <tr>\n",
       "      <th>1</th>\n",
       "      <td>1.25</td>\n",
       "      <td>-0.02545</td>\n",
       "      <td>0.385</td>\n",
       "      <td>-0.0015</td>\n",
       "      <td>1.121</td>\n",
       "      <td>0.185</td>\n",
       "      <td>0.921</td>\n",
       "      <td>0.865</td>\n",
       "      <td>0.129</td>\n",
       "    </tr>\n",
       "    <tr>\n",
       "      <th>2</th>\n",
       "      <td>1.00</td>\n",
       "      <td>-0.01745</td>\n",
       "      <td>0.402</td>\n",
       "      <td>-0.0015</td>\n",
       "      <td>0.856</td>\n",
       "      <td>0.202</td>\n",
       "      <td>0.656</td>\n",
       "      <td>0.598</td>\n",
       "      <td>0.144</td>\n",
       "    </tr>\n",
       "    <tr>\n",
       "      <th>3</th>\n",
       "      <td>0.75</td>\n",
       "      <td>-0.00815</td>\n",
       "      <td>0.448</td>\n",
       "      <td>-0.0033</td>\n",
       "      <td>0.563</td>\n",
       "      <td>0.248</td>\n",
       "      <td>0.363</td>\n",
       "      <td>0.302</td>\n",
       "      <td>0.187</td>\n",
       "    </tr>\n",
       "  </tbody>\n",
       "</table>\n",
       "</div>"
      ],
      "text/plain": [
       "   Schirm  Vergroesserung  Position G  Verkleinerung  Position G.1  \\\n",
       "0    1.50        -0.03375       0.395        -0.0015         1.377   \n",
       "1    1.25        -0.02545       0.385        -0.0015         1.121   \n",
       "2    1.00        -0.01745       0.402        -0.0015         0.856   \n",
       "3    0.75        -0.00815       0.448        -0.0033         0.563   \n",
       "\n",
       "   g_Vergroesserung  g_Verkleinerung  g'_Vergroesserung  g'_Verkleinerung  \n",
       "0             0.195            1.177              1.105             0.123  \n",
       "1             0.185            0.921              0.865             0.129  \n",
       "2             0.202            0.656              0.598             0.144  \n",
       "3             0.248            0.363              0.302             0.187  "
      ]
     },
     "execution_count": 369,
     "metadata": {},
     "output_type": "execute_result"
    }
   ],
   "source": [
    "abbe_g_e = pd.read_excel(\"OPA.xlsx\", sheet_name=\"AbbeG-E-Schirm\")\n",
    "abbe_g_e[[\"Vergroesserung\", \"Verkleinerung\"]] *= -1e-3\n",
    "abbe_g_e[[\"Schirm\", \"Position G\", \"Position G.1\"]] *= 1e-2\n",
    "abbe_g_e[\"g_Vergroesserung\"] = abbe_g_e[\"Position G\"] - pos_gitter\n",
    "abbe_g_e[\"g_Verkleinerung\"] = abbe_g_e[\"Position G.1\"] - pos_gitter\n",
    "\n",
    "abbe_g_e[\"g'_Vergroesserung\"] = abbe_g_e[\"Schirm\"] - abbe_g_e[\"Position G\"]\n",
    "abbe_g_e[\"g'_Verkleinerung\"] = abbe_g_e[\"Schirm\"] - abbe_g_e[\"Position G.1\"]\n",
    "\n",
    "abbe_g_e"
   ]
  },
  {
   "cell_type": "code",
   "execution_count": 370,
   "metadata": {},
   "outputs": [],
   "source": [
    "groesse_gitter = 5e-3\n",
    "u_groesse_gitter = 0.1e-3"
   ]
  },
  {
   "cell_type": "code",
   "execution_count": 371,
   "metadata": {},
   "outputs": [
    {
     "data": {
      "text/latex": [
       "$\\displaystyle \\frac{y'}{y}$"
      ],
      "text/plain": [
       "y'/y"
      ]
     },
     "execution_count": 371,
     "metadata": {},
     "output_type": "execute_result"
    }
   ],
   "source": [
    "# Vergrößerungen / Verkleinerungen mit Unsicherheiten bestimmen\n",
    "y_symbol, yp_symbol = symbols(\"y y'\")\n",
    "beta = yp_symbol / y_symbol\n",
    "beta"
   ]
  },
  {
   "cell_type": "code",
   "execution_count": 372,
   "metadata": {},
   "outputs": [
    {
     "data": {
      "text/html": [
       "<div>\n",
       "<style scoped>\n",
       "    .dataframe tbody tr th:only-of-type {\n",
       "        vertical-align: middle;\n",
       "    }\n",
       "\n",
       "    .dataframe tbody tr th {\n",
       "        vertical-align: top;\n",
       "    }\n",
       "\n",
       "    .dataframe thead th {\n",
       "        text-align: right;\n",
       "    }\n",
       "</style>\n",
       "<table border=\"1\" class=\"dataframe\">\n",
       "  <thead>\n",
       "    <tr style=\"text-align: right;\">\n",
       "      <th></th>\n",
       "      <th>Schirm</th>\n",
       "      <th>Vergroesserung</th>\n",
       "      <th>Position G</th>\n",
       "      <th>Verkleinerung</th>\n",
       "      <th>Position G.1</th>\n",
       "      <th>g_Vergroesserung</th>\n",
       "      <th>g_Verkleinerung</th>\n",
       "      <th>g'_Vergroesserung</th>\n",
       "      <th>g'_Verkleinerung</th>\n",
       "      <th>beta_Vergroesserung</th>\n",
       "      <th>u_beta_Vergroesserung</th>\n",
       "      <th>beta_Verkleinerung</th>\n",
       "      <th>u_beta_Verkleinerung</th>\n",
       "    </tr>\n",
       "  </thead>\n",
       "  <tbody>\n",
       "    <tr>\n",
       "      <th>0</th>\n",
       "      <td>1.50</td>\n",
       "      <td>-0.03375</td>\n",
       "      <td>0.395</td>\n",
       "      <td>-0.0015</td>\n",
       "      <td>1.377</td>\n",
       "      <td>0.195</td>\n",
       "      <td>1.177</td>\n",
       "      <td>1.105</td>\n",
       "      <td>0.123</td>\n",
       "      <td>-6.75</td>\n",
       "      <td>0.241299</td>\n",
       "      <td>-0.30</td>\n",
       "      <td>0.200090</td>\n",
       "    </tr>\n",
       "    <tr>\n",
       "      <th>1</th>\n",
       "      <td>1.25</td>\n",
       "      <td>-0.02545</td>\n",
       "      <td>0.385</td>\n",
       "      <td>-0.0015</td>\n",
       "      <td>1.121</td>\n",
       "      <td>0.185</td>\n",
       "      <td>0.921</td>\n",
       "      <td>0.865</td>\n",
       "      <td>0.129</td>\n",
       "      <td>-5.09</td>\n",
       "      <td>0.224418</td>\n",
       "      <td>-0.30</td>\n",
       "      <td>0.200090</td>\n",
       "    </tr>\n",
       "    <tr>\n",
       "      <th>2</th>\n",
       "      <td>1.00</td>\n",
       "      <td>-0.01745</td>\n",
       "      <td>0.402</td>\n",
       "      <td>-0.0015</td>\n",
       "      <td>0.856</td>\n",
       "      <td>0.202</td>\n",
       "      <td>0.656</td>\n",
       "      <td>0.598</td>\n",
       "      <td>0.144</td>\n",
       "      <td>-3.49</td>\n",
       "      <td>0.211830</td>\n",
       "      <td>-0.30</td>\n",
       "      <td>0.200090</td>\n",
       "    </tr>\n",
       "    <tr>\n",
       "      <th>3</th>\n",
       "      <td>0.75</td>\n",
       "      <td>-0.00815</td>\n",
       "      <td>0.448</td>\n",
       "      <td>-0.0033</td>\n",
       "      <td>0.563</td>\n",
       "      <td>0.248</td>\n",
       "      <td>0.363</td>\n",
       "      <td>0.302</td>\n",
       "      <td>0.187</td>\n",
       "      <td>-1.63</td>\n",
       "      <td>0.202639</td>\n",
       "      <td>-0.66</td>\n",
       "      <td>0.200435</td>\n",
       "    </tr>\n",
       "  </tbody>\n",
       "</table>\n",
       "</div>"
      ],
      "text/plain": [
       "   Schirm  Vergroesserung  Position G  Verkleinerung  Position G.1  \\\n",
       "0    1.50        -0.03375       0.395        -0.0015         1.377   \n",
       "1    1.25        -0.02545       0.385        -0.0015         1.121   \n",
       "2    1.00        -0.01745       0.402        -0.0015         0.856   \n",
       "3    0.75        -0.00815       0.448        -0.0033         0.563   \n",
       "\n",
       "   g_Vergroesserung  g_Verkleinerung  g'_Vergroesserung  g'_Verkleinerung  \\\n",
       "0             0.195            1.177              1.105             0.123   \n",
       "1             0.185            0.921              0.865             0.129   \n",
       "2             0.202            0.656              0.598             0.144   \n",
       "3             0.248            0.363              0.302             0.187   \n",
       "\n",
       "   beta_Vergroesserung  u_beta_Vergroesserung  beta_Verkleinerung  \\\n",
       "0                -6.75               0.241299               -0.30   \n",
       "1                -5.09               0.224418               -0.30   \n",
       "2                -3.49               0.211830               -0.30   \n",
       "3                -1.63               0.202639               -0.66   \n",
       "\n",
       "   u_beta_Verkleinerung  \n",
       "0              0.200090  \n",
       "1              0.200090  \n",
       "2              0.200090  \n",
       "3              0.200435  "
      ]
     },
     "execution_count": 372,
     "metadata": {},
     "output_type": "execute_result"
    }
   ],
   "source": [
    "for category in [\"Vergroesserung\", \"Verkleinerung\"]:\n",
    "    for df in [abbe_e_g, abbe_g_e]:\n",
    "        beta_verkleinerung, u_beta_verkleinerung = fehler_gauss(\n",
    "            beta,\n",
    "            [y_symbol, yp_symbol],\n",
    "            [groesse_gitter, df[category]],\n",
    "            [u_groesse_gitter, 1e-3],\n",
    "        )\n",
    "        df[f\"beta_{category}\"] = beta_verkleinerung\n",
    "        df[f\"u_beta_{category}\"] = u_beta_verkleinerung\n",
    "\n",
    "abbe_g_e"
   ]
  },
  {
   "cell_type": "code",
   "execution_count": 373,
   "metadata": {},
   "outputs": [
    {
     "data": {
      "text/latex": [
       "$\\displaystyle 1 - \\frac{1}{\\beta}$"
      ],
      "text/plain": [
       "1 - 1/beta"
      ]
     },
     "execution_count": 373,
     "metadata": {},
     "output_type": "execute_result"
    }
   ],
   "source": [
    "# 1 - 1/beta berechnen mit Unsicherheiten\n",
    "beta_symbol = symbols(\"beta\")\n",
    "regression1_formula = 1 - 1/beta_symbol\n",
    "regression1_formula"
   ]
  },
  {
   "cell_type": "code",
   "execution_count": 374,
   "metadata": {},
   "outputs": [
    {
     "data": {
      "text/latex": [
       "$\\displaystyle 1 - \\beta$"
      ],
      "text/plain": [
       "1 - beta"
      ]
     },
     "execution_count": 374,
     "metadata": {},
     "output_type": "execute_result"
    }
   ],
   "source": [
    "regression2_formula = 1 - beta_symbol\n",
    "regression2_formula"
   ]
  },
  {
   "cell_type": "code",
   "execution_count": 375,
   "metadata": {},
   "outputs": [
    {
     "data": {
      "text/html": [
       "<div>\n",
       "<style scoped>\n",
       "    .dataframe tbody tr th:only-of-type {\n",
       "        vertical-align: middle;\n",
       "    }\n",
       "\n",
       "    .dataframe tbody tr th {\n",
       "        vertical-align: top;\n",
       "    }\n",
       "\n",
       "    .dataframe thead th {\n",
       "        text-align: right;\n",
       "    }\n",
       "</style>\n",
       "<table border=\"1\" class=\"dataframe\">\n",
       "  <thead>\n",
       "    <tr style=\"text-align: right;\">\n",
       "      <th></th>\n",
       "      <th>Schirm</th>\n",
       "      <th>Vergroesserung</th>\n",
       "      <th>Position G</th>\n",
       "      <th>Verkleinerung</th>\n",
       "      <th>Position G.1</th>\n",
       "      <th>g_Vergroesserung</th>\n",
       "      <th>g_Verkleinerung</th>\n",
       "      <th>g'_Vergroesserung</th>\n",
       "      <th>g'_Verkleinerung</th>\n",
       "      <th>beta_Vergroesserung</th>\n",
       "      <th>...</th>\n",
       "      <th>beta_Verkleinerung</th>\n",
       "      <th>u_beta_Verkleinerung</th>\n",
       "      <th>1-1/beta_Vergroesserung</th>\n",
       "      <th>u_1-1/beta_Vergroesserung</th>\n",
       "      <th>1-beta_Vergroesserung</th>\n",
       "      <th>u_1-beta_Vergroesserung</th>\n",
       "      <th>1-1/beta_Verkleinerung</th>\n",
       "      <th>u_1-1/beta_Verkleinerung</th>\n",
       "      <th>1-beta_Verkleinerung</th>\n",
       "      <th>u_1-beta_Verkleinerung</th>\n",
       "    </tr>\n",
       "  </thead>\n",
       "  <tbody>\n",
       "    <tr>\n",
       "      <th>0</th>\n",
       "      <td>1.50</td>\n",
       "      <td>-0.03375</td>\n",
       "      <td>0.395</td>\n",
       "      <td>-0.0015</td>\n",
       "      <td>1.377</td>\n",
       "      <td>0.195</td>\n",
       "      <td>1.177</td>\n",
       "      <td>1.105</td>\n",
       "      <td>0.123</td>\n",
       "      <td>-6.75</td>\n",
       "      <td>...</td>\n",
       "      <td>-0.30</td>\n",
       "      <td>0.200090</td>\n",
       "      <td>1.148148</td>\n",
       "      <td>0.005296</td>\n",
       "      <td>7.75</td>\n",
       "      <td>0.241299</td>\n",
       "      <td>4.333333</td>\n",
       "      <td>2.223222</td>\n",
       "      <td>1.30</td>\n",
       "      <td>0.200090</td>\n",
       "    </tr>\n",
       "    <tr>\n",
       "      <th>1</th>\n",
       "      <td>1.25</td>\n",
       "      <td>-0.02545</td>\n",
       "      <td>0.385</td>\n",
       "      <td>-0.0015</td>\n",
       "      <td>1.121</td>\n",
       "      <td>0.185</td>\n",
       "      <td>0.921</td>\n",
       "      <td>0.865</td>\n",
       "      <td>0.129</td>\n",
       "      <td>-5.09</td>\n",
       "      <td>...</td>\n",
       "      <td>-0.30</td>\n",
       "      <td>0.200090</td>\n",
       "      <td>1.196464</td>\n",
       "      <td>0.008662</td>\n",
       "      <td>6.09</td>\n",
       "      <td>0.224418</td>\n",
       "      <td>4.333333</td>\n",
       "      <td>2.223222</td>\n",
       "      <td>1.30</td>\n",
       "      <td>0.200090</td>\n",
       "    </tr>\n",
       "    <tr>\n",
       "      <th>2</th>\n",
       "      <td>1.00</td>\n",
       "      <td>-0.01745</td>\n",
       "      <td>0.402</td>\n",
       "      <td>-0.0015</td>\n",
       "      <td>0.856</td>\n",
       "      <td>0.202</td>\n",
       "      <td>0.656</td>\n",
       "      <td>0.598</td>\n",
       "      <td>0.144</td>\n",
       "      <td>-3.49</td>\n",
       "      <td>...</td>\n",
       "      <td>-0.30</td>\n",
       "      <td>0.200090</td>\n",
       "      <td>1.286533</td>\n",
       "      <td>0.017392</td>\n",
       "      <td>4.49</td>\n",
       "      <td>0.211830</td>\n",
       "      <td>4.333333</td>\n",
       "      <td>2.223222</td>\n",
       "      <td>1.30</td>\n",
       "      <td>0.200090</td>\n",
       "    </tr>\n",
       "    <tr>\n",
       "      <th>3</th>\n",
       "      <td>0.75</td>\n",
       "      <td>-0.00815</td>\n",
       "      <td>0.448</td>\n",
       "      <td>-0.0033</td>\n",
       "      <td>0.563</td>\n",
       "      <td>0.248</td>\n",
       "      <td>0.363</td>\n",
       "      <td>0.302</td>\n",
       "      <td>0.187</td>\n",
       "      <td>-1.63</td>\n",
       "      <td>...</td>\n",
       "      <td>-0.66</td>\n",
       "      <td>0.200435</td>\n",
       "      <td>1.613497</td>\n",
       "      <td>0.076269</td>\n",
       "      <td>2.63</td>\n",
       "      <td>0.202639</td>\n",
       "      <td>2.515152</td>\n",
       "      <td>0.460136</td>\n",
       "      <td>1.66</td>\n",
       "      <td>0.200435</td>\n",
       "    </tr>\n",
       "  </tbody>\n",
       "</table>\n",
       "<p>4 rows × 21 columns</p>\n",
       "</div>"
      ],
      "text/plain": [
       "   Schirm  Vergroesserung  Position G  Verkleinerung  Position G.1  \\\n",
       "0    1.50        -0.03375       0.395        -0.0015         1.377   \n",
       "1    1.25        -0.02545       0.385        -0.0015         1.121   \n",
       "2    1.00        -0.01745       0.402        -0.0015         0.856   \n",
       "3    0.75        -0.00815       0.448        -0.0033         0.563   \n",
       "\n",
       "   g_Vergroesserung  g_Verkleinerung  g'_Vergroesserung  g'_Verkleinerung  \\\n",
       "0             0.195            1.177              1.105             0.123   \n",
       "1             0.185            0.921              0.865             0.129   \n",
       "2             0.202            0.656              0.598             0.144   \n",
       "3             0.248            0.363              0.302             0.187   \n",
       "\n",
       "   beta_Vergroesserung  ...  beta_Verkleinerung  u_beta_Verkleinerung  \\\n",
       "0                -6.75  ...               -0.30              0.200090   \n",
       "1                -5.09  ...               -0.30              0.200090   \n",
       "2                -3.49  ...               -0.30              0.200090   \n",
       "3                -1.63  ...               -0.66              0.200435   \n",
       "\n",
       "   1-1/beta_Vergroesserung  u_1-1/beta_Vergroesserung  1-beta_Vergroesserung  \\\n",
       "0                 1.148148                   0.005296                   7.75   \n",
       "1                 1.196464                   0.008662                   6.09   \n",
       "2                 1.286533                   0.017392                   4.49   \n",
       "3                 1.613497                   0.076269                   2.63   \n",
       "\n",
       "   u_1-beta_Vergroesserung  1-1/beta_Verkleinerung  u_1-1/beta_Verkleinerung  \\\n",
       "0                 0.241299                4.333333                  2.223222   \n",
       "1                 0.224418                4.333333                  2.223222   \n",
       "2                 0.211830                4.333333                  2.223222   \n",
       "3                 0.202639                2.515152                  0.460136   \n",
       "\n",
       "   1-beta_Verkleinerung  u_1-beta_Verkleinerung  \n",
       "0                  1.30                0.200090  \n",
       "1                  1.30                0.200090  \n",
       "2                  1.30                0.200090  \n",
       "3                  1.66                0.200435  \n",
       "\n",
       "[4 rows x 21 columns]"
      ]
     },
     "execution_count": 375,
     "metadata": {},
     "output_type": "execute_result"
    }
   ],
   "source": [
    "for df in [abbe_e_g, abbe_g_e]:\n",
    "    for category in [\"Vergroesserung\", \"Verkleinerung\"]:\n",
    "        regression1_val, u_regression1 = fehler_gauss(\n",
    "            regression1_formula,\n",
    "            [beta_symbol],\n",
    "            [df[f\"beta_{category}\"]],\n",
    "            [df[f\"u_beta_{category}\"]]\n",
    "        )\n",
    "        df[f\"1-1/beta_{category}\"] = regression1_val\n",
    "        df[f\"u_1-1/beta_{category}\"] = u_regression1\n",
    "\n",
    "        regression2_val, u_regression2 = fehler_gauss(\n",
    "            regression2_formula,\n",
    "            [beta_symbol],\n",
    "            [df[f\"beta_{category}\"]],\n",
    "            [df[f\"u_beta_{category}\"]]\n",
    "        )\n",
    "        df[f\"1-beta_{category}\"] = regression2_val\n",
    "        df[f\"u_1-beta_{category}\"] = u_regression2\n",
    "\n",
    "abbe_g_e"
   ]
  },
  {
   "cell_type": "code",
   "execution_count": 377,
   "metadata": {},
   "outputs": [
    {
     "name": "stdout",
     "output_type": "stream",
     "text": [
      "------------------------------------------------\n",
      "E-G\n",
      "f = 0.11 +- 0.02\n",
      "h1 = 0.00 +- 0.02\n",
      "f' = 0.15 +- 0.01\n",
      "h2 = -0.01 +- 0.04\n"
     ]
    },
    {
     "data": {
      "image/png": "[encoded data removed]",
      "text/plain": [
       "<Figure size 1200x600 with 2 Axes>"
      ]
     },
     "metadata": {},
     "output_type": "display_data"
    },
    {
     "name": "stdout",
     "output_type": "stream",
     "text": [
      "------------------------------------------------\n",
      "G-E\n",
      "f = 0.13 +- 0.02\n",
      "h1 = 0.04 +- 0.03\n",
      "f' = 0.16 +- 0.00\n",
      "h2 = -0.11 +- 0.02\n"
     ]
    },
    {
     "data": {
      "image/png": "[encoded data removed]",
      "text/plain": [
       "<Figure size 1200x600 with 2 Axes>"
      ]
     },
     "metadata": {},
     "output_type": "display_data"
    }
   ],
   "source": [
    "for df, name in [(abbe_e_g, \"E-G\"), (abbe_g_e, \"G-E\")]:\n",
    "    print(\"------------------------------------------------\")\n",
    "    print(name)\n",
    "    fig, axs = plt.subplots(1, 2, figsize=(12, 6))\n",
    "    axs = axs.flatten()\n",
    "\n",
    "    def linear(x, m, b):\n",
    "        return m * x + b\n",
    "\n",
    "    # g gegen 1-1/beta\n",
    "    popt, pcov = curve_fit(\n",
    "        linear,\n",
    "        df[\"1-1/beta_Vergroesserung\"],\n",
    "        df[\"g_Vergroesserung\"],\n",
    "    )\n",
    "    print(f\"f = {popt[0]:.2f} +- {np.sqrt(pcov[0, 0]):.2f}\")\n",
    "    print(f\"h1 = {popt[1]:.2f} +- {np.sqrt(pcov[1, 1]):.2f}\")\n",
    "    axs[0].errorbar(\n",
    "        df[\"1-1/beta_Vergroesserung\"],\n",
    "        df[\"g_Vergroesserung\"],\n",
    "        xerr=df[\"u_1-1/beta_Vergroesserung\"],\n",
    "        yerr=3e-3,\n",
    "        fmt=\"o\",\n",
    "    )\n",
    "    X = np.linspace(df[\"1-1/beta_Vergroesserung\"].min(), df[\"1-1/beta_Vergroesserung\"].max(), 100)\n",
    "    axs[0].plot(X, linear(X, *popt), label=f\"m={popt[0]:.2f}, b={popt[1]:.2f}\")\n",
    "    axs[0].grid()\n",
    "    axs[0].legend()\n",
    "    axs[0].set_xlabel(r\"$1 - \\frac{1}{\\beta}$\")\n",
    "    axs[0].set_ylabel(r\"$g$ [m]\")\n",
    "\n",
    "    # g' gegen 1-beta\n",
    "    popt, pcov = curve_fit(\n",
    "        linear,\n",
    "        df[\"1-beta_Vergroesserung\"],\n",
    "        df[\"g'_Vergroesserung\"],\n",
    "    )\n",
    "    print(f\"f' = {popt[0]:.2f} +- {np.sqrt(pcov[0, 0]):.2f}\")\n",
    "    print(f\"h2 = {popt[1]:.2f} +- {np.sqrt(pcov[1, 1]):.2f}\")\n",
    "    axs[1].errorbar(\n",
    "        df[\"1-beta_Vergroesserung\"],\n",
    "        df[\"g'_Vergroesserung\"],\n",
    "        xerr=df[\"u_1-beta_Vergroesserung\"],\n",
    "        yerr=3e-3,\n",
    "        fmt=\"o\",\n",
    "    )\n",
    "    X = np.linspace(df[\"1-beta_Vergroesserung\"].min(), df[\"1-beta_Vergroesserung\"].max(), 100)\n",
    "    axs[1].plot(X, linear(X, *popt), label=f\"m={popt[0]:.2f}, b={popt[1]:.2f}\")\n",
    "    axs[1].grid()\n",
    "    axs[1].legend()\n",
    "    axs[1].set_xlabel(r\"$1 - \\beta$\")\n",
    "    axs[1].set_ylabel(r\"$g'$ [m]\")\n",
    "    plt.show()"
   ]
  },
  {
   "cell_type": "code",
   "execution_count": null,
   "metadata": {},
   "outputs": [],
   "source": []
  }
 ],
 "metadata": {
  "kernelspec": {
   "display_name": "env",
   "language": "python",
   "name": "python3"
  },
  "language_info": {
   "codemirror_mode": {
    "name": "ipython",
    "version": 3
   },
   "file_extension": ".py",
   "mimetype": "text/x-python",
   "name": "python",
   "nbconvert_exporter": "python",
   "pygments_lexer": "ipython3",
   "version": "3.12.5"
  }
 },
 "nbformat": 4,
 "nbformat_minor": 2
}
