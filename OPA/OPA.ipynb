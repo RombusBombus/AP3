{
 "cells": [
  {
   "cell_type": "code",
   "execution_count": 1,
   "metadata": {},
   "outputs": [],
   "source": [
    "import numpy as np\n",
    "import pandas as pd"
   ]
  },
  {
   "cell_type": "markdown",
   "metadata": {},
   "source": [
    "## Linsentypen\n",
    "\n",
    "- A Sammellinse\n",
    "- B Sammellinse\n",
    "- G Sammellinse\n",
    "- E Streulinse"
   ]
  },
  {
   "cell_type": "markdown",
   "metadata": {},
   "source": [
    "## Allgemeine Settings"
   ]
  },
  {
   "cell_type": "code",
   "execution_count": 3,
   "metadata": {},
   "outputs": [],
   "source": [
    "pos_lampe = 0e-2\n",
    "u_pos_lampe = 0.1e-2\n",
    "\n",
    "pos_linse_a = 5e-2\n",
    "u_pos_linse_a = 0.1e-2\n",
    "\n",
    "pos_gitter = 20e-2\n",
    "u_pos_gitter = 0.1e-2"
   ]
  },
  {
   "cell_type": "markdown",
   "metadata": {},
   "source": [
    "## Autokollimationsmethode Einfachlinsen"
   ]
  },
  {
   "cell_type": "code",
   "execution_count": 4,
   "metadata": {},
   "outputs": [],
   "source": [
    "d_linse_spiegel = 3e-2\n",
    "u_d_linse_spiegel = 0.1e-2"
   ]
  },
  {
   "cell_type": "markdown",
   "metadata": {},
   "source": [
    "## Besselmethode Einfachlinsen"
   ]
  },
  {
   "cell_type": "code",
   "execution_count": null,
   "metadata": {},
   "outputs": [],
   "source": [
    "gittergroesse = 5e-3\n",
    "u_gittergroesse = 0.1e-2\n",
    "\n",
    "gittergroesse_schirm = 20e-3\n",
    "u_gittergroesse_schirm = 0.1e-3\n",
    "\n",
    "g_pos_schirm = 69.5e-2\n",
    "u_g_pos_schirm = 0.1e-2\n",
    "\n",
    "e_pos_schirm = 84.1e-2\n",
    "u_e_pos_schirm = 0.1e-2\n"
   ]
  },
  {
   "cell_type": "markdown",
   "metadata": {},
   "source": [
    "## Autokollimationsmethode Linsensysteme"
   ]
  },
  {
   "cell_type": "code",
   "execution_count": 3,
   "metadata": {},
   "outputs": [],
   "source": [
    "d_linse_spiegel = 3e-2\n",
    "u_d_linse_spiegel = 0.1e-2"
   ]
  },
  {
   "cell_type": "markdown",
   "metadata": {},
   "source": [
    "## Abbeverfahren Linsensysteme"
   ]
  },
  {
   "cell_type": "code",
   "execution_count": null,
   "metadata": {},
   "outputs": [],
   "source": []
  }
 ],
 "metadata": {
  "kernelspec": {
   "display_name": "env",
   "language": "python",
   "name": "python3"
  },
  "language_info": {
   "codemirror_mode": {
    "name": "ipython",
    "version": 3
   },
   "file_extension": ".py",
   "mimetype": "text/x-python",
   "name": "python",
   "nbconvert_exporter": "python",
   "pygments_lexer": "ipython3",
   "version": "3.13.1"
  }
 },
 "nbformat": 4,
 "nbformat_minor": 2
}
