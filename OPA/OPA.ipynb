{
 "cells": [
  {
   "cell_type": "code",
   "execution_count": 2,
   "metadata": {},
   "outputs": [],
   "source": [
    "import numpy as np\n",
    "import pandas as pd\n",
    "import sys\n",
    "sys.path.append('../')\n",
    "from utils.fehler_gauss import fehler_gauss, weighted_mean\n",
    "from sympy import *"
   ]
  },
  {
   "cell_type": "markdown",
   "metadata": {},
   "source": [
    "## Linsentypen\n",
    "\n",
    "- A Sammellinse\n",
    "- B Sammellinse\n",
    "- G Sammellinse\n",
    "- E Streulinse"
   ]
  },
  {
   "cell_type": "markdown",
   "metadata": {},
   "source": [
    "## Allgemeine Settings"
   ]
  },
  {
   "cell_type": "code",
   "execution_count": 3,
   "metadata": {},
   "outputs": [],
   "source": [
    "pos_lampe = 0e-2\n",
    "u_pos_lampe = 0.1e-2\n",
    "\n",
    "pos_linse_a = 5e-2\n",
    "u_pos_linse_a = 0.1e-2\n",
    "\n",
    "pos_gitter = 20e-2\n",
    "u_pos_gitter = 0.1e-2"
   ]
  },
  {
   "cell_type": "markdown",
   "metadata": {},
   "source": [
    "## Autokollimationsmethode Einfachlinsen\n",
    "\n",
    "Brennweite: $f' = \\frac{k + l -h}{2} \\approx \\frac{k + l}{2}$"
   ]
  },
  {
   "cell_type": "code",
   "execution_count": 4,
   "metadata": {},
   "outputs": [],
   "source": [
    "d_linse_spiegel = 3e-2\n",
    "u_d_linse_spiegel = 0.1e-2\n",
    "\n",
    "autokoll_einfach = pd.read_excel(\"OPA.xlsx\", sheet_name=\"AutokollimationEinfachlinsen\") * 1e-2 # importieren in meter\n",
    "u_autokoll_einfach = 0.3e-2 # ableseunsicherheit in meter\n",
    "\n",
    "k = autokoll_einfach - pos_gitter # abstand gitter - bildschirm\n",
    "l = k # abstand gitter - bildschirm umgedreht (nutzen einfach das Gleiche weil Gangsta)"
   ]
  },
  {
   "cell_type": "code",
   "execution_count": 5,
   "metadata": {},
   "outputs": [
    {
     "data": {
      "text/latex": [
       "$\\displaystyle \\frac{k}{2} + \\frac{l}{2}$"
      ],
      "text/plain": [
       "k/2 + l/2"
      ]
     },
     "execution_count": 5,
     "metadata": {},
     "output_type": "execute_result"
    }
   ],
   "source": [
    "# Typ A Unsicherheiten für die Abstände (korrigiert mit Student-t Verteilung)\n",
    "u_k_typ_a = k.std(ddof=1) * 0.51\n",
    "u_l_typ_a = l.std(ddof=1) * 0.51\n",
    "\n",
    "# Gaussche Fehlerfortpflanzung für die Brennweite\n",
    "k_symbol, l_symbol = symbols(\"k l\")\n",
    "brennweite_formula = (k_symbol + l_symbol) / 2\n",
    "brennweite_formula"
   ]
  },
  {
   "cell_type": "code",
   "execution_count": 6,
   "metadata": {},
   "outputs": [
    {
     "data": {
      "text/plain": [
       "G     7.50\n",
       "B    10.18\n",
       "dtype: float64"
      ]
     },
     "execution_count": 6,
     "metadata": {},
     "output_type": "execute_result"
    }
   ],
   "source": [
    "gesamtunsicherheit_k = np.sqrt(u_k_typ_a**2 + u_autokoll_einfach**2)\n",
    "gesamtunsicherheit_l = np.sqrt(u_l_typ_a**2 + u_autokoll_einfach**2)\n",
    "\n",
    "brennweite, u_brennweite = fehler_gauss(\n",
    "    brennweite_formula,\n",
    "    [k_symbol, l_symbol],\n",
    "    [k.mean(), l.mean()],\n",
    "    [gesamtunsicherheit_k, gesamtunsicherheit_l],\n",
    ")\n",
    "brennweite * 1e2 # brennweite in cm"
   ]
  },
  {
   "cell_type": "code",
   "execution_count": 7,
   "metadata": {},
   "outputs": [
    {
     "data": {
      "text/plain": [
       "G    0.215176\n",
       "B    0.214267\n",
       "dtype: float64"
      ]
     },
     "execution_count": 7,
     "metadata": {},
     "output_type": "execute_result"
    }
   ],
   "source": [
    "u_brennweite * 1e2 # unsicherheit in cm"
   ]
  },
  {
   "cell_type": "markdown",
   "metadata": {},
   "source": [
    "## Besselmethode Einfachlinsen\n",
    "\n",
    "$e = -a_1 + h + d + a_2' = -a_2 + h - d + a_1' = b_k - g_k$\n",
    "\n",
    "$b_k$ Position Schirm beim kleinen Bild\n",
    "\n",
    "$g$ Position Gitter\n",
    "\n",
    "$d = l_k - l_g$ Abstand zwischen den rechten Hauptebenen von kleinem zu großem Bild\n",
    "\n",
    "$l_k$ Position der Linse beim kleinen Bild\n",
    "\n",
    "$l_g$ Position der Linse beim großen Bild\n",
    "\n",
    "Brennweite $f' = \\frac{1}{4} \\cdot \\left[(e - h) - \\frac{d^2}{e - h} \\right] \\approx \\frac{1}{4} \\cdot \\left[e - \\frac{d^2}{e}\\right]$ (dünne Linse)"
   ]
  },
  {
   "cell_type": "code",
   "execution_count": 26,
   "metadata": {},
   "outputs": [
    {
     "data": {
      "text/html": [
       "<div>\n",
       "<style scoped>\n",
       "    .dataframe tbody tr th:only-of-type {\n",
       "        vertical-align: middle;\n",
       "    }\n",
       "\n",
       "    .dataframe tbody tr th {\n",
       "        vertical-align: top;\n",
       "    }\n",
       "\n",
       "    .dataframe thead th {\n",
       "        text-align: right;\n",
       "    }\n",
       "</style>\n",
       "<table border=\"1\" class=\"dataframe\">\n",
       "  <thead>\n",
       "    <tr style=\"text-align: right;\">\n",
       "      <th></th>\n",
       "      <th>G gross</th>\n",
       "      <th>G klein</th>\n",
       "      <th>E gross</th>\n",
       "      <th>E klein</th>\n",
       "    </tr>\n",
       "  </thead>\n",
       "  <tbody>\n",
       "    <tr>\n",
       "      <th>0</th>\n",
       "      <td>0.294</td>\n",
       "      <td>0.611</td>\n",
       "      <td>0.329</td>\n",
       "      <td>0.720</td>\n",
       "    </tr>\n",
       "    <tr>\n",
       "      <th>1</th>\n",
       "      <td>0.294</td>\n",
       "      <td>0.609</td>\n",
       "      <td>0.325</td>\n",
       "      <td>0.719</td>\n",
       "    </tr>\n",
       "    <tr>\n",
       "      <th>2</th>\n",
       "      <td>0.291</td>\n",
       "      <td>0.608</td>\n",
       "      <td>0.329</td>\n",
       "      <td>0.720</td>\n",
       "    </tr>\n",
       "    <tr>\n",
       "      <th>3</th>\n",
       "      <td>0.292</td>\n",
       "      <td>0.606</td>\n",
       "      <td>0.327</td>\n",
       "      <td>0.722</td>\n",
       "    </tr>\n",
       "    <tr>\n",
       "      <th>4</th>\n",
       "      <td>0.293</td>\n",
       "      <td>0.608</td>\n",
       "      <td>0.325</td>\n",
       "      <td>0.720</td>\n",
       "    </tr>\n",
       "  </tbody>\n",
       "</table>\n",
       "</div>"
      ],
      "text/plain": [
       "   G gross  G klein  E gross  E klein\n",
       "0    0.294    0.611    0.329    0.720\n",
       "1    0.294    0.609    0.325    0.719\n",
       "2    0.291    0.608    0.329    0.720\n",
       "3    0.292    0.606    0.327    0.722\n",
       "4    0.293    0.608    0.325    0.720"
      ]
     },
     "execution_count": 26,
     "metadata": {},
     "output_type": "execute_result"
    }
   ],
   "source": [
    "gittergroesse = 5e-3\n",
    "u_gittergroesse = 0.1e-2\n",
    "\n",
    "gittergroesse_schirm = 20e-3\n",
    "u_gittergroesse_schirm = 0.1e-3\n",
    "\n",
    "g_pos_schirm = 69.5e-2\n",
    "u_g_pos_schirm = 0.1e-2\n",
    "\n",
    "e_pos_schirm = 84.1e-2\n",
    "u_e_pos_schirm = 0.1e-2\n",
    "\n",
    "bessel_einfach = pd.read_excel(\"OPA.xlsx\", sheet_name=\"BesselEinfachlinsen\") * 1e-2 # in meter\n",
    "bessel_einfach"
   ]
  },
  {
   "cell_type": "code",
   "execution_count": 27,
   "metadata": {},
   "outputs": [
    {
     "data": {
      "text/latex": [
       "$\\displaystyle 0.25 b_{k} - 0.25 g - \\frac{0.25 \\left(- l_{g} + l_{k}\\right)^{2}}{b_{k} - g}$"
      ],
      "text/plain": [
       "0.25*b_k - 0.25*g - 0.25*(-l_g + l_k)**2/(b_k - g)"
      ]
     },
     "execution_count": 27,
     "metadata": {},
     "output_type": "execute_result"
    }
   ],
   "source": [
    "# gausssche Fehlerfortpflanzung für die Brennweite\n",
    "b_k_symbol, g_symbol = symbols(\"b_k g\")\n",
    "e = b_k_symbol - g_symbol\n",
    "\n",
    "l_k_symbol, l_g_symbol = symbols(\"l_k l_g\")\n",
    "d = l_k_symbol - l_g_symbol\n",
    "\n",
    "brennweite_formula = 1/4 * (e - d**2/e)\n",
    "brennweite_formula"
   ]
  },
  {
   "cell_type": "code",
   "execution_count": 30,
   "metadata": {},
   "outputs": [
    {
     "data": {
      "text/plain": [
       "(np.float64(7.344739640914351), np.float64(0.10323126960090592))"
      ]
     },
     "execution_count": 30,
     "metadata": {},
     "output_type": "execute_result"
    }
   ],
   "source": [
    "# Bessel für Linse G\n",
    "brennweiten_g, u_brennweiten_g = fehler_gauss(\n",
    "    brennweite_formula,\n",
    "    [b_k_symbol, g_symbol, l_k_symbol, l_g_symbol],\n",
    "    [\n",
    "        g_pos_schirm,\n",
    "        pos_gitter,\n",
    "        bessel_einfach[\"G klein\"],\n",
    "        bessel_einfach[\"G gross\"],\n",
    "    ],\n",
    "    [u_g_pos_schirm, u_pos_gitter, 5e-3, 5e-3],\n",
    ")\n",
    "brennweite_g, u_brennweite_g = weighted_mean(brennweiten_g, u_brennweiten_g)\n",
    "brennweite_g * 1e2, u_brennweite_g * 1e2 # Ergebnisse in cm"
   ]
  },
  {
   "cell_type": "code",
   "execution_count": 32,
   "metadata": {},
   "outputs": [
    {
     "data": {
      "text/plain": [
       "(np.float64(9.995497858863873), np.float64(0.0993978008322837))"
      ]
     },
     "execution_count": 32,
     "metadata": {},
     "output_type": "execute_result"
    }
   ],
   "source": [
    "# Bessel für Linse E\n",
    "brennweiten_e, u_brennweiten_e = fehler_gauss(\n",
    "    brennweite_formula,\n",
    "    [b_k_symbol, g_symbol, l_k_symbol, l_g_symbol],\n",
    "    [\n",
    "        e_pos_schirm,\n",
    "        pos_gitter,\n",
    "        bessel_einfach[\"E klein\"],\n",
    "        bessel_einfach[\"E gross\"],\n",
    "    ],\n",
    "    [u_e_pos_schirm, u_pos_gitter, 5e-3, 5e-3],\n",
    ")\n",
    "brennweite_e, u_brennweite_e = weighted_mean(brennweiten_e, u_brennweiten_e)\n",
    "brennweite_e * 1e2, u_brennweite_e * 1e2 # Ergebnisse in cm"
   ]
  },
  {
   "cell_type": "markdown",
   "metadata": {},
   "source": [
    "## Brennweite und Hauptebenenabstand Linsensystem mit Kombination aus Autokollimation und Bessel\n",
    "\n",
    "$p_{12}$ Absolutposition von Linse G\n",
    "\n",
    "### Autokollimation\n",
    "\n",
    "$k = p_1 - g$\n",
    "\n",
    "$l = p_2 - g$\n",
    "\n",
    "### Besselmethode\n",
    "\n",
    "$e = b_k - g$\n",
    "\n",
    "$d = l_k - l_g$\n",
    "\n",
    "### Insgesamt\n",
    "\n",
    "$f' = \\frac{1}{2} \\sqrt{(e - k - l)^2 - d^2}$\n",
    "\n",
    "$h = k + l - \\sqrt{(e - k - l)^2 - d^2}$"
   ]
  },
  {
   "cell_type": "code",
   "execution_count": 42,
   "metadata": {},
   "outputs": [
    {
     "data": {
      "text/html": [
       "<div>\n",
       "<style scoped>\n",
       "    .dataframe tbody tr th:only-of-type {\n",
       "        vertical-align: middle;\n",
       "    }\n",
       "\n",
       "    .dataframe tbody tr th {\n",
       "        vertical-align: top;\n",
       "    }\n",
       "\n",
       "    .dataframe thead th {\n",
       "        text-align: right;\n",
       "    }\n",
       "</style>\n",
       "<table border=\"1\" class=\"dataframe\">\n",
       "  <thead>\n",
       "    <tr style=\"text-align: right;\">\n",
       "      <th></th>\n",
       "      <th>G-E-Spiegel</th>\n",
       "      <th>E-G-Spiegel</th>\n",
       "    </tr>\n",
       "  </thead>\n",
       "  <tbody>\n",
       "    <tr>\n",
       "      <th>0</th>\n",
       "      <td>0.366</td>\n",
       "      <td>0.308</td>\n",
       "    </tr>\n",
       "    <tr>\n",
       "      <th>1</th>\n",
       "      <td>0.365</td>\n",
       "      <td>0.306</td>\n",
       "    </tr>\n",
       "    <tr>\n",
       "      <th>2</th>\n",
       "      <td>0.367</td>\n",
       "      <td>0.308</td>\n",
       "    </tr>\n",
       "    <tr>\n",
       "      <th>3</th>\n",
       "      <td>0.366</td>\n",
       "      <td>0.305</td>\n",
       "    </tr>\n",
       "    <tr>\n",
       "      <th>4</th>\n",
       "      <td>0.367</td>\n",
       "      <td>0.306</td>\n",
       "    </tr>\n",
       "  </tbody>\n",
       "</table>\n",
       "</div>"
      ],
      "text/plain": [
       "   G-E-Spiegel  E-G-Spiegel\n",
       "0        0.366        0.308\n",
       "1        0.365        0.306\n",
       "2        0.367        0.308\n",
       "3        0.366        0.305\n",
       "4        0.367        0.306"
      ]
     },
     "execution_count": 42,
     "metadata": {},
     "output_type": "execute_result"
    }
   ],
   "source": [
    "autokoll_linsensystem = pd.read_excel(\"OPA.xlsx\", sheet_name=\"AutokollimationLinsensystem\") * 1e-2 # in meter\n",
    "autokoll_linsensystem"
   ]
  },
  {
   "cell_type": "code",
   "execution_count": 54,
   "metadata": {},
   "outputs": [
    {
     "data": {
      "text/html": [
       "<div>\n",
       "<style scoped>\n",
       "    .dataframe tbody tr th:only-of-type {\n",
       "        vertical-align: middle;\n",
       "    }\n",
       "\n",
       "    .dataframe tbody tr th {\n",
       "        vertical-align: top;\n",
       "    }\n",
       "\n",
       "    .dataframe thead th {\n",
       "        text-align: right;\n",
       "    }\n",
       "</style>\n",
       "<table border=\"1\" class=\"dataframe\">\n",
       "  <thead>\n",
       "    <tr style=\"text-align: right;\">\n",
       "      <th></th>\n",
       "      <th>G-E-gross</th>\n",
       "      <th>G-E-klein</th>\n",
       "      <th>E-G-gross</th>\n",
       "      <th>E-G-klein</th>\n",
       "    </tr>\n",
       "  </thead>\n",
       "  <tbody>\n",
       "    <tr>\n",
       "      <th>0</th>\n",
       "      <td>0.392</td>\n",
       "      <td>0.941</td>\n",
       "      <td>0.339</td>\n",
       "      <td>0.847</td>\n",
       "    </tr>\n",
       "    <tr>\n",
       "      <th>1</th>\n",
       "      <td>0.391</td>\n",
       "      <td>0.944</td>\n",
       "      <td>0.342</td>\n",
       "      <td>0.848</td>\n",
       "    </tr>\n",
       "    <tr>\n",
       "      <th>2</th>\n",
       "      <td>0.393</td>\n",
       "      <td>0.940</td>\n",
       "      <td>0.342</td>\n",
       "      <td>0.851</td>\n",
       "    </tr>\n",
       "    <tr>\n",
       "      <th>3</th>\n",
       "      <td>0.394</td>\n",
       "      <td>0.940</td>\n",
       "      <td>0.337</td>\n",
       "      <td>0.851</td>\n",
       "    </tr>\n",
       "    <tr>\n",
       "      <th>4</th>\n",
       "      <td>0.394</td>\n",
       "      <td>0.944</td>\n",
       "      <td>0.341</td>\n",
       "      <td>0.850</td>\n",
       "    </tr>\n",
       "  </tbody>\n",
       "</table>\n",
       "</div>"
      ],
      "text/plain": [
       "   G-E-gross  G-E-klein  E-G-gross  E-G-klein\n",
       "0      0.392      0.941      0.339      0.847\n",
       "1      0.391      0.944      0.342      0.848\n",
       "2      0.393      0.940      0.342      0.851\n",
       "3      0.394      0.940      0.337      0.851\n",
       "4      0.394      0.944      0.341      0.850"
      ]
     },
     "execution_count": 54,
     "metadata": {},
     "output_type": "execute_result"
    }
   ],
   "source": [
    "g_e_pos_schirm = 107.5e-2\n",
    "u_g_e_pos_schirm = 0.1e-2\n",
    "\n",
    "e_g_pos_schirm = 104.6e-2\n",
    "u_e_g_pos_schirm = 0.1e-2\n",
    "\n",
    "bessel_linsensystem = pd.read_excel(\"OPA.xlsx\", sheet_name=\"BesselLinsensystem\") * 1e-2 # in meter\n",
    "bessel_linsensystem"
   ]
  },
  {
   "cell_type": "code",
   "execution_count": 55,
   "metadata": {},
   "outputs": [
    {
     "data": {
      "text/latex": [
       "$\\displaystyle 0.5 \\sqrt{- \\left(- l_{g} + l_{k}\\right)^{2} + \\left(b_{k} + g - p_{1} - p_{2}\\right)^{2}}$"
      ],
      "text/plain": [
       "0.5*sqrt(-(-l_g + l_k)**2 + (b_k + g - p_1 - p_2)**2)"
      ]
     },
     "execution_count": 55,
     "metadata": {},
     "output_type": "execute_result"
    }
   ],
   "source": [
    "# fehler gauss\n",
    "p1_symbol, p2_symbol, g_symbol = symbols(\"p_1 p_2 g\")\n",
    "k = p1_symbol - g_symbol\n",
    "l = p2_symbol - g_symbol\n",
    "brennweite_formula = 1/2 * sqrt((e - k - l)**2 - d**2)\n",
    "h_formula = k + l - sqrt((e - k - l)**2 - d**2)\n",
    "brennweite_formula"
   ]
  },
  {
   "cell_type": "code",
   "execution_count": 56,
   "metadata": {},
   "outputs": [
    {
     "data": {
      "text/latex": [
       "$\\displaystyle - 2 g + p_{1} + p_{2} - \\sqrt{- \\left(- l_{g} + l_{k}\\right)^{2} + \\left(b_{k} + g - p_{1} - p_{2}\\right)^{2}}$"
      ],
      "text/plain": [
       "-2*g + p_1 + p_2 - sqrt(-(-l_g + l_k)**2 + (b_k + g - p_1 - p_2)**2)"
      ]
     },
     "execution_count": 56,
     "metadata": {},
     "output_type": "execute_result"
    }
   ],
   "source": [
    "h_formula"
   ]
  },
  {
   "cell_type": "code",
   "execution_count": 70,
   "metadata": {},
   "outputs": [
    {
     "data": {
      "text/plain": [
       "(np.float64(13.168635809189059), np.float64(0.46570172679655597))"
      ]
     },
     "execution_count": 70,
     "metadata": {},
     "output_type": "execute_result"
    }
   ],
   "source": [
    "# Brennweite mit E G Schirm Konfiguration im Bessel\n",
    "brennweite_system, u_brennweite_system = fehler_gauss(\n",
    "    brennweite_formula,\n",
    "    [b_k_symbol, g_symbol, l_k_symbol, l_g_symbol, p1_symbol, p2_symbol],\n",
    "    [e_g_pos_schirm, pos_gitter, bessel_linsensystem[\"E-G-klein\"], bessel_linsensystem[\"E-G-gross\"], autokoll_linsensystem[\"E-G-Spiegel\"], autokoll_linsensystem[\"G-E-Spiegel\"]],\n",
    "    [u_e_g_pos_schirm, u_pos_gitter, 5e-3, 5e-3, 5e-3, 5e-3],\n",
    ")\n",
    "\n",
    "brennweite_system_e_g, u_brennweite_e_g = weighted_mean(brennweite_system, u_brennweite_system)\n",
    "brennweite_system_e_g * 1e2, u_brennweite_e_g * 1e2 # Ergebnisse in cm"
   ]
  },
  {
   "cell_type": "code",
   "execution_count": 71,
   "metadata": {},
   "outputs": [
    {
     "data": {
      "text/plain": [
       "(np.float64(12.383426871542818), np.float64(0.5262844151069097))"
      ]
     },
     "execution_count": 71,
     "metadata": {},
     "output_type": "execute_result"
    }
   ],
   "source": [
    "# Brennweite mit G E Schirm Konfiguration im Bessel\n",
    "brennweite_system, u_brennweite_system = fehler_gauss(\n",
    "    brennweite_formula,\n",
    "    [b_k_symbol, g_symbol, l_k_symbol, l_g_symbol, p1_symbol, p2_symbol],\n",
    "    [g_e_pos_schirm, pos_gitter, bessel_linsensystem[\"G-E-klein\"], bessel_linsensystem[\"G-E-gross\"], autokoll_linsensystem[\"E-G-Spiegel\"], autokoll_linsensystem[\"G-E-Spiegel\"]],\n",
    "    [u_g_e_pos_schirm, u_pos_gitter, 5e-3, 5e-3, 5e-3, 5e-3],\n",
    ")\n",
    "brennweite_system_g_e, u_brennweite_g_e = weighted_mean(brennweite_system, u_brennweite_system)\n",
    "brennweite_system_g_e * 1e2, u_brennweite_g_e * 1e2 # Ergebnisse in cm"
   ]
  },
  {
   "cell_type": "code",
   "execution_count": 79,
   "metadata": {},
   "outputs": [
    {
     "data": {
      "text/plain": [
       "(np.float64(0.9472449307991704), np.float64(1.195374620144803))"
      ]
     },
     "execution_count": 79,
     "metadata": {},
     "output_type": "execute_result"
    }
   ],
   "source": [
    "# Hauptebenenabstand mit E G Schirm Konfiguration im Bessel\n",
    "h_system, u_h_system = fehler_gauss(\n",
    "    h_formula,\n",
    "    [b_k_symbol, g_symbol, l_k_symbol, l_g_symbol, p1_symbol, p2_symbol],\n",
    "    [e_g_pos_schirm, pos_gitter, bessel_linsensystem[\"E-G-klein\"], bessel_linsensystem[\"E-G-gross\"], autokoll_linsensystem[\"E-G-Spiegel\"], autokoll_linsensystem[\"G-E-Spiegel\"]],\n",
    "    [u_e_g_pos_schirm, u_pos_gitter, 5e-3, 5e-3, 5e-3, 5e-3],\n",
    ")\n",
    "\n",
    "h_system_e_g, u_h_system_e_g = weighted_mean(h_system, u_h_system)\n",
    "h_system_e_g * 1e2, u_h_system_e_g * 1e2 # Ergebnisse in cm"
   ]
  },
  {
   "cell_type": "code",
   "execution_count": 80,
   "metadata": {},
   "outputs": [
    {
     "data": {
      "text/plain": [
       "(np.float64(10.74696348827484), np.float64(1.7896018826720688))"
      ]
     },
     "execution_count": 80,
     "metadata": {},
     "output_type": "execute_result"
    }
   ],
   "source": [
    "# Hauptebenenabstand mit G E Schirm Konfiguration im Bessel\n",
    "h_system, u_h_system = fehler_gauss(\n",
    "    h_formula,\n",
    "    [b_k_symbol, g_symbol, l_k_symbol, l_g_symbol, p1_symbol, p2_symbol],\n",
    "    [e_g_pos_schirm, pos_gitter, bessel_linsensystem[\"G-E-klein\"], bessel_linsensystem[\"G-E-gross\"], autokoll_linsensystem[\"E-G-Spiegel\"], autokoll_linsensystem[\"G-E-Spiegel\"]],\n",
    "    [u_e_g_pos_schirm, u_pos_gitter, 5e-3, 5e-3, 5e-3, 5e-3],\n",
    ")\n",
    "\n",
    "h_system_g_e, u_h_system_g_e = weighted_mean(h_system, u_h_system)\n",
    "h_system_g_e * 1e2, u_h_system_g_e * 1e2 # Ergebnisse in cm"
   ]
  },
  {
   "cell_type": "markdown",
   "metadata": {},
   "source": [
    "## Abbeverfahren Linsensysteme"
   ]
  },
  {
   "cell_type": "code",
   "execution_count": 9,
   "metadata": {},
   "outputs": [
    {
     "data": {
      "text/html": [
       "<div>\n",
       "<style scoped>\n",
       "    .dataframe tbody tr th:only-of-type {\n",
       "        vertical-align: middle;\n",
       "    }\n",
       "\n",
       "    .dataframe tbody tr th {\n",
       "        vertical-align: top;\n",
       "    }\n",
       "\n",
       "    .dataframe thead th {\n",
       "        text-align: right;\n",
       "    }\n",
       "</style>\n",
       "<table border=\"1\" class=\"dataframe\">\n",
       "  <thead>\n",
       "    <tr style=\"text-align: right;\">\n",
       "      <th></th>\n",
       "      <th>Schirm</th>\n",
       "      <th>Vergroesserung</th>\n",
       "      <th>Position G</th>\n",
       "      <th>Verkleinerung</th>\n",
       "      <th>Position G.1</th>\n",
       "    </tr>\n",
       "  </thead>\n",
       "  <tbody>\n",
       "    <tr>\n",
       "      <th>0</th>\n",
       "      <td>150</td>\n",
       "      <td>34.40</td>\n",
       "      <td>33.0</td>\n",
       "      <td>?</td>\n",
       "      <td>132.1</td>\n",
       "    </tr>\n",
       "    <tr>\n",
       "      <th>1</th>\n",
       "      <td>125</td>\n",
       "      <td>24.55</td>\n",
       "      <td>32.7</td>\n",
       "      <td>1</td>\n",
       "      <td>106.1</td>\n",
       "    </tr>\n",
       "    <tr>\n",
       "      <th>2</th>\n",
       "      <td>100</td>\n",
       "      <td>17.60</td>\n",
       "      <td>33.4</td>\n",
       "      <td>1.35</td>\n",
       "      <td>79.9</td>\n",
       "    </tr>\n",
       "    <tr>\n",
       "      <th>3</th>\n",
       "      <td>75</td>\n",
       "      <td>7.65</td>\n",
       "      <td>38.0</td>\n",
       "      <td>3.2</td>\n",
       "      <td>52.1</td>\n",
       "    </tr>\n",
       "  </tbody>\n",
       "</table>\n",
       "</div>"
      ],
      "text/plain": [
       "   Schirm  Vergroesserung  Position G Verkleinerung  Position G.1\n",
       "0     150           34.40        33.0             ?         132.1\n",
       "1     125           24.55        32.7             1         106.1\n",
       "2     100           17.60        33.4          1.35          79.9\n",
       "3      75            7.65        38.0           3.2          52.1"
      ]
     },
     "execution_count": 9,
     "metadata": {},
     "output_type": "execute_result"
    }
   ],
   "source": [
    "pos_schirm = 150e-2\n",
    "u_pos_schirm = 0.1e-2\n",
    "\n",
    "pd.read_excel(\"OPA.xlsx\", sheet_name=\"AbbeE-G-Schirm\")"
   ]
  },
  {
   "cell_type": "code",
   "execution_count": 8,
   "metadata": {},
   "outputs": [
    {
     "data": {
      "text/html": [
       "<div>\n",
       "<style scoped>\n",
       "    .dataframe tbody tr th:only-of-type {\n",
       "        vertical-align: middle;\n",
       "    }\n",
       "\n",
       "    .dataframe tbody tr th {\n",
       "        vertical-align: top;\n",
       "    }\n",
       "\n",
       "    .dataframe thead th {\n",
       "        text-align: right;\n",
       "    }\n",
       "</style>\n",
       "<table border=\"1\" class=\"dataframe\">\n",
       "  <thead>\n",
       "    <tr style=\"text-align: right;\">\n",
       "      <th></th>\n",
       "      <th>Schirm</th>\n",
       "      <th>Vergroesserung</th>\n",
       "      <th>Position G</th>\n",
       "      <th>Verkleinerung</th>\n",
       "      <th>Position G.1</th>\n",
       "    </tr>\n",
       "  </thead>\n",
       "  <tbody>\n",
       "    <tr>\n",
       "      <th>0</th>\n",
       "      <td>150</td>\n",
       "      <td>33.75</td>\n",
       "      <td>39.5</td>\n",
       "      <td>?</td>\n",
       "      <td>137.7</td>\n",
       "    </tr>\n",
       "    <tr>\n",
       "      <th>1</th>\n",
       "      <td>125</td>\n",
       "      <td>25.45</td>\n",
       "      <td>38.5</td>\n",
       "      <td>1.5</td>\n",
       "      <td>112.1</td>\n",
       "    </tr>\n",
       "    <tr>\n",
       "      <th>2</th>\n",
       "      <td>100</td>\n",
       "      <td>17.45</td>\n",
       "      <td>40.2</td>\n",
       "      <td>1.5</td>\n",
       "      <td>85.6</td>\n",
       "    </tr>\n",
       "    <tr>\n",
       "      <th>3</th>\n",
       "      <td>75</td>\n",
       "      <td>8.15</td>\n",
       "      <td>44.8</td>\n",
       "      <td>3.3</td>\n",
       "      <td>56.3</td>\n",
       "    </tr>\n",
       "  </tbody>\n",
       "</table>\n",
       "</div>"
      ],
      "text/plain": [
       "   Schirm  Vergroesserung  Position G Verkleinerung  Position G.1\n",
       "0     150           33.75        39.5             ?         137.7\n",
       "1     125           25.45        38.5           1.5         112.1\n",
       "2     100           17.45        40.2           1.5          85.6\n",
       "3      75            8.15        44.8           3.3          56.3"
      ]
     },
     "execution_count": 8,
     "metadata": {},
     "output_type": "execute_result"
    }
   ],
   "source": [
    "pd.read_excel(\"OPA.xlsx\", sheet_name=\"AbbeG-E-Schirm\")"
   ]
  },
  {
   "cell_type": "code",
   "execution_count": null,
   "metadata": {},
   "outputs": [],
   "source": []
  }
 ],
 "metadata": {
  "kernelspec": {
   "display_name": "env",
   "language": "python",
   "name": "python3"
  },
  "language_info": {
   "codemirror_mode": {
    "name": "ipython",
    "version": 3
   },
   "file_extension": ".py",
   "mimetype": "text/x-python",
   "name": "python",
   "nbconvert_exporter": "python",
   "pygments_lexer": "ipython3",
   "version": "3.12.5"
  }
 },
 "nbformat": 4,
 "nbformat_minor": 2
}
