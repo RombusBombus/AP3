{
 "cells": [
  {
   "cell_type": "code",
   "execution_count": 6,
   "metadata": {},
   "outputs": [],
   "source": [
    "import numpy as np\n",
    "import pandas as pd\n",
    "import matplotlib.pyplot as plt"
   ]
  },
  {
   "cell_type": "code",
   "execution_count": 7,
   "metadata": {},
   "outputs": [
    {
     "data": {
      "text/plain": [
       "[       n_A  N_A\n",
       " 0        0    6\n",
       " 1        1   14\n",
       " 2        2    9\n",
       " 3        3    7\n",
       " 4        4    3\n",
       " ...    ...  ...\n",
       " 1019  1019    0\n",
       " 1020  1020    0\n",
       " 1021  1021    0\n",
       " 1022  1022    0\n",
       " 1023  1023   91\n",
       " \n",
       " [1024 rows x 2 columns],\n",
       "        n_A  N_A\n",
       " 0        0   25\n",
       " 1        1   38\n",
       " 2        2   32\n",
       " 3        3   22\n",
       " 4        4   17\n",
       " ...    ...  ...\n",
       " 1019  1019    0\n",
       " 1020  1020    0\n",
       " 1021  1021    0\n",
       " 1022  1022    0\n",
       " 1023  1023   79\n",
       " \n",
       " [1024 rows x 2 columns],\n",
       "        n_A  N_A\n",
       " 0        0    2\n",
       " 1        1    3\n",
       " 2        2    0\n",
       " 3        3    1\n",
       " 4        4    0\n",
       " ...    ...  ...\n",
       " 1019  1019    0\n",
       " 1020  1020    0\n",
       " 1021  1021    0\n",
       " 1022  1022    0\n",
       " 1023  1023  103\n",
       " \n",
       " [1024 rows x 2 columns],\n",
       "       n_A#1  N_A#1\n",
       " 0         0      2\n",
       " 1         1      9\n",
       " 2         2      5\n",
       " 3         3      2\n",
       " 4         4      1\n",
       " ...     ...    ...\n",
       " 1019   1019      0\n",
       " 1020   1020      1\n",
       " 1021   1021      0\n",
       " 1022   1022      0\n",
       " 1023   1023   1009\n",
       " \n",
       " [1024 rows x 2 columns],\n",
       "       n_A#1  N_A#1\n",
       " 0         0     13\n",
       " 1         1      9\n",
       " 2         2      6\n",
       " 3         3      1\n",
       " 4         4      5\n",
       " ...     ...    ...\n",
       " 1019   1019      0\n",
       " 1020   1020      0\n",
       " 1021   1021      0\n",
       " 1022   1022      0\n",
       " 1023   1023   1006\n",
       " \n",
       " [1024 rows x 2 columns],\n",
       "       n_A#1  N_A#1\n",
       " 0         0      5\n",
       " 1         1      8\n",
       " 2         2      6\n",
       " 3         3      0\n",
       " 4         4      2\n",
       " ...     ...    ...\n",
       " 1019   1019      0\n",
       " 1020   1020      1\n",
       " 1021   1021      0\n",
       " 1022   1022      0\n",
       " 1023   1023   1016\n",
       " \n",
       " [1024 rows x 2 columns],\n",
       "       n_A#1  N_A#1\n",
       " 0         0      7\n",
       " 1         1     12\n",
       " 2         2     10\n",
       " 3         3      4\n",
       " 4         4      3\n",
       " ...     ...    ...\n",
       " 1019   1019      0\n",
       " 1020   1020      0\n",
       " 1021   1021      0\n",
       " 1022   1022      0\n",
       " 1023   1023    895\n",
       " \n",
       " [1024 rows x 2 columns],\n",
       "       n_A#1  N_A#1  n_A#2  N_A#2  n_A#3  N_A#3\n",
       " 0         0     40    NaN    NaN    NaN    NaN\n",
       " 1         1     28    NaN    NaN    NaN    NaN\n",
       " 2         2     25    NaN    NaN    NaN    NaN\n",
       " 3         3      8    NaN    NaN    NaN    NaN\n",
       " 4         4      8    NaN    NaN    NaN    NaN\n",
       " ...     ...    ...    ...    ...    ...    ...\n",
       " 1019   1019      0    NaN    NaN    NaN    NaN\n",
       " 1020   1020      0    NaN    NaN    NaN    NaN\n",
       " 1021   1021      0    NaN    NaN    NaN    NaN\n",
       " 1022   1022      0    NaN    NaN    NaN    NaN\n",
       " 1023   1023    409    NaN    NaN    NaN    NaN\n",
       " \n",
       " [1024 rows x 6 columns],\n",
       "       n_A#1  N_A#1  n_A#2  N_A#2  n_A#3  N_A#3\n",
       " 0         0     91    NaN    NaN    NaN    NaN\n",
       " 1         1     96    NaN    NaN    NaN    NaN\n",
       " 2         2     67    NaN    NaN    NaN    NaN\n",
       " 3         3     35    NaN    NaN    NaN    NaN\n",
       " 4         4     41    NaN    NaN    NaN    NaN\n",
       " ...     ...    ...    ...    ...    ...    ...\n",
       " 1019   1019      6    NaN    NaN    NaN    NaN\n",
       " 1020   1020      8    NaN    NaN    NaN    NaN\n",
       " 1021   1021      7    NaN    NaN    NaN    NaN\n",
       " 1022   1022      5    NaN    NaN    NaN    NaN\n",
       " 1023   1023   1519    NaN    NaN    NaN    NaN\n",
       " \n",
       " [1024 rows x 6 columns],\n",
       "       n_A#1  N_A#1  n_A#2  N_A#2  n_A#3  N_A#3\n",
       " 0         0      8    NaN    NaN    NaN    NaN\n",
       " 1         1      7    NaN    NaN    NaN    NaN\n",
       " 2         2      5    NaN    NaN    NaN    NaN\n",
       " 3         3      2    NaN    NaN    NaN    NaN\n",
       " 4         4      3    NaN    NaN    NaN    NaN\n",
       " ...     ...    ...    ...    ...    ...    ...\n",
       " 1019   1019      0    NaN    NaN    NaN    NaN\n",
       " 1020   1020      0    NaN    NaN    NaN    NaN\n",
       " 1021   1021      0    NaN    NaN    NaN    NaN\n",
       " 1022   1022      0    NaN    NaN    NaN    NaN\n",
       " 1023   1023    984    NaN    NaN    NaN    NaN\n",
       " \n",
       " [1024 rows x 6 columns]]"
      ]
     },
     "execution_count": 7,
     "metadata": {},
     "output_type": "execute_result"
    }
   ],
   "source": [
    "sheet_names = [\"Na22\", \"Cs\", \"Co\", \"Schutz\", \"Nackt\", \"K2CO3\", \"Melke die Molke\", \"Uranoxid\", \"Thor\", \"Pilze nur Pilze\"]\n",
    "sheets = [pd.read_excel(\"RAD.xlsx\", sheet_name=name) for name in sheet_names]\n",
    "\n",
    "sheets"
   ]
  },
  {
   "cell_type": "code",
   "execution_count": 13,
   "metadata": {},
   "outputs": [
    {
     "data": {
      "text/plain": [
       "[<matplotlib.lines.Line2D at 0x7f6fff0efed0>]"
      ]
     },
     "execution_count": 13,
     "metadata": {},
     "output_type": "execute_result"
    },
    {
     "data": {
      "image/png": "[encoded data removed]",
      "text/plain": [
       "<Figure size 640x480 with 1 Axes>"
      ]
     },
     "metadata": {},
     "output_type": "display_data"
    }
   ],
   "source": [
    "plt.plot(sheets[0][\"n_A\"], sheets[0][\"N_A\"])"
   ]
  },
  {
   "cell_type": "code",
   "execution_count": null,
   "metadata": {},
   "outputs": [],
   "source": []
  }
 ],
 "metadata": {
  "kernelspec": {
   "display_name": "env",
   "language": "python",
   "name": "python3"
  },
  "language_info": {
   "codemirror_mode": {
    "name": "ipython",
    "version": 3
   },
   "file_extension": ".py",
   "mimetype": "text/x-python",
   "name": "python",
   "nbconvert_exporter": "python",
   "pygments_lexer": "ipython3",
   "version": "3.13.1"
  }
 },
 "nbformat": 4,
 "nbformat_minor": 2
}
