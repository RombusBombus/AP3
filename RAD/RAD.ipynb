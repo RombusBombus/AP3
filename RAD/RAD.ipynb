{
 "cells": [
  {
   "cell_type": "code",
   "execution_count": 1,
   "metadata": {},
   "outputs": [
    {
     "data": {
      "text/html": [
       "<style>\n",
       "/*overwrite hard coded write background by vscode for ipywidges */\n",
       ".cell-output-ipywidget-background {\n",
       "background-color: transparent !important;\n",
       "}\n",
       "/*set widget foreground text and color of interactive widget to vs dark theme color */\n",
       ":root {\n",
       "--jp-widgets-color: var(--vscode-editor-foreground);\n",
       "--jp-widgets-font-size: var(--vscode-editor-font-size);\n",
       "}\n",
       "</style>\n"
      ],
      "text/plain": [
       "<IPython.core.display.HTML object>"
      ]
     },
     "metadata": {},
     "output_type": "display_data"
    }
   ],
   "source": [
    "%%html\n",
    "<style>\n",
    "/*overwrite hard coded write background by vscode for ipywidges */\n",
    ".cell-output-ipywidget-background {\n",
    "background-color: transparent !important;\n",
    "}\n",
    "/*set widget foreground text and color of interactive widget to vs dark theme color */\n",
    ":root {\n",
    "--jp-widgets-color: var(--vscode-editor-foreground);\n",
    "--jp-widgets-font-size: var(--vscode-editor-font-size);\n",
    "}\n",
    "</style>"
   ]
  },
  {
   "cell_type": "code",
   "execution_count": 35,
   "metadata": {},
   "outputs": [],
   "source": [
    "import numpy as np\n",
    "import pandas as pd\n",
    "import matplotlib.pyplot as plt\n",
    "from ipywidgets import interact\n",
    "from scipy.signal import find_peaks, peak_widths"
   ]
  },
  {
   "cell_type": "code",
   "execution_count": 36,
   "metadata": {},
   "outputs": [
    {
     "data": {
      "text/html": [
       "<div>\n",
       "<style scoped>\n",
       "    .dataframe tbody tr th:only-of-type {\n",
       "        vertical-align: middle;\n",
       "    }\n",
       "\n",
       "    .dataframe tbody tr th {\n",
       "        vertical-align: top;\n",
       "    }\n",
       "\n",
       "    .dataframe thead th {\n",
       "        text-align: right;\n",
       "    }\n",
       "</style>\n",
       "<table border=\"1\" class=\"dataframe\">\n",
       "  <thead>\n",
       "    <tr style=\"text-align: right;\">\n",
       "      <th></th>\n",
       "      <th></th>\n",
       "      <th>Events</th>\n",
       "    </tr>\n",
       "    <tr>\n",
       "      <th>level_0</th>\n",
       "      <th>Channel</th>\n",
       "      <th></th>\n",
       "    </tr>\n",
       "  </thead>\n",
       "  <tbody>\n",
       "    <tr>\n",
       "      <th rowspan=\"5\" valign=\"top\">Na22</th>\n",
       "      <th>0</th>\n",
       "      <td>6</td>\n",
       "    </tr>\n",
       "    <tr>\n",
       "      <th>1</th>\n",
       "      <td>14</td>\n",
       "    </tr>\n",
       "    <tr>\n",
       "      <th>2</th>\n",
       "      <td>9</td>\n",
       "    </tr>\n",
       "    <tr>\n",
       "      <th>3</th>\n",
       "      <td>7</td>\n",
       "    </tr>\n",
       "    <tr>\n",
       "      <th>4</th>\n",
       "      <td>3</td>\n",
       "    </tr>\n",
       "    <tr>\n",
       "      <th>...</th>\n",
       "      <th>...</th>\n",
       "      <td>...</td>\n",
       "    </tr>\n",
       "    <tr>\n",
       "      <th rowspan=\"5\" valign=\"top\">Pilze nur Pilze</th>\n",
       "      <th>1019</th>\n",
       "      <td>0</td>\n",
       "    </tr>\n",
       "    <tr>\n",
       "      <th>1020</th>\n",
       "      <td>0</td>\n",
       "    </tr>\n",
       "    <tr>\n",
       "      <th>1021</th>\n",
       "      <td>0</td>\n",
       "    </tr>\n",
       "    <tr>\n",
       "      <th>1022</th>\n",
       "      <td>0</td>\n",
       "    </tr>\n",
       "    <tr>\n",
       "      <th>1023</th>\n",
       "      <td>984</td>\n",
       "    </tr>\n",
       "  </tbody>\n",
       "</table>\n",
       "<p>10240 rows × 1 columns</p>\n",
       "</div>"
      ],
      "text/plain": [
       "                         Events\n",
       "level_0         Channel        \n",
       "Na22            0             6\n",
       "                1            14\n",
       "                2             9\n",
       "                3             7\n",
       "                4             3\n",
       "...                         ...\n",
       "Pilze nur Pilze 1019          0\n",
       "                1020          0\n",
       "                1021          0\n",
       "                1022          0\n",
       "                1023        984\n",
       "\n",
       "[10240 rows x 1 columns]"
      ]
     },
     "execution_count": 36,
     "metadata": {},
     "output_type": "execute_result"
    }
   ],
   "source": [
    "# sheets importieren\n",
    "sheet_names = [\n",
    "    \"Na22\",\n",
    "    \"Cs\",\n",
    "    \"Co\",\n",
    "    \"Schutz\",\n",
    "    \"Nackt\",\n",
    "    \"K2CO3\",\n",
    "    \"Melke die Molke\",\n",
    "    \"Uranoxid\",\n",
    "    \"Thor\",\n",
    "    \"Pilze nur Pilze\",\n",
    "]\n",
    "sheets = [pd.read_excel(\"RAD.xlsx\", sheet_name=name) for name in sheet_names]\n",
    "sheets = (\n",
    "    pd.concat(dict(zip(sheet_names, sheets)))\n",
    "    .drop(columns=[\"n_A#2\", \"N_A#2\", \"n_A#3\", \"N_A#3\"])\n",
    "    .rename(columns={\"n_A\": \"Channel\", \"N_A\": \"Events\"})\n",
    "    .reset_index()\n",
    "    .set_index([\"level_0\", \"Channel\"])\n",
    "    .drop(columns=\"level_1\")\n",
    ")\n",
    "sheets"
   ]
  },
  {
   "cell_type": "code",
   "execution_count": 55,
   "metadata": {},
   "outputs": [
    {
     "name": "stdout",
     "output_type": "stream",
     "text": [
      "[ 4.92708333 75.4714795  16.70553876 23.81349206]\n"
     ]
    },
    {
     "data": {
      "image/png": "[encoded data removed]",
      "text/plain": [
       "<Figure size 640x480 with 1 Axes>"
      ]
     },
     "metadata": {},
     "output_type": "display_data"
    }
   ],
   "source": [
    "# peaks finden\n",
    "series = \"Na22\"\n",
    "peaks = find_peaks(sheets.loc[series, \"Events\"], prominence=150)[0]\n",
    "# unsicherheiten bestimmen\n",
    "widths = peak_widths(sheets.loc[series, \"Events\"], peaks)[0]\n",
    "\n",
    "plt.plot(sheets.loc[series, \"Events\"])\n",
    "plt.plot(peaks, sheets.loc[series, \"Events\"][peaks], \"x\")\n",
    "plt.grid(True)\n",
    "plt.xlabel(\"Channel\")\n",
    "plt.ylabel(\"Events\")\n",
    "\n",
    "print(widths)"
   ]
  },
  {
   "cell_type": "code",
   "execution_count": null,
   "metadata": {},
   "outputs": [],
   "source": []
  }
 ],
 "metadata": {
  "kernelspec": {
   "display_name": "env",
   "language": "python",
   "name": "python3"
  },
  "language_info": {
   "codemirror_mode": {
    "name": "ipython",
    "version": 3
   },
   "file_extension": ".py",
   "mimetype": "text/x-python",
   "name": "python",
   "nbconvert_exporter": "python",
   "pygments_lexer": "ipython3",
   "version": "3.13.1"
  }
 },
 "nbformat": 4,
 "nbformat_minor": 2
}
