{
 "cells": [
  {
   "cell_type": "code",
   "execution_count": 57,
   "metadata": {},
   "outputs": [],
   "source": [
    "import pandas as pd\n",
    "import numpy as np\n",
    "import matplotlib.pyplot as plt\n",
    "from scipy.signal import find_peaks\n",
    "from ipywidgets import interact"
   ]
  },
  {
   "cell_type": "markdown",
   "metadata": {},
   "source": [
    "## Unsicherheiten"
   ]
  },
  {
   "cell_type": "code",
   "execution_count": 58,
   "metadata": {},
   "outputs": [],
   "source": [
    "u_U = 0.5e3\n",
    "u_I = 20e-6\n",
    "u_beta = np.deg2rad(0.05)\n",
    "\n",
    "sheet_names = [\n",
    "    \"NaCl\",\n",
    "    \"Zirkoniumfolie\",\n",
    "    \"NaCl gedreht\",\n",
    "    \"LiF\",\n",
    "    \"Variation Ströme bei LiF\",\n",
    "    \"Variation Spannung bei LiF\",\n",
    "]\n",
    "\n",
    "dfs = {}\n",
    "\n",
    "for sheet_name in sheet_names:\n",
    "    dfs[sheet_name] = pd.read_excel(\"XST.xlsx\", sheet_name=sheet_name)"
   ]
  },
  {
   "cell_type": "markdown",
   "metadata": {},
   "source": [
    "## Winkelunsicherheit"
   ]
  },
  {
   "cell_type": "code",
   "execution_count": null,
   "metadata": {},
   "outputs": [
    {
     "data": {
      "text/plain": [
       "<matplotlib.legend.Legend at 0x71072450a0d0>"
      ]
     },
     "execution_count": 119,
     "metadata": {},
     "output_type": "execute_result"
    }
   ],
   "source": [
    "# NaCl Daten\n",
    "nacl = dfs[\"NaCl\"]\n",
    "nacl.columns = [\"beta\", \"R\"]\n",
    "\n",
    "# Wiederholungsmessung NaCl\n",
    "nacl_gedreht = dfs[\"NaCl gedreht\"]\n",
    "nacl_gedreht.columns = [\"beta\", \"R\"]\n",
    "\n",
    "fig, axs = plt.subplots(1, 2, figsize=(15, 5))\n",
    "axs = axs.flatten()\n",
    "\n",
    "nacl.plot(x=\"beta\", y=\"R\", kind=\"line\", grid=True, ax=axs[0])\n",
    "axs[0].set_xlabel(r\"$\\beta$ [°]\")\n",
    "axs[0].set_ylabel(r\"$R$ [1/s]\")\n",
    "nacl_gedreht.plot(x=\"beta\", y=\"R\", kind=\"line\", grid=True, ax=axs[1])\n",
    "axs[1].set_xlabel(r\"$\\beta$ [°]\")\n",
    "axs[1].set_ylabel(r\"$R$ [1/s]\")\n",
    "\n",
    "peaks_idcs_nacl = [44, 52, 108, 125, 176, 201]\n",
    "peaks_idcs_nacl_gedreht = [44, 51]\n",
    "\n",
    "for peak_idx in peaks_idcs_nacl:\n",
    "    axs[0].axvline(x=nacl[\"beta\"][peak_idx], color=\"red\", linestyle=\"--\", label=\"Peak\")\n",
    "for peak_idx in peaks_idcs_nacl_gedreht:\n",
    "    axs[1].axvline(x=nacl_gedreht[\"beta\"][peak_idx], color=\"red\", linestyle=\"--\", label=\"Peak\")\n",
    "\n",
    "axs[0].legend([\"NaCl\", \"Peak\"])\n",
    "axs[1].legend([\"NaCl gedreht\", \"Peak\"])"
   ]
  },
  {
   "cell_type": "code",
   "execution_count": null,
   "metadata": {},
   "outputs": [],
   "source": []
  }
 ],
 "metadata": {
  "kernelspec": {
   "display_name": "env",
   "language": "python",
   "name": "python3"
  },
  "language_info": {
   "codemirror_mode": {
    "name": "ipython",
    "version": 3
   },
   "file_extension": ".py",
   "mimetype": "text/x-python",
   "name": "python",
   "nbconvert_exporter": "python",
   "pygments_lexer": "ipython3",
   "version": "3.13.1"
  }
 },
 "nbformat": 4,
 "nbformat_minor": 2
}
